{
  "nbformat": 4,
  "nbformat_minor": 0,
  "metadata": {
    "colab": {
      "provenance": []
    },
    "kernelspec": {
      "name": "python3",
      "display_name": "Python 3"
    },
    "language_info": {
      "name": "python"
    }
  },
  "cells": [
    {
      "cell_type": "code",
      "execution_count": null,
      "metadata": {
        "id": "5NT0NFxVzTMU"
      },
      "outputs": [],
      "source": [
        "#https://financialmodelingprep.com/api/v3/cash-flow-statement/AAPL?period=annual&apikey=RpORcGyD4rw6LGE0iaoiTqnmXe4rPnEb"
      ]
    },
    {
      "cell_type": "code",
      "source": [
        "from google.colab import drive\n",
        "drive.mount('/content/drive')"
      ],
      "metadata": {
        "colab": {
          "base_uri": "https://localhost:8080/"
        },
        "id": "YzLjAA2eTy_h",
        "outputId": "544d8bcc-ba76-488b-afb7-ea7f43305389"
      },
      "execution_count": null,
      "outputs": [
        {
          "output_type": "stream",
          "name": "stdout",
          "text": [
            "Drive already mounted at /content/drive; to attempt to forcibly remount, call drive.mount(\"/content/drive\", force_remount=True).\n"
          ]
        }
      ]
    },
    {
      "cell_type": "code",
      "source": [
        "def make_urls(sym):\n",
        "    symbol = sym\n",
        "    url_part1 = \"https://financialmodelingprep.com/api/v3/cash-flow-statement/\"\n",
        "    url_part3 = \"?period=annual&apikey=RpORcGyD4rw6LGE0iaoiTqnmXe4rPnEb\"\n",
        "    url = url_part1 +  symbol + url_part3\n",
        "    df= get_jsonparsed_data(url)\n",
        "    df1 = pd.DataFrame(df)\n",
        "\n",
        "\n",
        "    return df1"
      ],
      "metadata": {
        "id": "XnQhtAAfOstY"
      },
      "execution_count": null,
      "outputs": []
    },
    {
      "cell_type": "code",
      "source": [],
      "metadata": {
        "id": "tu_Oes8Bqs2b"
      },
      "execution_count": null,
      "outputs": []
    },
    {
      "cell_type": "code",
      "source": [
        "import pandas as pd"
      ],
      "metadata": {
        "id": "g7JyEL_2Wzzm"
      },
      "execution_count": null,
      "outputs": []
    },
    {
      "cell_type": "code",
      "source": [
        "try:\n",
        "    # For Python 3.0 and later\n",
        "    from urllib.request import urlopen\n",
        "except ImportError:\n",
        "    # Fall back to Python 2's urllib2\n",
        "    from urllib2 import urlopen"
      ],
      "metadata": {
        "id": "_zb8GagXXAOu"
      },
      "execution_count": null,
      "outputs": []
    },
    {
      "cell_type": "code",
      "source": [
        "import certifi\n",
        "import json\n",
        "import requests\n",
        "\n",
        "def get_jsonparsed_data(url):\n",
        "    response = urlopen(url, cafile=certifi.where())\n",
        "    data = response.read().decode(\"utf-8\")\n",
        "    return json.loads(data)"
      ],
      "metadata": {
        "id": "AALWeOFHW87G"
      },
      "execution_count": null,
      "outputs": []
    },
    {
      "cell_type": "code",
      "source": [
        "df= get_jsonparsed_data(\"https://financialmodelingprep.com/api/v3/cash-flow-statement/AAPL?period=annual&apikey=RpORcGyD4rw6LGE0iaoiTqnmXe4rPnEb\")\n"
      ],
      "metadata": {
        "colab": {
          "base_uri": "https://localhost:8080/"
        },
        "id": "xbZllSVqWpQN",
        "outputId": "39fa61a7-f7a5-470f-a705-8f8214cecbbc"
      },
      "execution_count": null,
      "outputs": [
        {
          "output_type": "stream",
          "name": "stderr",
          "text": [
            "<ipython-input-83-741814f48ef0>:6: DeprecationWarning: cafile, capath and cadefault are deprecated, use a custom context instead.\n",
            "  response = urlopen(url, cafile=certifi.where())\n"
          ]
        }
      ]
    },
    {
      "cell_type": "code",
      "source": [
        "df1 = pd.DataFrame(df)"
      ],
      "metadata": {
        "id": "rvIoMTzlWv8O"
      },
      "execution_count": null,
      "outputs": []
    },
    {
      "cell_type": "code",
      "source": [],
      "metadata": {
        "colab": {
          "base_uri": "https://localhost:8080/"
        },
        "id": "zzVIYXoaWzH-",
        "outputId": "2f666d43-554d-48c5-b615-cb0a2890b37a",
        "collapsed": true
      },
      "execution_count": null,
      "outputs": [
        {
          "output_type": "stream",
          "name": "stdout",
          "text": [
            "          date symbol reportedCurrency         cik fillingDate  \\\n",
            "0   2023-09-30   AAPL              USD  0000320193  2023-11-03   \n",
            "1   2022-09-24   AAPL              USD  0000320193  2022-10-28   \n",
            "2   2021-09-25   AAPL              USD  0000320193  2021-10-29   \n",
            "3   2020-09-26   AAPL              USD  0000320193  2020-10-30   \n",
            "4   2019-09-28   AAPL              USD  0000320193  2019-10-31   \n",
            "5   2018-09-29   AAPL              USD  0000320193  2018-11-05   \n",
            "6   2017-09-30   AAPL              USD  0000320193  2017-11-03   \n",
            "7   2016-09-24   AAPL              USD  0000320193  2016-10-26   \n",
            "8   2015-09-26   AAPL              USD  0000320193  2015-10-28   \n",
            "9   2014-09-27   AAPL              USD  0000320193  2014-10-27   \n",
            "10  2013-09-28   AAPL              USD  0000320193  2013-10-30   \n",
            "11  2012-09-29   AAPL              USD  0000320193  2012-10-31   \n",
            "12  2011-09-24   AAPL              USD  0000320193  2011-10-26   \n",
            "13  2010-09-25   AAPL              USD  0000320193  2010-10-27   \n",
            "14  2009-09-26   AAPL              USD  0000320193  2009-10-27   \n",
            "15  2008-09-27   AAPL              USD  0000320193  2008-11-05   \n",
            "16  2007-09-29   AAPL              USD  0000320193  2007-11-15   \n",
            "17  2006-09-30   AAPL              USD  0000320193  2006-12-29   \n",
            "18  2005-09-24   AAPL              USD  0000320193  2005-12-01   \n",
            "19  2004-09-25   AAPL              USD  0000320193  2004-12-03   \n",
            "20  2003-09-27   AAPL              USD  0000320193  2003-12-19   \n",
            "21  2002-09-28   AAPL              USD  0000320193  2002-12-19   \n",
            "22  2001-09-29   AAPL              USD  0000320193  2001-12-21   \n",
            "23  2000-09-30   AAPL              USD  0000320193  2000-12-14   \n",
            "24  1999-09-25   AAPL              USD  0000320193  1999-12-22   \n",
            "25  1998-09-25   AAPL              USD  0000320193  1998-12-23   \n",
            "26  1997-09-26   AAPL              USD  0000320193  1997-12-05   \n",
            "27  1996-09-27   AAPL              USD  0000320193  1996-12-19   \n",
            "28  1995-09-29   AAPL              USD  0000320193  1995-12-19   \n",
            "29  1994-09-30   AAPL              USD  0000320193  1994-12-13   \n",
            "30  1993-09-30   AAPL              USD  0000320193  1993-09-30   \n",
            "31  1992-09-30   AAPL              USD  0000320193  1992-09-30   \n",
            "32  1991-09-30   AAPL              USD  0000320193  1991-09-30   \n",
            "33  1990-09-30   AAPL              USD  0000320193  1990-09-30   \n",
            "34  1989-09-30   AAPL              USD  0000320193  1989-09-30   \n",
            "\n",
            "           acceptedDate calendarYear period    netIncome  \\\n",
            "0   2023-11-02 18:08:27         2023     FY  96995000000   \n",
            "1   2022-10-27 18:01:14         2022     FY  99803000000   \n",
            "2   2021-10-28 18:04:28         2021     FY  94680000000   \n",
            "3   2020-10-29 18:06:25         2020     FY  57411000000   \n",
            "4   2019-10-30 18:12:36         2019     FY  55256000000   \n",
            "5   2018-11-05 08:01:40         2018     FY  59531000000   \n",
            "6   2017-11-03 08:01:37         2017     FY  48351000000   \n",
            "7   2016-10-26 16:42:16         2016     FY  45687000000   \n",
            "8   2015-10-28 16:31:09         2015     FY  53394000000   \n",
            "9   2014-10-27 17:11:55         2014     FY  39510000000   \n",
            "10  2013-10-29 20:38:28         2013     FY  37037000000   \n",
            "11  2012-10-31 17:07:19         2012     FY  41733000000   \n",
            "12  2011-10-26 16:35:25         2011     FY  25922000000   \n",
            "13  2010-10-27 16:36:21         2010     FY  14013000000   \n",
            "14  2009-10-27 16:18:29         2009     FY   8235000000   \n",
            "15  2008-11-05 06:16:23         2008     FY   6119000000   \n",
            "16  2007-11-15 16:49:37         2007     FY   3496000000   \n",
            "17  2006-12-29 06:05:58         2006     FY   1989000000   \n",
            "18  2005-11-30 21:22:48         2005     FY   1328000000   \n",
            "19  2004-12-02 18:05:49         2004     FY    266000000   \n",
            "20  2003-12-19 17:25:45         2003     FY     68000000   \n",
            "21  2002-12-19 17:20:21         2002     FY     65000000   \n",
            "22  2001-12-21 00:00:00         2001     FY    -37000000   \n",
            "23  2000-12-14 00:00:00         2000     FY    786000000   \n",
            "24  1999-12-22 00:00:00         1999     FY    601000000   \n",
            "25  1998-12-23 00:00:00         1998     FY    309000000   \n",
            "26  1997-12-05 00:00:00         1997     FY  -1045000000   \n",
            "27  1996-12-19 00:00:00         1996     FY   -816000000   \n",
            "28  1995-12-19 00:00:00         1995     FY    424000000   \n",
            "29  1994-12-13 00:00:00         1994     FY    310000000   \n",
            "30  1993-09-30 00:00:00         1993     FY     87000000   \n",
            "31  1992-09-30 00:00:00         1992     FY    530373000   \n",
            "32  1991-09-30 00:00:00         1991     FY    309800000   \n",
            "33  1990-09-30 00:00:00         1990     FY    474900000   \n",
            "34  1989-09-30 00:00:00         1989     FY    454000000   \n",
            "\n",
            "    depreciationAndAmortization  ...  \\\n",
            "0                   11519000000  ...   \n",
            "1                   11104000000  ...   \n",
            "2                   11284000000  ...   \n",
            "3                   11056000000  ...   \n",
            "4                   12547000000  ...   \n",
            "5                   10903000000  ...   \n",
            "6                   10157000000  ...   \n",
            "7                   10505000000  ...   \n",
            "8                   11257000000  ...   \n",
            "9                    7946000000  ...   \n",
            "10                   6757000000  ...   \n",
            "11                   3277000000  ...   \n",
            "12                   1814000000  ...   \n",
            "13                   1027000000  ...   \n",
            "14                    734000000  ...   \n",
            "15                    496000000  ...   \n",
            "16                    317000000  ...   \n",
            "17                    225000000  ...   \n",
            "18                    179000000  ...   \n",
            "19                    150000000  ...   \n",
            "20                    113000000  ...   \n",
            "21                    114000000  ...   \n",
            "22                    100000000  ...   \n",
            "23                     84000000  ...   \n",
            "24                     85000000  ...   \n",
            "25                    111000000  ...   \n",
            "26                    118000000  ...   \n",
            "27                    116000000  ...   \n",
            "28                    127000000  ...   \n",
            "29                    168000000  ...   \n",
            "30                    166000000  ...   \n",
            "31                    217182000  ...   \n",
            "32                    204400000  ...   \n",
            "33                    202700000  ...   \n",
            "34                    124800000  ...   \n",
            "\n",
            "    netCashUsedProvidedByFinancingActivities  effectOfForexChangesOnCash  \\\n",
            "0                              -108488000000                           0   \n",
            "1                              -110749000000                           0   \n",
            "2                               -93353000000                           0   \n",
            "3                               -86820000000                           0   \n",
            "4                               -90976000000                           0   \n",
            "5                               -87876000000                           0   \n",
            "6                               -17974000000                           0   \n",
            "7                               -20890000000                           0   \n",
            "8                               -17716000000                           0   \n",
            "9                               -37549000000                           0   \n",
            "10                              -16379000000                           0   \n",
            "11                               -1698000000                           0   \n",
            "12                                1444000000                           0   \n",
            "13                                1257000000                           0   \n",
            "14                                 663000000                           0   \n",
            "15                                1116000000                           0   \n",
            "16                                 739000000                           0   \n",
            "17                                 324000000                           0   \n",
            "18                                 543000000                           0   \n",
            "19                                 127000000                           0   \n",
            "20                                  27000000                           0   \n",
            "21                                 105000000                           0   \n",
            "22                                  42000000                           0   \n",
            "23                                 -31000000                           0   \n",
            "24                                  11000000                           0   \n",
            "25                                  19000000                           0   \n",
            "26                                  23000000                           0   \n",
            "27                                 396000000                           0   \n",
            "28                                 195000000                           0   \n",
            "29                                -208000000                           0   \n",
            "30                                 336000000                           0   \n",
            "31                                -113929000                           0   \n",
            "32                                  42500000                           0   \n",
            "33                                -454000000                           0   \n",
            "34                                 -38300000                           0   \n",
            "\n",
            "    netChangeInCash  cashAtEndOfPeriod  cashAtBeginningOfPeriod  \\\n",
            "0        5760000000        30737000000              24977000000   \n",
            "1      -10952000000        24977000000              35929000000   \n",
            "2       -3860000000        35929000000              39789000000   \n",
            "3      -10435000000        39789000000              50224000000   \n",
            "4       24311000000        50224000000              25913000000   \n",
            "5        5624000000        25913000000              20289000000   \n",
            "6        -195000000        20289000000              20484000000   \n",
            "7        -636000000        20484000000              21120000000   \n",
            "8        7276000000        21120000000              13844000000   \n",
            "9        -415000000        13844000000              14259000000   \n",
            "10       3513000000        14259000000              10746000000   \n",
            "11        931000000        10746000000               9815000000   \n",
            "12      -1446000000         9815000000              11261000000   \n",
            "13       5998000000        11261000000               5263000000   \n",
            "14      -6612000000         5263000000              11875000000   \n",
            "15       2523000000        11875000000               9352000000   \n",
            "16       2960000000         9352000000               6392000000   \n",
            "17       2901000000         6392000000               3491000000   \n",
            "18        522000000         3491000000               2969000000   \n",
            "19       -427000000         2969000000               3396000000   \n",
            "20       1144000000         3396000000               2252000000   \n",
            "21        -58000000         2252000000               2310000000   \n",
            "22       1119000000         2310000000               1191000000   \n",
            "23       -135000000         1191000000               1326000000   \n",
            "24       -155000000         1326000000               1481000000   \n",
            "25        251000000         1481000000               1230000000   \n",
            "26       -322000000         1230000000               1552000000   \n",
            "27        796000000         1552000000                756000000   \n",
            "28       -447000000          756000000               1203000000   \n",
            "29        527075000         1203488000                676413000   \n",
            "30        177900000          676500000                498600000   \n",
            "31       -105600000          498500000                604100000   \n",
            "32        229500000          604200000                374700000   \n",
            "33        -63600000          374700000                438300000   \n",
            "34         65900000          438300000                372400000   \n",
            "\n",
            "    operatingCashFlow  capitalExpenditure  freeCashFlow  \\\n",
            "0        110543000000        -10959000000   99584000000   \n",
            "1        122151000000        -10708000000  111443000000   \n",
            "2        104038000000        -11085000000   92953000000   \n",
            "3         80674000000         -7309000000   73365000000   \n",
            "4         69391000000        -10495000000   58896000000   \n",
            "5         77434000000        -13313000000   64121000000   \n",
            "6         63598000000        -12795000000   50803000000   \n",
            "7         65824000000        -13548000000   52276000000   \n",
            "8         81266000000        -11488000000   69778000000   \n",
            "9         59713000000         -9813000000   49900000000   \n",
            "10        53666000000         -9076000000   44590000000   \n",
            "11        50856000000         -9402000000   41454000000   \n",
            "12        37529000000         -7452000000   30077000000   \n",
            "13        18595000000         -2121000000   16474000000   \n",
            "14        10159000000         -1213000000    8946000000   \n",
            "15         9596000000         -1199000000    8397000000   \n",
            "16         5470000000          -986000000    4484000000   \n",
            "17         2220000000          -657000000    1563000000   \n",
            "18         2535000000          -260000000    2275000000   \n",
            "19          934000000          -176000000     758000000   \n",
            "20          289000000          -164000000     125000000   \n",
            "21           89000000          -174000000     -85000000   \n",
            "22          185000000          -232000000     -47000000   \n",
            "23          826000000          -107000000     719000000   \n",
            "24          798000000           -47000000     751000000   \n",
            "25          775000000           -56000000     719000000   \n",
            "26          188000000           -53000000     135000000   \n",
            "27          519000000           -67000000     452000000   \n",
            "28         -240000000          -159000000    -399000000   \n",
            "29          736995000          -159587000     577408000   \n",
            "30         -661800000          -213100000    -874900000   \n",
            "31          883700000          -194900000     688800000   \n",
            "32          128700000          -218300000     -89600000   \n",
            "33          963900000          -224300000     739600000   \n",
            "34          507300000          -239000000     268300000   \n",
            "\n",
            "                                                 link  \\\n",
            "0   https://www.sec.gov/Archives/edgar/data/320193...   \n",
            "1   https://www.sec.gov/Archives/edgar/data/320193...   \n",
            "2   https://www.sec.gov/Archives/edgar/data/320193...   \n",
            "3   https://www.sec.gov/Archives/edgar/data/320193...   \n",
            "4   https://www.sec.gov/Archives/edgar/data/320193...   \n",
            "5   https://www.sec.gov/Archives/edgar/data/320193...   \n",
            "6   https://www.sec.gov/Archives/edgar/data/320193...   \n",
            "7   https://www.sec.gov/Archives/edgar/data/320193...   \n",
            "8   https://www.sec.gov/Archives/edgar/data/320193...   \n",
            "9   https://www.sec.gov/Archives/edgar/data/320193...   \n",
            "10  https://www.sec.gov/Archives/edgar/data/320193...   \n",
            "11  https://www.sec.gov/Archives/edgar/data/320193...   \n",
            "12  https://www.sec.gov/Archives/edgar/data/320193...   \n",
            "13  https://www.sec.gov/Archives/edgar/data/320193...   \n",
            "14  https://www.sec.gov/Archives/edgar/data/320193...   \n",
            "15  https://www.sec.gov/Archives/edgar/data/320193...   \n",
            "16  https://www.sec.gov/Archives/edgar/data/320193...   \n",
            "17  https://www.sec.gov/Archives/edgar/data/320193...   \n",
            "18  https://www.sec.gov/Archives/edgar/data/320193...   \n",
            "19  https://www.sec.gov/Archives/edgar/data/320193...   \n",
            "20  https://www.sec.gov/Archives/edgar/data/320193...   \n",
            "21  https://www.sec.gov/Archives/edgar/data/320193...   \n",
            "22  https://www.sec.gov/Archives/edgar/data/320193...   \n",
            "23  https://www.sec.gov/Archives/edgar/data/320193...   \n",
            "24  https://www.sec.gov/Archives/edgar/data/320193...   \n",
            "25  https://www.sec.gov/Archives/edgar/data/320193...   \n",
            "26  https://www.sec.gov/Archives/edgar/data/320193...   \n",
            "27  https://www.sec.gov/Archives/edgar/data/320193...   \n",
            "28  https://www.sec.gov/Archives/edgar/data/320193...   \n",
            "29  https://www.sec.gov/Archives/edgar/data/320193...   \n",
            "30                                               None   \n",
            "31                                               None   \n",
            "32                                               None   \n",
            "33                                               None   \n",
            "34                                               None   \n",
            "\n",
            "                                            finalLink  \n",
            "0   https://www.sec.gov/Archives/edgar/data/320193...  \n",
            "1   https://www.sec.gov/Archives/edgar/data/320193...  \n",
            "2   https://www.sec.gov/Archives/edgar/data/320193...  \n",
            "3   https://www.sec.gov/Archives/edgar/data/320193...  \n",
            "4   https://www.sec.gov/Archives/edgar/data/320193...  \n",
            "5   https://www.sec.gov/Archives/edgar/data/320193...  \n",
            "6   https://www.sec.gov/Archives/edgar/data/320193...  \n",
            "7   https://www.sec.gov/Archives/edgar/data/320193...  \n",
            "8   https://www.sec.gov/Archives/edgar/data/320193...  \n",
            "9   https://www.sec.gov/Archives/edgar/data/320193...  \n",
            "10  https://www.sec.gov/Archives/edgar/data/320193...  \n",
            "11  https://www.sec.gov/Archives/edgar/data/320193...  \n",
            "12  https://www.sec.gov/Archives/edgar/data/320193...  \n",
            "13  https://www.sec.gov/Archives/edgar/data/320193...  \n",
            "14  https://www.sec.gov/Archives/edgar/data/320193...  \n",
            "15  https://www.sec.gov/Archives/edgar/data/320193...  \n",
            "16  https://www.sec.gov/Archives/edgar/data/320193...  \n",
            "17  https://www.sec.gov/Archives/edgar/data/320193...  \n",
            "18  https://www.sec.gov/Archives/edgar/data/320193...  \n",
            "19  https://www.sec.gov/Archives/edgar/data/320193...  \n",
            "20  https://www.sec.gov/Archives/edgar/data/320193...  \n",
            "21  https://www.sec.gov/Archives/edgar/data/320193...  \n",
            "22  https://www.sec.gov/Archives/edgar/data/320193...  \n",
            "23  https://www.sec.gov/Archives/edgar/data/320193...  \n",
            "24  https://www.sec.gov/Archives/edgar/data/320193...  \n",
            "25  https://www.sec.gov/Archives/edgar/data/320193...  \n",
            "26  https://www.sec.gov/Archives/edgar/data/320193...  \n",
            "27  https://www.sec.gov/Archives/edgar/data/320193...  \n",
            "28  https://www.sec.gov/Archives/edgar/data/320193...  \n",
            "29  https://www.sec.gov/Archives/edgar/data/320193...  \n",
            "30                                               None  \n",
            "31                                               None  \n",
            "32                                               None  \n",
            "33                                               None  \n",
            "34                                               None  \n",
            "\n",
            "[35 rows x 40 columns]\n"
          ]
        }
      ]
    },
    {
      "cell_type": "code",
      "source": [
        "print(df1.info())\n",
        "\n",
        "# Display the first few rows of the DataFrame\n",
        "print(df1.head())\n",
        "\n",
        "# Descriptive statistics\n",
        "print(df1.describe())"
      ],
      "metadata": {
        "id": "U4bfu8p4Tt80",
        "outputId": "da742485-a00d-49be-8a08-02e9e258cd2d",
        "colab": {
          "base_uri": "https://localhost:8080/"
        },
        "collapsed": true
      },
      "execution_count": null,
      "outputs": [
        {
          "output_type": "stream",
          "name": "stdout",
          "text": [
            "<class 'pandas.core.frame.DataFrame'>\n",
            "RangeIndex: 35 entries, 0 to 34\n",
            "Data columns (total 40 columns):\n",
            " #   Column                                    Non-Null Count  Dtype \n",
            "---  ------                                    --------------  ----- \n",
            " 0   date                                      35 non-null     object\n",
            " 1   symbol                                    35 non-null     object\n",
            " 2   reportedCurrency                          35 non-null     object\n",
            " 3   cik                                       35 non-null     object\n",
            " 4   fillingDate                               35 non-null     object\n",
            " 5   acceptedDate                              35 non-null     object\n",
            " 6   calendarYear                              35 non-null     object\n",
            " 7   period                                    35 non-null     object\n",
            " 8   netIncome                                 35 non-null     int64 \n",
            " 9   depreciationAndAmortization               35 non-null     int64 \n",
            " 10  deferredIncomeTax                         35 non-null     int64 \n",
            " 11  stockBasedCompensation                    35 non-null     int64 \n",
            " 12  changeInWorkingCapital                    35 non-null     int64 \n",
            " 13  accountsReceivables                       35 non-null     int64 \n",
            " 14  inventory                                 35 non-null     int64 \n",
            " 15  accountsPayables                          35 non-null     int64 \n",
            " 16  otherWorkingCapital                       35 non-null     int64 \n",
            " 17  otherNonCashItems                         35 non-null     int64 \n",
            " 18  netCashProvidedByOperatingActivities      35 non-null     int64 \n",
            " 19  investmentsInPropertyPlantAndEquipment    35 non-null     int64 \n",
            " 20  acquisitionsNet                           35 non-null     int64 \n",
            " 21  purchasesOfInvestments                    35 non-null     int64 \n",
            " 22  salesMaturitiesOfInvestments              35 non-null     int64 \n",
            " 23  otherInvestingActivites                   35 non-null     int64 \n",
            " 24  netCashUsedForInvestingActivites          35 non-null     int64 \n",
            " 25  debtRepayment                             35 non-null     int64 \n",
            " 26  commonStockIssued                         35 non-null     int64 \n",
            " 27  commonStockRepurchased                    35 non-null     int64 \n",
            " 28  dividendsPaid                             35 non-null     int64 \n",
            " 29  otherFinancingActivites                   35 non-null     int64 \n",
            " 30  netCashUsedProvidedByFinancingActivities  35 non-null     int64 \n",
            " 31  effectOfForexChangesOnCash                35 non-null     int64 \n",
            " 32  netChangeInCash                           35 non-null     int64 \n",
            " 33  cashAtEndOfPeriod                         35 non-null     int64 \n",
            " 34  cashAtBeginningOfPeriod                   35 non-null     int64 \n",
            " 35  operatingCashFlow                         35 non-null     int64 \n",
            " 36  capitalExpenditure                        35 non-null     int64 \n",
            " 37  freeCashFlow                              35 non-null     int64 \n",
            " 38  link                                      30 non-null     object\n",
            " 39  finalLink                                 30 non-null     object\n",
            "dtypes: int64(30), object(10)\n",
            "memory usage: 11.1+ KB\n",
            "None\n",
            "         date symbol reportedCurrency         cik fillingDate  \\\n",
            "0  2023-09-30   AAPL              USD  0000320193  2023-11-03   \n",
            "1  2022-09-24   AAPL              USD  0000320193  2022-10-28   \n",
            "2  2021-09-25   AAPL              USD  0000320193  2021-10-29   \n",
            "3  2020-09-26   AAPL              USD  0000320193  2020-10-30   \n",
            "4  2019-09-28   AAPL              USD  0000320193  2019-10-31   \n",
            "\n",
            "          acceptedDate calendarYear period    netIncome  \\\n",
            "0  2023-11-02 18:08:27         2023     FY  96995000000   \n",
            "1  2022-10-27 18:01:14         2022     FY  99803000000   \n",
            "2  2021-10-28 18:04:28         2021     FY  94680000000   \n",
            "3  2020-10-29 18:06:25         2020     FY  57411000000   \n",
            "4  2019-10-30 18:12:36         2019     FY  55256000000   \n",
            "\n",
            "   depreciationAndAmortization  ...  netCashUsedProvidedByFinancingActivities  \\\n",
            "0                  11519000000  ...                             -108488000000   \n",
            "1                  11104000000  ...                             -110749000000   \n",
            "2                  11284000000  ...                              -93353000000   \n",
            "3                  11056000000  ...                              -86820000000   \n",
            "4                  12547000000  ...                              -90976000000   \n",
            "\n",
            "   effectOfForexChangesOnCash  netChangeInCash  cashAtEndOfPeriod  \\\n",
            "0                           0       5760000000        30737000000   \n",
            "1                           0     -10952000000        24977000000   \n",
            "2                           0      -3860000000        35929000000   \n",
            "3                           0     -10435000000        39789000000   \n",
            "4                           0      24311000000        50224000000   \n",
            "\n",
            "   cashAtBeginningOfPeriod  operatingCashFlow  capitalExpenditure  \\\n",
            "0              24977000000       110543000000        -10959000000   \n",
            "1              35929000000       122151000000        -10708000000   \n",
            "2              39789000000       104038000000        -11085000000   \n",
            "3              50224000000        80674000000         -7309000000   \n",
            "4              25913000000        69391000000        -10495000000   \n",
            "\n",
            "   freeCashFlow                                               link  \\\n",
            "0   99584000000  https://www.sec.gov/Archives/edgar/data/320193...   \n",
            "1  111443000000  https://www.sec.gov/Archives/edgar/data/320193...   \n",
            "2   92953000000  https://www.sec.gov/Archives/edgar/data/320193...   \n",
            "3   73365000000  https://www.sec.gov/Archives/edgar/data/320193...   \n",
            "4   58896000000  https://www.sec.gov/Archives/edgar/data/320193...   \n",
            "\n",
            "                                           finalLink  \n",
            "0  https://www.sec.gov/Archives/edgar/data/320193...  \n",
            "1  https://www.sec.gov/Archives/edgar/data/320193...  \n",
            "2  https://www.sec.gov/Archives/edgar/data/320193...  \n",
            "3  https://www.sec.gov/Archives/edgar/data/320193...  \n",
            "4  https://www.sec.gov/Archives/edgar/data/320193...  \n",
            "\n",
            "[5 rows x 40 columns]\n",
            "          netIncome  depreciationAndAmortization  deferredIncomeTax  \\\n",
            "count  3.500000e+01                 3.500000e+01       3.500000e+01   \n",
            "mean   2.266506e+10                 3.580145e+09      -3.096886e+08   \n",
            "std    3.124499e+10                 4.846647e+09       5.897233e+09   \n",
            "min   -1.045000e+09                 8.400000e+07      -3.259000e+10   \n",
            "25%    3.099000e+08                 1.259000e+08      -1.900000e+07   \n",
            "50%    1.989000e+09                 2.250000e+08       5.300000e+07   \n",
            "75%    4.371000e+10                 9.051500e+09       9.675000e+08   \n",
            "max    9.980300e+10                 1.254700e+10       5.966000e+09   \n",
            "\n",
            "       stockBasedCompensation  changeInWorkingCapital  accountsReceivables  \\\n",
            "count            3.500000e+01            3.500000e+01         3.500000e+01   \n",
            "mean             1.980057e+09            1.678981e+09        -8.386579e+08   \n",
            "std              3.017597e+09            6.659189e+09         2.578773e+09   \n",
            "min              0.000000e+00           -6.577000e+09        -1.012500e+10   \n",
            "25%              0.000000e+00           -2.620000e+08        -1.313500e+09   \n",
            "50%              1.630000e+08            2.480000e+08        -1.990000e+08   \n",
            "75%              3.224500e+09            1.280500e+09         1.075000e+08   \n",
            "max              1.083300e+10            3.469400e+10         6.917000e+09   \n",
            "\n",
            "          inventory  accountsPayables  otherWorkingCapital  otherNonCashItems  \\\n",
            "count  3.500000e+01      3.500000e+01         3.500000e+01       3.500000e+01   \n",
            "mean  -1.853612e+08      1.883310e+09         8.196899e+08       5.983457e+08   \n",
            "std    8.294220e+08      3.628832e+09         5.947651e+09       4.509286e+09   \n",
            "min   -2.723000e+09     -4.062000e+09        -9.073000e+09      -4.921000e+09   \n",
            "25%   -2.635000e+08      1.700000e+07        -1.025500e+08      -5.000000e+04   \n",
            "50%   -3.400000e+07      2.970000e+08         5.800000e+07       0.000000e+00   \n",
            "75%    1.057290e+08      2.427500e+09         3.515000e+08       1.150000e+07   \n",
            "max    1.484000e+09      1.232600e+10         3.001300e+10       2.592200e+10   \n",
            "\n",
            "       ...  dividendsPaid  otherFinancingActivites  \\\n",
            "count  ...   3.500000e+01             3.500000e+01   \n",
            "mean   ...  -4.208708e+09             4.745457e+08   \n",
            "std    ...   6.199860e+09             2.136508e+09   \n",
            "min    ...  -1.502500e+10            -5.301000e+09   \n",
            "25%    ...  -1.134350e+10             0.000000e+00   \n",
            "50%    ...  -5.380000e+07             0.000000e+00   \n",
            "75%    ...   0.000000e+00             6.225000e+08   \n",
            "max    ...   0.000000e+00             7.775000e+09   \n",
            "\n",
            "       netCashUsedProvidedByFinancingActivities  effectOfForexChangesOnCash  \\\n",
            "count                              3.500000e+01                        35.0   \n",
            "mean                              -1.954011e+10                         0.0   \n",
            "std                                3.665581e+10                         0.0   \n",
            "min                               -1.107490e+11                         0.0   \n",
            "25%                               -1.784500e+10                         0.0   \n",
            "50%                                1.100000e+07                         0.0   \n",
            "75%                                2.595000e+08                         0.0   \n",
            "max                                1.444000e+09                         0.0   \n",
            "\n",
            "       netChangeInCash  cashAtEndOfPeriod  cashAtBeginningOfPeriod  \\\n",
            "count     3.500000e+01       3.500000e+01             3.500000e+01   \n",
            "mean      8.675764e+08       1.108625e+10             1.021867e+10   \n",
            "std       5.556546e+09       1.294617e+10             1.260347e+10   \n",
            "min      -1.095200e+10       3.747000e+08             3.724000e+08   \n",
            "25%      -3.685000e+08       1.278000e+09             1.216500e+09   \n",
            "50%       1.779000e+08       5.263000e+09             3.491000e+09   \n",
            "75%       1.833500e+09       1.727400e+10             1.405150e+10   \n",
            "max       2.431100e+10       5.022400e+10             5.022400e+10   \n",
            "\n",
            "       operatingCashFlow  capitalExpenditure  freeCashFlow  \n",
            "count       3.500000e+01        3.500000e+01  3.500000e+01  \n",
            "mean        2.949085e+10       -4.181805e+09  2.530905e+10  \n",
            "std         3.867466e+10        5.137938e+09  3.398042e+10  \n",
            "min        -6.618000e+08       -1.354800e+10 -8.749000e+08  \n",
            "25%         6.279975e+08       -9.607500e+09  5.147040e+08  \n",
            "50%         2.535000e+09       -6.570000e+08  2.275000e+09  \n",
            "75%         6.165550e+10       -1.750000e+08  5.035150e+10  \n",
            "max         1.221510e+11       -4.700000e+07  1.114430e+11  \n",
            "\n",
            "[8 rows x 30 columns]\n"
          ]
        }
      ]
    },
    {
      "cell_type": "code",
      "source": [
        "print(df1[['date','freeCashFlow','symbol']])"
      ],
      "metadata": {
        "colab": {
          "base_uri": "https://localhost:8080/"
        },
        "collapsed": true,
        "id": "sBaZib-uuJ5T",
        "outputId": "7c604616-6268-4311-8eb9-a5af77ee3614"
      },
      "execution_count": null,
      "outputs": [
        {
          "output_type": "stream",
          "name": "stdout",
          "text": [
            "          date  freeCashFlow symbol\n",
            "0   2023-09-30   99584000000   AAPL\n",
            "1   2022-09-24  111443000000   AAPL\n",
            "2   2021-09-25   92953000000   AAPL\n",
            "3   2020-09-26   73365000000   AAPL\n",
            "4   2019-09-28   58896000000   AAPL\n",
            "5   2018-09-29   64121000000   AAPL\n",
            "6   2017-09-30   50803000000   AAPL\n",
            "7   2016-09-24   52276000000   AAPL\n",
            "8   2015-09-26   69778000000   AAPL\n",
            "9   2014-09-27   49900000000   AAPL\n",
            "10  2013-09-28   44590000000   AAPL\n",
            "11  2012-09-29   41454000000   AAPL\n",
            "12  2011-09-24   30077000000   AAPL\n",
            "13  2010-09-25   16474000000   AAPL\n",
            "14  2009-09-26    8946000000   AAPL\n",
            "15  2008-09-27    8397000000   AAPL\n",
            "16  2007-09-29    4484000000   AAPL\n",
            "17  2006-09-30    1563000000   AAPL\n",
            "18  2005-09-24    2275000000   AAPL\n",
            "19  2004-09-25     758000000   AAPL\n",
            "20  2003-09-27     125000000   AAPL\n",
            "21  2002-09-28     -85000000   AAPL\n",
            "22  2001-09-29     -47000000   AAPL\n",
            "23  2000-09-30     719000000   AAPL\n",
            "24  1999-09-25     751000000   AAPL\n",
            "25  1998-09-25     719000000   AAPL\n",
            "26  1997-09-26     135000000   AAPL\n",
            "27  1996-09-27     452000000   AAPL\n",
            "28  1995-09-29    -399000000   AAPL\n",
            "29  1994-09-30     577408000   AAPL\n",
            "30  1993-09-30    -874900000   AAPL\n",
            "31  1992-09-30     688800000   AAPL\n",
            "32  1991-09-30     -89600000   AAPL\n",
            "33  1990-09-30     739600000   AAPL\n",
            "34  1989-09-30     268300000   AAPL\n"
          ]
        }
      ]
    },
    {
      "cell_type": "code",
      "source": [
        "df = df1[['date','freeCashFlow','symbol']]"
      ],
      "metadata": {
        "id": "9i8fGYZeBRd0"
      },
      "execution_count": null,
      "outputs": []
    },
    {
      "cell_type": "code",
      "source": [
        "print(df)"
      ],
      "metadata": {
        "colab": {
          "base_uri": "https://localhost:8080/"
        },
        "collapsed": true,
        "id": "geDARrQfBS4k",
        "outputId": "38fe7f5f-dad0-4d1c-80c9-ca8f21aee910"
      },
      "execution_count": null,
      "outputs": [
        {
          "output_type": "stream",
          "name": "stdout",
          "text": [
            "          date  freeCashFlow symbol\n",
            "0   2023-09-30   99584000000   AAPL\n",
            "1   2022-09-24  111443000000   AAPL\n",
            "2   2021-09-25   92953000000   AAPL\n",
            "3   2020-09-26   73365000000   AAPL\n",
            "4   2019-09-28   58896000000   AAPL\n",
            "5   2018-09-29   64121000000   AAPL\n",
            "6   2017-09-30   50803000000   AAPL\n",
            "7   2016-09-24   52276000000   AAPL\n",
            "8   2015-09-26   69778000000   AAPL\n",
            "9   2014-09-27   49900000000   AAPL\n",
            "10  2013-09-28   44590000000   AAPL\n",
            "11  2012-09-29   41454000000   AAPL\n",
            "12  2011-09-24   30077000000   AAPL\n",
            "13  2010-09-25   16474000000   AAPL\n",
            "14  2009-09-26    8946000000   AAPL\n",
            "15  2008-09-27    8397000000   AAPL\n",
            "16  2007-09-29    4484000000   AAPL\n",
            "17  2006-09-30    1563000000   AAPL\n",
            "18  2005-09-24    2275000000   AAPL\n",
            "19  2004-09-25     758000000   AAPL\n",
            "20  2003-09-27     125000000   AAPL\n",
            "21  2002-09-28     -85000000   AAPL\n",
            "22  2001-09-29     -47000000   AAPL\n",
            "23  2000-09-30     719000000   AAPL\n",
            "24  1999-09-25     751000000   AAPL\n",
            "25  1998-09-25     719000000   AAPL\n",
            "26  1997-09-26     135000000   AAPL\n",
            "27  1996-09-27     452000000   AAPL\n",
            "28  1995-09-29    -399000000   AAPL\n",
            "29  1994-09-30     577408000   AAPL\n",
            "30  1993-09-30    -874900000   AAPL\n",
            "31  1992-09-30     688800000   AAPL\n",
            "32  1991-09-30     -89600000   AAPL\n",
            "33  1990-09-30     739600000   AAPL\n",
            "34  1989-09-30     268300000   AAPL\n"
          ]
        }
      ]
    },
    {
      "cell_type": "code",
      "source": [
        "# Convert 'date' column to datetime\n",
        "df['date'] = pd.to_datetime(df['date'])\n",
        "\n",
        "# Display the original DataFrame\n",
        "print(\"Original DataFrame:\")\n",
        "#print(df)\n",
        "\n",
        "# Define the date range\n",
        "start_date = '2014-01-01'\n",
        "end_date = '2023-12-12'\n",
        "\n",
        "# Filter the DataFrame based on the date range\n",
        "mask = (df['date'] >= start_date) & (df['date'] <= end_date)\n",
        "filtered_df = df.loc[mask]\n",
        "print(filtered_df)"
      ],
      "metadata": {
        "colab": {
          "base_uri": "https://localhost:8080/"
        },
        "collapsed": true,
        "id": "yk7S49rkAu5V",
        "outputId": "eef32368-fcfd-4bc6-f1a3-a4b3bc0f2e4e"
      },
      "execution_count": null,
      "outputs": [
        {
          "output_type": "stream",
          "name": "stdout",
          "text": [
            "Original DataFrame:\n",
            "        date  freeCashFlow symbol\n",
            "0 2023-09-30   99584000000   AAPL\n",
            "1 2022-09-24  111443000000   AAPL\n",
            "2 2021-09-25   92953000000   AAPL\n",
            "3 2020-09-26   73365000000   AAPL\n",
            "4 2019-09-28   58896000000   AAPL\n",
            "5 2018-09-29   64121000000   AAPL\n",
            "6 2017-09-30   50803000000   AAPL\n",
            "7 2016-09-24   52276000000   AAPL\n",
            "8 2015-09-26   69778000000   AAPL\n",
            "9 2014-09-27   49900000000   AAPL\n"
          ]
        },
        {
          "output_type": "stream",
          "name": "stderr",
          "text": [
            "<ipython-input-91-8998ea41cfa2>:2: SettingWithCopyWarning: \n",
            "A value is trying to be set on a copy of a slice from a DataFrame.\n",
            "Try using .loc[row_indexer,col_indexer] = value instead\n",
            "\n",
            "See the caveats in the documentation: https://pandas.pydata.org/pandas-docs/stable/user_guide/indexing.html#returning-a-view-versus-a-copy\n",
            "  df['date'] = pd.to_datetime(df['date'])\n"
          ]
        }
      ]
    },
    {
      "cell_type": "code",
      "source": [
        "# columns = ['date','freeCashFlow','symbol']\n",
        "#    resulting_df = pd.DataFrame(columns=columns)\n",
        "#    resulting_df = pd.concat([resulting_df, df_joined], ignore_index=True)"
      ],
      "metadata": {
        "id": "XKrqqTLSYm8m"
      },
      "execution_count": null,
      "outputs": []
    },
    {
      "cell_type": "code",
      "source": [
        "#resulting_df.to_csv('/mnt/data/sriram.kovela/embeddings/' + sym +'.csv')"
      ],
      "metadata": {
        "id": "SsSOQpRzHhS1"
      },
      "execution_count": null,
      "outputs": []
    },
    {
      "cell_type": "code",
      "source": [
        "df_embed = pd.read_csv('/content/drive/MyDrive/embeddings/full_df.csv')\n",
        "actual_tickers = list(set(df_embed['symbol'].to_list()))\n",
        "len(actual_tickers)\n",
        "\n"
      ],
      "metadata": {
        "colab": {
          "base_uri": "https://localhost:8080/"
        },
        "collapsed": true,
        "id": "eB9rl9y8SBoW",
        "outputId": "39aa6b91-09af-4588-f12b-8b082e7a6cb3"
      },
      "execution_count": null,
      "outputs": [
        {
          "output_type": "execute_result",
          "data": {
            "text/plain": [
              "322"
            ]
          },
          "metadata": {},
          "execution_count": 94
        }
      ]
    },
    {
      "cell_type": "code",
      "source": [
        "columns = ['date','freeCashFlow','symbol']\n",
        "resulting_df = pd.DataFrame(columns=columns)\n",
        "\n",
        "\n",
        "for ticker in actual_tickers:\n",
        "    df_new = make_urls(ticker)\n",
        "    df_new['date'] = pd.to_datetime(df_new['date'])\n",
        "\n",
        "    # Display the original DataFrame\n",
        "    print(\"Original DataFrame:\")\n",
        "    #print(df)\n",
        "\n",
        "    # Define the date range\n",
        "    start_date = '2014-01-01'\n",
        "    end_date = '2023-12-12'\n",
        "\n",
        "    # Filter the DataFrame based on the date range\n",
        "    mask = (df_new['date'] >= start_date) & (df_new['date'] <= end_date)\n",
        "    filtered_df = df_new.loc[mask]\n",
        "    filt_subset = filtered_df[columns]\n",
        "    #print(filtered_df)\n",
        "    resulting_df = pd.concat([resulting_df, filt_subset], ignore_index=True)\n",
        "\n",
        "\n",
        "resulting_df.to_csv('/content/drive/MyDrive/embeddings/cashflow_df.csv', index=False)\n"
      ],
      "metadata": {
        "id": "lijJNS9STw3L",
        "colab": {
          "base_uri": "https://localhost:8080/"
        },
        "outputId": "24729d7b-3c41-45ee-a6bd-09acf6fa51ee"
      },
      "execution_count": null,
      "outputs": [
        {
          "output_type": "stream",
          "name": "stderr",
          "text": [
            "<ipython-input-83-741814f48ef0>:6: DeprecationWarning: cafile, capath and cadefault are deprecated, use a custom context instead.\n",
            "  response = urlopen(url, cafile=certifi.where())\n"
          ]
        },
        {
          "output_type": "stream",
          "name": "stdout",
          "text": [
            "Original DataFrame:\n"
          ]
        },
        {
          "output_type": "stream",
          "name": "stderr",
          "text": [
            "<ipython-input-95-56d0689582f5>:22: FutureWarning: The behavior of DataFrame concatenation with empty or all-NA entries is deprecated. In a future version, this will no longer exclude empty or all-NA columns when determining the result dtypes. To retain the old behavior, exclude the relevant entries before the concat operation.\n",
            "  resulting_df = pd.concat([resulting_df, filt_subset], ignore_index=True)\n",
            "<ipython-input-83-741814f48ef0>:6: DeprecationWarning: cafile, capath and cadefault are deprecated, use a custom context instead.\n",
            "  response = urlopen(url, cafile=certifi.where())\n"
          ]
        },
        {
          "output_type": "stream",
          "name": "stdout",
          "text": [
            "Original DataFrame:\n"
          ]
        },
        {
          "output_type": "stream",
          "name": "stderr",
          "text": [
            "<ipython-input-83-741814f48ef0>:6: DeprecationWarning: cafile, capath and cadefault are deprecated, use a custom context instead.\n",
            "  response = urlopen(url, cafile=certifi.where())\n"
          ]
        },
        {
          "output_type": "stream",
          "name": "stdout",
          "text": [
            "Original DataFrame:\n"
          ]
        },
        {
          "output_type": "stream",
          "name": "stderr",
          "text": [
            "<ipython-input-83-741814f48ef0>:6: DeprecationWarning: cafile, capath and cadefault are deprecated, use a custom context instead.\n",
            "  response = urlopen(url, cafile=certifi.where())\n"
          ]
        },
        {
          "output_type": "stream",
          "name": "stdout",
          "text": [
            "Original DataFrame:\n"
          ]
        },
        {
          "output_type": "stream",
          "name": "stderr",
          "text": [
            "<ipython-input-83-741814f48ef0>:6: DeprecationWarning: cafile, capath and cadefault are deprecated, use a custom context instead.\n",
            "  response = urlopen(url, cafile=certifi.where())\n"
          ]
        },
        {
          "output_type": "stream",
          "name": "stdout",
          "text": [
            "Original DataFrame:\n"
          ]
        },
        {
          "output_type": "stream",
          "name": "stderr",
          "text": [
            "<ipython-input-83-741814f48ef0>:6: DeprecationWarning: cafile, capath and cadefault are deprecated, use a custom context instead.\n",
            "  response = urlopen(url, cafile=certifi.where())\n"
          ]
        },
        {
          "output_type": "stream",
          "name": "stdout",
          "text": [
            "Original DataFrame:\n"
          ]
        },
        {
          "output_type": "stream",
          "name": "stderr",
          "text": [
            "<ipython-input-83-741814f48ef0>:6: DeprecationWarning: cafile, capath and cadefault are deprecated, use a custom context instead.\n",
            "  response = urlopen(url, cafile=certifi.where())\n"
          ]
        },
        {
          "output_type": "stream",
          "name": "stdout",
          "text": [
            "Original DataFrame:\n"
          ]
        },
        {
          "output_type": "stream",
          "name": "stderr",
          "text": [
            "<ipython-input-83-741814f48ef0>:6: DeprecationWarning: cafile, capath and cadefault are deprecated, use a custom context instead.\n",
            "  response = urlopen(url, cafile=certifi.where())\n"
          ]
        },
        {
          "output_type": "stream",
          "name": "stdout",
          "text": [
            "Original DataFrame:\n"
          ]
        },
        {
          "output_type": "stream",
          "name": "stderr",
          "text": [
            "<ipython-input-83-741814f48ef0>:6: DeprecationWarning: cafile, capath and cadefault are deprecated, use a custom context instead.\n",
            "  response = urlopen(url, cafile=certifi.where())\n"
          ]
        },
        {
          "output_type": "stream",
          "name": "stdout",
          "text": [
            "Original DataFrame:\n"
          ]
        },
        {
          "output_type": "stream",
          "name": "stderr",
          "text": [
            "<ipython-input-83-741814f48ef0>:6: DeprecationWarning: cafile, capath and cadefault are deprecated, use a custom context instead.\n",
            "  response = urlopen(url, cafile=certifi.where())\n"
          ]
        },
        {
          "output_type": "stream",
          "name": "stdout",
          "text": [
            "Original DataFrame:\n"
          ]
        },
        {
          "output_type": "stream",
          "name": "stderr",
          "text": [
            "<ipython-input-83-741814f48ef0>:6: DeprecationWarning: cafile, capath and cadefault are deprecated, use a custom context instead.\n",
            "  response = urlopen(url, cafile=certifi.where())\n"
          ]
        },
        {
          "output_type": "stream",
          "name": "stdout",
          "text": [
            "Original DataFrame:\n"
          ]
        },
        {
          "output_type": "stream",
          "name": "stderr",
          "text": [
            "<ipython-input-83-741814f48ef0>:6: DeprecationWarning: cafile, capath and cadefault are deprecated, use a custom context instead.\n",
            "  response = urlopen(url, cafile=certifi.where())\n"
          ]
        },
        {
          "output_type": "stream",
          "name": "stdout",
          "text": [
            "Original DataFrame:\n"
          ]
        },
        {
          "output_type": "stream",
          "name": "stderr",
          "text": [
            "<ipython-input-83-741814f48ef0>:6: DeprecationWarning: cafile, capath and cadefault are deprecated, use a custom context instead.\n",
            "  response = urlopen(url, cafile=certifi.where())\n"
          ]
        },
        {
          "output_type": "stream",
          "name": "stdout",
          "text": [
            "Original DataFrame:\n"
          ]
        },
        {
          "output_type": "stream",
          "name": "stderr",
          "text": [
            "<ipython-input-83-741814f48ef0>:6: DeprecationWarning: cafile, capath and cadefault are deprecated, use a custom context instead.\n",
            "  response = urlopen(url, cafile=certifi.where())\n"
          ]
        },
        {
          "output_type": "stream",
          "name": "stdout",
          "text": [
            "Original DataFrame:\n"
          ]
        },
        {
          "output_type": "stream",
          "name": "stderr",
          "text": [
            "<ipython-input-83-741814f48ef0>:6: DeprecationWarning: cafile, capath and cadefault are deprecated, use a custom context instead.\n",
            "  response = urlopen(url, cafile=certifi.where())\n"
          ]
        },
        {
          "output_type": "stream",
          "name": "stdout",
          "text": [
            "Original DataFrame:\n"
          ]
        },
        {
          "output_type": "stream",
          "name": "stderr",
          "text": [
            "<ipython-input-83-741814f48ef0>:6: DeprecationWarning: cafile, capath and cadefault are deprecated, use a custom context instead.\n",
            "  response = urlopen(url, cafile=certifi.where())\n"
          ]
        },
        {
          "output_type": "stream",
          "name": "stdout",
          "text": [
            "Original DataFrame:\n"
          ]
        },
        {
          "output_type": "stream",
          "name": "stderr",
          "text": [
            "<ipython-input-83-741814f48ef0>:6: DeprecationWarning: cafile, capath and cadefault are deprecated, use a custom context instead.\n",
            "  response = urlopen(url, cafile=certifi.where())\n"
          ]
        },
        {
          "output_type": "stream",
          "name": "stdout",
          "text": [
            "Original DataFrame:\n"
          ]
        },
        {
          "output_type": "stream",
          "name": "stderr",
          "text": [
            "<ipython-input-83-741814f48ef0>:6: DeprecationWarning: cafile, capath and cadefault are deprecated, use a custom context instead.\n",
            "  response = urlopen(url, cafile=certifi.where())\n"
          ]
        },
        {
          "output_type": "stream",
          "name": "stdout",
          "text": [
            "Original DataFrame:\n"
          ]
        },
        {
          "output_type": "stream",
          "name": "stderr",
          "text": [
            "<ipython-input-83-741814f48ef0>:6: DeprecationWarning: cafile, capath and cadefault are deprecated, use a custom context instead.\n",
            "  response = urlopen(url, cafile=certifi.where())\n"
          ]
        },
        {
          "output_type": "stream",
          "name": "stdout",
          "text": [
            "Original DataFrame:\n"
          ]
        },
        {
          "output_type": "stream",
          "name": "stderr",
          "text": [
            "<ipython-input-83-741814f48ef0>:6: DeprecationWarning: cafile, capath and cadefault are deprecated, use a custom context instead.\n",
            "  response = urlopen(url, cafile=certifi.where())\n"
          ]
        },
        {
          "output_type": "stream",
          "name": "stdout",
          "text": [
            "Original DataFrame:\n"
          ]
        },
        {
          "output_type": "stream",
          "name": "stderr",
          "text": [
            "<ipython-input-83-741814f48ef0>:6: DeprecationWarning: cafile, capath and cadefault are deprecated, use a custom context instead.\n",
            "  response = urlopen(url, cafile=certifi.where())\n"
          ]
        },
        {
          "output_type": "stream",
          "name": "stdout",
          "text": [
            "Original DataFrame:\n"
          ]
        },
        {
          "output_type": "stream",
          "name": "stderr",
          "text": [
            "<ipython-input-83-741814f48ef0>:6: DeprecationWarning: cafile, capath and cadefault are deprecated, use a custom context instead.\n",
            "  response = urlopen(url, cafile=certifi.where())\n"
          ]
        },
        {
          "output_type": "stream",
          "name": "stdout",
          "text": [
            "Original DataFrame:\n"
          ]
        },
        {
          "output_type": "stream",
          "name": "stderr",
          "text": [
            "<ipython-input-83-741814f48ef0>:6: DeprecationWarning: cafile, capath and cadefault are deprecated, use a custom context instead.\n",
            "  response = urlopen(url, cafile=certifi.where())\n"
          ]
        },
        {
          "output_type": "stream",
          "name": "stdout",
          "text": [
            "Original DataFrame:\n"
          ]
        },
        {
          "output_type": "stream",
          "name": "stderr",
          "text": [
            "<ipython-input-83-741814f48ef0>:6: DeprecationWarning: cafile, capath and cadefault are deprecated, use a custom context instead.\n",
            "  response = urlopen(url, cafile=certifi.where())\n"
          ]
        },
        {
          "output_type": "stream",
          "name": "stdout",
          "text": [
            "Original DataFrame:\n"
          ]
        },
        {
          "output_type": "stream",
          "name": "stderr",
          "text": [
            "<ipython-input-83-741814f48ef0>:6: DeprecationWarning: cafile, capath and cadefault are deprecated, use a custom context instead.\n",
            "  response = urlopen(url, cafile=certifi.where())\n"
          ]
        },
        {
          "output_type": "stream",
          "name": "stdout",
          "text": [
            "Original DataFrame:\n"
          ]
        },
        {
          "output_type": "stream",
          "name": "stderr",
          "text": [
            "<ipython-input-83-741814f48ef0>:6: DeprecationWarning: cafile, capath and cadefault are deprecated, use a custom context instead.\n",
            "  response = urlopen(url, cafile=certifi.where())\n"
          ]
        },
        {
          "output_type": "stream",
          "name": "stdout",
          "text": [
            "Original DataFrame:\n"
          ]
        },
        {
          "output_type": "stream",
          "name": "stderr",
          "text": [
            "<ipython-input-83-741814f48ef0>:6: DeprecationWarning: cafile, capath and cadefault are deprecated, use a custom context instead.\n",
            "  response = urlopen(url, cafile=certifi.where())\n"
          ]
        },
        {
          "output_type": "stream",
          "name": "stdout",
          "text": [
            "Original DataFrame:\n"
          ]
        },
        {
          "output_type": "stream",
          "name": "stderr",
          "text": [
            "<ipython-input-83-741814f48ef0>:6: DeprecationWarning: cafile, capath and cadefault are deprecated, use a custom context instead.\n",
            "  response = urlopen(url, cafile=certifi.where())\n"
          ]
        },
        {
          "output_type": "stream",
          "name": "stdout",
          "text": [
            "Original DataFrame:\n"
          ]
        },
        {
          "output_type": "stream",
          "name": "stderr",
          "text": [
            "<ipython-input-83-741814f48ef0>:6: DeprecationWarning: cafile, capath and cadefault are deprecated, use a custom context instead.\n",
            "  response = urlopen(url, cafile=certifi.where())\n"
          ]
        },
        {
          "output_type": "stream",
          "name": "stdout",
          "text": [
            "Original DataFrame:\n"
          ]
        },
        {
          "output_type": "stream",
          "name": "stderr",
          "text": [
            "<ipython-input-83-741814f48ef0>:6: DeprecationWarning: cafile, capath and cadefault are deprecated, use a custom context instead.\n",
            "  response = urlopen(url, cafile=certifi.where())\n"
          ]
        },
        {
          "output_type": "stream",
          "name": "stdout",
          "text": [
            "Original DataFrame:\n"
          ]
        },
        {
          "output_type": "stream",
          "name": "stderr",
          "text": [
            "<ipython-input-83-741814f48ef0>:6: DeprecationWarning: cafile, capath and cadefault are deprecated, use a custom context instead.\n",
            "  response = urlopen(url, cafile=certifi.where())\n"
          ]
        },
        {
          "output_type": "stream",
          "name": "stdout",
          "text": [
            "Original DataFrame:\n"
          ]
        },
        {
          "output_type": "stream",
          "name": "stderr",
          "text": [
            "<ipython-input-83-741814f48ef0>:6: DeprecationWarning: cafile, capath and cadefault are deprecated, use a custom context instead.\n",
            "  response = urlopen(url, cafile=certifi.where())\n"
          ]
        },
        {
          "output_type": "stream",
          "name": "stdout",
          "text": [
            "Original DataFrame:\n"
          ]
        },
        {
          "output_type": "stream",
          "name": "stderr",
          "text": [
            "<ipython-input-83-741814f48ef0>:6: DeprecationWarning: cafile, capath and cadefault are deprecated, use a custom context instead.\n",
            "  response = urlopen(url, cafile=certifi.where())\n"
          ]
        },
        {
          "output_type": "stream",
          "name": "stdout",
          "text": [
            "Original DataFrame:\n"
          ]
        },
        {
          "output_type": "stream",
          "name": "stderr",
          "text": [
            "<ipython-input-83-741814f48ef0>:6: DeprecationWarning: cafile, capath and cadefault are deprecated, use a custom context instead.\n",
            "  response = urlopen(url, cafile=certifi.where())\n"
          ]
        },
        {
          "output_type": "stream",
          "name": "stdout",
          "text": [
            "Original DataFrame:\n"
          ]
        },
        {
          "output_type": "stream",
          "name": "stderr",
          "text": [
            "<ipython-input-83-741814f48ef0>:6: DeprecationWarning: cafile, capath and cadefault are deprecated, use a custom context instead.\n",
            "  response = urlopen(url, cafile=certifi.where())\n"
          ]
        },
        {
          "output_type": "stream",
          "name": "stdout",
          "text": [
            "Original DataFrame:\n"
          ]
        },
        {
          "output_type": "stream",
          "name": "stderr",
          "text": [
            "<ipython-input-83-741814f48ef0>:6: DeprecationWarning: cafile, capath and cadefault are deprecated, use a custom context instead.\n",
            "  response = urlopen(url, cafile=certifi.where())\n"
          ]
        },
        {
          "output_type": "stream",
          "name": "stdout",
          "text": [
            "Original DataFrame:\n"
          ]
        },
        {
          "output_type": "stream",
          "name": "stderr",
          "text": [
            "<ipython-input-83-741814f48ef0>:6: DeprecationWarning: cafile, capath and cadefault are deprecated, use a custom context instead.\n",
            "  response = urlopen(url, cafile=certifi.where())\n"
          ]
        },
        {
          "output_type": "stream",
          "name": "stdout",
          "text": [
            "Original DataFrame:\n"
          ]
        },
        {
          "output_type": "stream",
          "name": "stderr",
          "text": [
            "<ipython-input-83-741814f48ef0>:6: DeprecationWarning: cafile, capath and cadefault are deprecated, use a custom context instead.\n",
            "  response = urlopen(url, cafile=certifi.where())\n"
          ]
        },
        {
          "output_type": "stream",
          "name": "stdout",
          "text": [
            "Original DataFrame:\n"
          ]
        },
        {
          "output_type": "stream",
          "name": "stderr",
          "text": [
            "<ipython-input-83-741814f48ef0>:6: DeprecationWarning: cafile, capath and cadefault are deprecated, use a custom context instead.\n",
            "  response = urlopen(url, cafile=certifi.where())\n"
          ]
        },
        {
          "output_type": "stream",
          "name": "stdout",
          "text": [
            "Original DataFrame:\n"
          ]
        },
        {
          "output_type": "stream",
          "name": "stderr",
          "text": [
            "<ipython-input-83-741814f48ef0>:6: DeprecationWarning: cafile, capath and cadefault are deprecated, use a custom context instead.\n",
            "  response = urlopen(url, cafile=certifi.where())\n"
          ]
        },
        {
          "output_type": "stream",
          "name": "stdout",
          "text": [
            "Original DataFrame:\n"
          ]
        },
        {
          "output_type": "stream",
          "name": "stderr",
          "text": [
            "<ipython-input-83-741814f48ef0>:6: DeprecationWarning: cafile, capath and cadefault are deprecated, use a custom context instead.\n",
            "  response = urlopen(url, cafile=certifi.where())\n"
          ]
        },
        {
          "output_type": "stream",
          "name": "stdout",
          "text": [
            "Original DataFrame:\n"
          ]
        },
        {
          "output_type": "stream",
          "name": "stderr",
          "text": [
            "<ipython-input-83-741814f48ef0>:6: DeprecationWarning: cafile, capath and cadefault are deprecated, use a custom context instead.\n",
            "  response = urlopen(url, cafile=certifi.where())\n"
          ]
        },
        {
          "output_type": "stream",
          "name": "stdout",
          "text": [
            "Original DataFrame:\n"
          ]
        },
        {
          "output_type": "stream",
          "name": "stderr",
          "text": [
            "<ipython-input-83-741814f48ef0>:6: DeprecationWarning: cafile, capath and cadefault are deprecated, use a custom context instead.\n",
            "  response = urlopen(url, cafile=certifi.where())\n"
          ]
        },
        {
          "output_type": "stream",
          "name": "stdout",
          "text": [
            "Original DataFrame:\n"
          ]
        },
        {
          "output_type": "stream",
          "name": "stderr",
          "text": [
            "<ipython-input-83-741814f48ef0>:6: DeprecationWarning: cafile, capath and cadefault are deprecated, use a custom context instead.\n",
            "  response = urlopen(url, cafile=certifi.where())\n"
          ]
        },
        {
          "output_type": "stream",
          "name": "stdout",
          "text": [
            "Original DataFrame:\n"
          ]
        },
        {
          "output_type": "stream",
          "name": "stderr",
          "text": [
            "<ipython-input-83-741814f48ef0>:6: DeprecationWarning: cafile, capath and cadefault are deprecated, use a custom context instead.\n",
            "  response = urlopen(url, cafile=certifi.where())\n"
          ]
        },
        {
          "output_type": "stream",
          "name": "stdout",
          "text": [
            "Original DataFrame:\n"
          ]
        },
        {
          "output_type": "stream",
          "name": "stderr",
          "text": [
            "<ipython-input-83-741814f48ef0>:6: DeprecationWarning: cafile, capath and cadefault are deprecated, use a custom context instead.\n",
            "  response = urlopen(url, cafile=certifi.where())\n"
          ]
        },
        {
          "output_type": "stream",
          "name": "stdout",
          "text": [
            "Original DataFrame:\n"
          ]
        },
        {
          "output_type": "stream",
          "name": "stderr",
          "text": [
            "<ipython-input-83-741814f48ef0>:6: DeprecationWarning: cafile, capath and cadefault are deprecated, use a custom context instead.\n",
            "  response = urlopen(url, cafile=certifi.where())\n"
          ]
        },
        {
          "output_type": "stream",
          "name": "stdout",
          "text": [
            "Original DataFrame:\n"
          ]
        },
        {
          "output_type": "stream",
          "name": "stderr",
          "text": [
            "<ipython-input-83-741814f48ef0>:6: DeprecationWarning: cafile, capath and cadefault are deprecated, use a custom context instead.\n",
            "  response = urlopen(url, cafile=certifi.where())\n"
          ]
        },
        {
          "output_type": "stream",
          "name": "stdout",
          "text": [
            "Original DataFrame:\n"
          ]
        },
        {
          "output_type": "stream",
          "name": "stderr",
          "text": [
            "<ipython-input-83-741814f48ef0>:6: DeprecationWarning: cafile, capath and cadefault are deprecated, use a custom context instead.\n",
            "  response = urlopen(url, cafile=certifi.where())\n"
          ]
        },
        {
          "output_type": "stream",
          "name": "stdout",
          "text": [
            "Original DataFrame:\n"
          ]
        },
        {
          "output_type": "stream",
          "name": "stderr",
          "text": [
            "<ipython-input-83-741814f48ef0>:6: DeprecationWarning: cafile, capath and cadefault are deprecated, use a custom context instead.\n",
            "  response = urlopen(url, cafile=certifi.where())\n"
          ]
        },
        {
          "output_type": "stream",
          "name": "stdout",
          "text": [
            "Original DataFrame:\n"
          ]
        },
        {
          "output_type": "stream",
          "name": "stderr",
          "text": [
            "<ipython-input-83-741814f48ef0>:6: DeprecationWarning: cafile, capath and cadefault are deprecated, use a custom context instead.\n",
            "  response = urlopen(url, cafile=certifi.where())\n"
          ]
        },
        {
          "output_type": "stream",
          "name": "stdout",
          "text": [
            "Original DataFrame:\n"
          ]
        },
        {
          "output_type": "stream",
          "name": "stderr",
          "text": [
            "<ipython-input-83-741814f48ef0>:6: DeprecationWarning: cafile, capath and cadefault are deprecated, use a custom context instead.\n",
            "  response = urlopen(url, cafile=certifi.where())\n"
          ]
        },
        {
          "output_type": "stream",
          "name": "stdout",
          "text": [
            "Original DataFrame:\n"
          ]
        },
        {
          "output_type": "stream",
          "name": "stderr",
          "text": [
            "<ipython-input-83-741814f48ef0>:6: DeprecationWarning: cafile, capath and cadefault are deprecated, use a custom context instead.\n",
            "  response = urlopen(url, cafile=certifi.where())\n"
          ]
        },
        {
          "output_type": "stream",
          "name": "stdout",
          "text": [
            "Original DataFrame:\n"
          ]
        },
        {
          "output_type": "stream",
          "name": "stderr",
          "text": [
            "<ipython-input-83-741814f48ef0>:6: DeprecationWarning: cafile, capath and cadefault are deprecated, use a custom context instead.\n",
            "  response = urlopen(url, cafile=certifi.where())\n"
          ]
        },
        {
          "output_type": "stream",
          "name": "stdout",
          "text": [
            "Original DataFrame:\n"
          ]
        },
        {
          "output_type": "stream",
          "name": "stderr",
          "text": [
            "<ipython-input-83-741814f48ef0>:6: DeprecationWarning: cafile, capath and cadefault are deprecated, use a custom context instead.\n",
            "  response = urlopen(url, cafile=certifi.where())\n"
          ]
        },
        {
          "output_type": "stream",
          "name": "stdout",
          "text": [
            "Original DataFrame:\n"
          ]
        },
        {
          "output_type": "stream",
          "name": "stderr",
          "text": [
            "<ipython-input-83-741814f48ef0>:6: DeprecationWarning: cafile, capath and cadefault are deprecated, use a custom context instead.\n",
            "  response = urlopen(url, cafile=certifi.where())\n"
          ]
        },
        {
          "output_type": "stream",
          "name": "stdout",
          "text": [
            "Original DataFrame:\n"
          ]
        },
        {
          "output_type": "stream",
          "name": "stderr",
          "text": [
            "<ipython-input-83-741814f48ef0>:6: DeprecationWarning: cafile, capath and cadefault are deprecated, use a custom context instead.\n",
            "  response = urlopen(url, cafile=certifi.where())\n"
          ]
        },
        {
          "output_type": "stream",
          "name": "stdout",
          "text": [
            "Original DataFrame:\n"
          ]
        },
        {
          "output_type": "stream",
          "name": "stderr",
          "text": [
            "<ipython-input-83-741814f48ef0>:6: DeprecationWarning: cafile, capath and cadefault are deprecated, use a custom context instead.\n",
            "  response = urlopen(url, cafile=certifi.where())\n"
          ]
        },
        {
          "output_type": "stream",
          "name": "stdout",
          "text": [
            "Original DataFrame:\n"
          ]
        },
        {
          "output_type": "stream",
          "name": "stderr",
          "text": [
            "<ipython-input-83-741814f48ef0>:6: DeprecationWarning: cafile, capath and cadefault are deprecated, use a custom context instead.\n",
            "  response = urlopen(url, cafile=certifi.where())\n"
          ]
        },
        {
          "output_type": "stream",
          "name": "stdout",
          "text": [
            "Original DataFrame:\n"
          ]
        },
        {
          "output_type": "stream",
          "name": "stderr",
          "text": [
            "<ipython-input-83-741814f48ef0>:6: DeprecationWarning: cafile, capath and cadefault are deprecated, use a custom context instead.\n",
            "  response = urlopen(url, cafile=certifi.where())\n"
          ]
        },
        {
          "output_type": "stream",
          "name": "stdout",
          "text": [
            "Original DataFrame:\n"
          ]
        },
        {
          "output_type": "stream",
          "name": "stderr",
          "text": [
            "<ipython-input-83-741814f48ef0>:6: DeprecationWarning: cafile, capath and cadefault are deprecated, use a custom context instead.\n",
            "  response = urlopen(url, cafile=certifi.where())\n"
          ]
        },
        {
          "output_type": "stream",
          "name": "stdout",
          "text": [
            "Original DataFrame:\n"
          ]
        },
        {
          "output_type": "stream",
          "name": "stderr",
          "text": [
            "<ipython-input-83-741814f48ef0>:6: DeprecationWarning: cafile, capath and cadefault are deprecated, use a custom context instead.\n",
            "  response = urlopen(url, cafile=certifi.where())\n"
          ]
        },
        {
          "output_type": "stream",
          "name": "stdout",
          "text": [
            "Original DataFrame:\n"
          ]
        },
        {
          "output_type": "stream",
          "name": "stderr",
          "text": [
            "<ipython-input-83-741814f48ef0>:6: DeprecationWarning: cafile, capath and cadefault are deprecated, use a custom context instead.\n",
            "  response = urlopen(url, cafile=certifi.where())\n"
          ]
        },
        {
          "output_type": "stream",
          "name": "stdout",
          "text": [
            "Original DataFrame:\n"
          ]
        },
        {
          "output_type": "stream",
          "name": "stderr",
          "text": [
            "<ipython-input-83-741814f48ef0>:6: DeprecationWarning: cafile, capath and cadefault are deprecated, use a custom context instead.\n",
            "  response = urlopen(url, cafile=certifi.where())\n"
          ]
        },
        {
          "output_type": "stream",
          "name": "stdout",
          "text": [
            "Original DataFrame:\n"
          ]
        },
        {
          "output_type": "stream",
          "name": "stderr",
          "text": [
            "<ipython-input-83-741814f48ef0>:6: DeprecationWarning: cafile, capath and cadefault are deprecated, use a custom context instead.\n",
            "  response = urlopen(url, cafile=certifi.where())\n"
          ]
        },
        {
          "output_type": "stream",
          "name": "stdout",
          "text": [
            "Original DataFrame:\n"
          ]
        },
        {
          "output_type": "stream",
          "name": "stderr",
          "text": [
            "<ipython-input-83-741814f48ef0>:6: DeprecationWarning: cafile, capath and cadefault are deprecated, use a custom context instead.\n",
            "  response = urlopen(url, cafile=certifi.where())\n"
          ]
        },
        {
          "output_type": "stream",
          "name": "stdout",
          "text": [
            "Original DataFrame:\n"
          ]
        },
        {
          "output_type": "stream",
          "name": "stderr",
          "text": [
            "<ipython-input-83-741814f48ef0>:6: DeprecationWarning: cafile, capath and cadefault are deprecated, use a custom context instead.\n",
            "  response = urlopen(url, cafile=certifi.where())\n"
          ]
        },
        {
          "output_type": "stream",
          "name": "stdout",
          "text": [
            "Original DataFrame:\n"
          ]
        },
        {
          "output_type": "stream",
          "name": "stderr",
          "text": [
            "<ipython-input-83-741814f48ef0>:6: DeprecationWarning: cafile, capath and cadefault are deprecated, use a custom context instead.\n",
            "  response = urlopen(url, cafile=certifi.where())\n"
          ]
        },
        {
          "output_type": "stream",
          "name": "stdout",
          "text": [
            "Original DataFrame:\n"
          ]
        },
        {
          "output_type": "stream",
          "name": "stderr",
          "text": [
            "<ipython-input-83-741814f48ef0>:6: DeprecationWarning: cafile, capath and cadefault are deprecated, use a custom context instead.\n",
            "  response = urlopen(url, cafile=certifi.where())\n"
          ]
        },
        {
          "output_type": "stream",
          "name": "stdout",
          "text": [
            "Original DataFrame:\n"
          ]
        },
        {
          "output_type": "stream",
          "name": "stderr",
          "text": [
            "<ipython-input-83-741814f48ef0>:6: DeprecationWarning: cafile, capath and cadefault are deprecated, use a custom context instead.\n",
            "  response = urlopen(url, cafile=certifi.where())\n"
          ]
        },
        {
          "output_type": "stream",
          "name": "stdout",
          "text": [
            "Original DataFrame:\n"
          ]
        },
        {
          "output_type": "stream",
          "name": "stderr",
          "text": [
            "<ipython-input-83-741814f48ef0>:6: DeprecationWarning: cafile, capath and cadefault are deprecated, use a custom context instead.\n",
            "  response = urlopen(url, cafile=certifi.where())\n"
          ]
        },
        {
          "output_type": "stream",
          "name": "stdout",
          "text": [
            "Original DataFrame:\n"
          ]
        },
        {
          "output_type": "stream",
          "name": "stderr",
          "text": [
            "<ipython-input-83-741814f48ef0>:6: DeprecationWarning: cafile, capath and cadefault are deprecated, use a custom context instead.\n",
            "  response = urlopen(url, cafile=certifi.where())\n"
          ]
        },
        {
          "output_type": "stream",
          "name": "stdout",
          "text": [
            "Original DataFrame:\n"
          ]
        },
        {
          "output_type": "stream",
          "name": "stderr",
          "text": [
            "<ipython-input-83-741814f48ef0>:6: DeprecationWarning: cafile, capath and cadefault are deprecated, use a custom context instead.\n",
            "  response = urlopen(url, cafile=certifi.where())\n"
          ]
        },
        {
          "output_type": "stream",
          "name": "stdout",
          "text": [
            "Original DataFrame:\n"
          ]
        },
        {
          "output_type": "stream",
          "name": "stderr",
          "text": [
            "<ipython-input-83-741814f48ef0>:6: DeprecationWarning: cafile, capath and cadefault are deprecated, use a custom context instead.\n",
            "  response = urlopen(url, cafile=certifi.where())\n"
          ]
        },
        {
          "output_type": "stream",
          "name": "stdout",
          "text": [
            "Original DataFrame:\n"
          ]
        },
        {
          "output_type": "stream",
          "name": "stderr",
          "text": [
            "<ipython-input-83-741814f48ef0>:6: DeprecationWarning: cafile, capath and cadefault are deprecated, use a custom context instead.\n",
            "  response = urlopen(url, cafile=certifi.where())\n"
          ]
        },
        {
          "output_type": "stream",
          "name": "stdout",
          "text": [
            "Original DataFrame:\n"
          ]
        },
        {
          "output_type": "stream",
          "name": "stderr",
          "text": [
            "<ipython-input-83-741814f48ef0>:6: DeprecationWarning: cafile, capath and cadefault are deprecated, use a custom context instead.\n",
            "  response = urlopen(url, cafile=certifi.where())\n"
          ]
        },
        {
          "output_type": "stream",
          "name": "stdout",
          "text": [
            "Original DataFrame:\n"
          ]
        },
        {
          "output_type": "stream",
          "name": "stderr",
          "text": [
            "<ipython-input-83-741814f48ef0>:6: DeprecationWarning: cafile, capath and cadefault are deprecated, use a custom context instead.\n",
            "  response = urlopen(url, cafile=certifi.where())\n"
          ]
        },
        {
          "output_type": "stream",
          "name": "stdout",
          "text": [
            "Original DataFrame:\n"
          ]
        },
        {
          "output_type": "stream",
          "name": "stderr",
          "text": [
            "<ipython-input-83-741814f48ef0>:6: DeprecationWarning: cafile, capath and cadefault are deprecated, use a custom context instead.\n",
            "  response = urlopen(url, cafile=certifi.where())\n"
          ]
        },
        {
          "output_type": "stream",
          "name": "stdout",
          "text": [
            "Original DataFrame:\n"
          ]
        },
        {
          "output_type": "stream",
          "name": "stderr",
          "text": [
            "<ipython-input-83-741814f48ef0>:6: DeprecationWarning: cafile, capath and cadefault are deprecated, use a custom context instead.\n",
            "  response = urlopen(url, cafile=certifi.where())\n"
          ]
        },
        {
          "output_type": "stream",
          "name": "stdout",
          "text": [
            "Original DataFrame:\n"
          ]
        },
        {
          "output_type": "stream",
          "name": "stderr",
          "text": [
            "<ipython-input-83-741814f48ef0>:6: DeprecationWarning: cafile, capath and cadefault are deprecated, use a custom context instead.\n",
            "  response = urlopen(url, cafile=certifi.where())\n"
          ]
        },
        {
          "output_type": "stream",
          "name": "stdout",
          "text": [
            "Original DataFrame:\n"
          ]
        },
        {
          "output_type": "stream",
          "name": "stderr",
          "text": [
            "<ipython-input-83-741814f48ef0>:6: DeprecationWarning: cafile, capath and cadefault are deprecated, use a custom context instead.\n",
            "  response = urlopen(url, cafile=certifi.where())\n"
          ]
        },
        {
          "output_type": "stream",
          "name": "stdout",
          "text": [
            "Original DataFrame:\n"
          ]
        },
        {
          "output_type": "stream",
          "name": "stderr",
          "text": [
            "<ipython-input-83-741814f48ef0>:6: DeprecationWarning: cafile, capath and cadefault are deprecated, use a custom context instead.\n",
            "  response = urlopen(url, cafile=certifi.where())\n"
          ]
        },
        {
          "output_type": "stream",
          "name": "stdout",
          "text": [
            "Original DataFrame:\n"
          ]
        },
        {
          "output_type": "stream",
          "name": "stderr",
          "text": [
            "<ipython-input-83-741814f48ef0>:6: DeprecationWarning: cafile, capath and cadefault are deprecated, use a custom context instead.\n",
            "  response = urlopen(url, cafile=certifi.where())\n"
          ]
        },
        {
          "output_type": "stream",
          "name": "stdout",
          "text": [
            "Original DataFrame:\n"
          ]
        },
        {
          "output_type": "stream",
          "name": "stderr",
          "text": [
            "<ipython-input-83-741814f48ef0>:6: DeprecationWarning: cafile, capath and cadefault are deprecated, use a custom context instead.\n",
            "  response = urlopen(url, cafile=certifi.where())\n"
          ]
        },
        {
          "output_type": "stream",
          "name": "stdout",
          "text": [
            "Original DataFrame:\n"
          ]
        },
        {
          "output_type": "stream",
          "name": "stderr",
          "text": [
            "<ipython-input-83-741814f48ef0>:6: DeprecationWarning: cafile, capath and cadefault are deprecated, use a custom context instead.\n",
            "  response = urlopen(url, cafile=certifi.where())\n"
          ]
        },
        {
          "output_type": "stream",
          "name": "stdout",
          "text": [
            "Original DataFrame:\n"
          ]
        },
        {
          "output_type": "stream",
          "name": "stderr",
          "text": [
            "<ipython-input-83-741814f48ef0>:6: DeprecationWarning: cafile, capath and cadefault are deprecated, use a custom context instead.\n",
            "  response = urlopen(url, cafile=certifi.where())\n"
          ]
        },
        {
          "output_type": "stream",
          "name": "stdout",
          "text": [
            "Original DataFrame:\n"
          ]
        },
        {
          "output_type": "stream",
          "name": "stderr",
          "text": [
            "<ipython-input-83-741814f48ef0>:6: DeprecationWarning: cafile, capath and cadefault are deprecated, use a custom context instead.\n",
            "  response = urlopen(url, cafile=certifi.where())\n"
          ]
        },
        {
          "output_type": "stream",
          "name": "stdout",
          "text": [
            "Original DataFrame:\n"
          ]
        },
        {
          "output_type": "stream",
          "name": "stderr",
          "text": [
            "<ipython-input-83-741814f48ef0>:6: DeprecationWarning: cafile, capath and cadefault are deprecated, use a custom context instead.\n",
            "  response = urlopen(url, cafile=certifi.where())\n"
          ]
        },
        {
          "output_type": "stream",
          "name": "stdout",
          "text": [
            "Original DataFrame:\n"
          ]
        },
        {
          "output_type": "stream",
          "name": "stderr",
          "text": [
            "<ipython-input-83-741814f48ef0>:6: DeprecationWarning: cafile, capath and cadefault are deprecated, use a custom context instead.\n",
            "  response = urlopen(url, cafile=certifi.where())\n"
          ]
        },
        {
          "output_type": "stream",
          "name": "stdout",
          "text": [
            "Original DataFrame:\n"
          ]
        },
        {
          "output_type": "stream",
          "name": "stderr",
          "text": [
            "<ipython-input-83-741814f48ef0>:6: DeprecationWarning: cafile, capath and cadefault are deprecated, use a custom context instead.\n",
            "  response = urlopen(url, cafile=certifi.where())\n"
          ]
        },
        {
          "output_type": "stream",
          "name": "stdout",
          "text": [
            "Original DataFrame:\n"
          ]
        },
        {
          "output_type": "stream",
          "name": "stderr",
          "text": [
            "<ipython-input-83-741814f48ef0>:6: DeprecationWarning: cafile, capath and cadefault are deprecated, use a custom context instead.\n",
            "  response = urlopen(url, cafile=certifi.where())\n"
          ]
        },
        {
          "output_type": "stream",
          "name": "stdout",
          "text": [
            "Original DataFrame:\n"
          ]
        },
        {
          "output_type": "stream",
          "name": "stderr",
          "text": [
            "<ipython-input-83-741814f48ef0>:6: DeprecationWarning: cafile, capath and cadefault are deprecated, use a custom context instead.\n",
            "  response = urlopen(url, cafile=certifi.where())\n"
          ]
        },
        {
          "output_type": "stream",
          "name": "stdout",
          "text": [
            "Original DataFrame:\n"
          ]
        },
        {
          "output_type": "stream",
          "name": "stderr",
          "text": [
            "<ipython-input-83-741814f48ef0>:6: DeprecationWarning: cafile, capath and cadefault are deprecated, use a custom context instead.\n",
            "  response = urlopen(url, cafile=certifi.where())\n"
          ]
        },
        {
          "output_type": "stream",
          "name": "stdout",
          "text": [
            "Original DataFrame:\n"
          ]
        },
        {
          "output_type": "stream",
          "name": "stderr",
          "text": [
            "<ipython-input-83-741814f48ef0>:6: DeprecationWarning: cafile, capath and cadefault are deprecated, use a custom context instead.\n",
            "  response = urlopen(url, cafile=certifi.where())\n"
          ]
        },
        {
          "output_type": "stream",
          "name": "stdout",
          "text": [
            "Original DataFrame:\n"
          ]
        },
        {
          "output_type": "stream",
          "name": "stderr",
          "text": [
            "<ipython-input-83-741814f48ef0>:6: DeprecationWarning: cafile, capath and cadefault are deprecated, use a custom context instead.\n",
            "  response = urlopen(url, cafile=certifi.where())\n"
          ]
        },
        {
          "output_type": "stream",
          "name": "stdout",
          "text": [
            "Original DataFrame:\n"
          ]
        },
        {
          "output_type": "stream",
          "name": "stderr",
          "text": [
            "<ipython-input-83-741814f48ef0>:6: DeprecationWarning: cafile, capath and cadefault are deprecated, use a custom context instead.\n",
            "  response = urlopen(url, cafile=certifi.where())\n"
          ]
        },
        {
          "output_type": "stream",
          "name": "stdout",
          "text": [
            "Original DataFrame:\n"
          ]
        },
        {
          "output_type": "stream",
          "name": "stderr",
          "text": [
            "<ipython-input-83-741814f48ef0>:6: DeprecationWarning: cafile, capath and cadefault are deprecated, use a custom context instead.\n",
            "  response = urlopen(url, cafile=certifi.where())\n"
          ]
        },
        {
          "output_type": "stream",
          "name": "stdout",
          "text": [
            "Original DataFrame:\n"
          ]
        },
        {
          "output_type": "stream",
          "name": "stderr",
          "text": [
            "<ipython-input-83-741814f48ef0>:6: DeprecationWarning: cafile, capath and cadefault are deprecated, use a custom context instead.\n",
            "  response = urlopen(url, cafile=certifi.where())\n"
          ]
        },
        {
          "output_type": "stream",
          "name": "stdout",
          "text": [
            "Original DataFrame:\n"
          ]
        },
        {
          "output_type": "stream",
          "name": "stderr",
          "text": [
            "<ipython-input-83-741814f48ef0>:6: DeprecationWarning: cafile, capath and cadefault are deprecated, use a custom context instead.\n",
            "  response = urlopen(url, cafile=certifi.where())\n"
          ]
        },
        {
          "output_type": "stream",
          "name": "stdout",
          "text": [
            "Original DataFrame:\n"
          ]
        },
        {
          "output_type": "stream",
          "name": "stderr",
          "text": [
            "<ipython-input-83-741814f48ef0>:6: DeprecationWarning: cafile, capath and cadefault are deprecated, use a custom context instead.\n",
            "  response = urlopen(url, cafile=certifi.where())\n"
          ]
        },
        {
          "output_type": "stream",
          "name": "stdout",
          "text": [
            "Original DataFrame:\n"
          ]
        },
        {
          "output_type": "stream",
          "name": "stderr",
          "text": [
            "<ipython-input-83-741814f48ef0>:6: DeprecationWarning: cafile, capath and cadefault are deprecated, use a custom context instead.\n",
            "  response = urlopen(url, cafile=certifi.where())\n"
          ]
        },
        {
          "output_type": "stream",
          "name": "stdout",
          "text": [
            "Original DataFrame:\n"
          ]
        },
        {
          "output_type": "stream",
          "name": "stderr",
          "text": [
            "<ipython-input-83-741814f48ef0>:6: DeprecationWarning: cafile, capath and cadefault are deprecated, use a custom context instead.\n",
            "  response = urlopen(url, cafile=certifi.where())\n"
          ]
        },
        {
          "output_type": "stream",
          "name": "stdout",
          "text": [
            "Original DataFrame:\n"
          ]
        },
        {
          "output_type": "stream",
          "name": "stderr",
          "text": [
            "<ipython-input-83-741814f48ef0>:6: DeprecationWarning: cafile, capath and cadefault are deprecated, use a custom context instead.\n",
            "  response = urlopen(url, cafile=certifi.where())\n"
          ]
        },
        {
          "output_type": "stream",
          "name": "stdout",
          "text": [
            "Original DataFrame:\n"
          ]
        },
        {
          "output_type": "stream",
          "name": "stderr",
          "text": [
            "<ipython-input-83-741814f48ef0>:6: DeprecationWarning: cafile, capath and cadefault are deprecated, use a custom context instead.\n",
            "  response = urlopen(url, cafile=certifi.where())\n"
          ]
        },
        {
          "output_type": "stream",
          "name": "stdout",
          "text": [
            "Original DataFrame:\n"
          ]
        },
        {
          "output_type": "stream",
          "name": "stderr",
          "text": [
            "<ipython-input-83-741814f48ef0>:6: DeprecationWarning: cafile, capath and cadefault are deprecated, use a custom context instead.\n",
            "  response = urlopen(url, cafile=certifi.where())\n"
          ]
        },
        {
          "output_type": "stream",
          "name": "stdout",
          "text": [
            "Original DataFrame:\n"
          ]
        },
        {
          "output_type": "stream",
          "name": "stderr",
          "text": [
            "<ipython-input-83-741814f48ef0>:6: DeprecationWarning: cafile, capath and cadefault are deprecated, use a custom context instead.\n",
            "  response = urlopen(url, cafile=certifi.where())\n"
          ]
        },
        {
          "output_type": "stream",
          "name": "stdout",
          "text": [
            "Original DataFrame:\n"
          ]
        },
        {
          "output_type": "stream",
          "name": "stderr",
          "text": [
            "<ipython-input-83-741814f48ef0>:6: DeprecationWarning: cafile, capath and cadefault are deprecated, use a custom context instead.\n",
            "  response = urlopen(url, cafile=certifi.where())\n"
          ]
        },
        {
          "output_type": "stream",
          "name": "stdout",
          "text": [
            "Original DataFrame:\n"
          ]
        },
        {
          "output_type": "stream",
          "name": "stderr",
          "text": [
            "<ipython-input-83-741814f48ef0>:6: DeprecationWarning: cafile, capath and cadefault are deprecated, use a custom context instead.\n",
            "  response = urlopen(url, cafile=certifi.where())\n"
          ]
        },
        {
          "output_type": "stream",
          "name": "stdout",
          "text": [
            "Original DataFrame:\n"
          ]
        },
        {
          "output_type": "stream",
          "name": "stderr",
          "text": [
            "<ipython-input-83-741814f48ef0>:6: DeprecationWarning: cafile, capath and cadefault are deprecated, use a custom context instead.\n",
            "  response = urlopen(url, cafile=certifi.where())\n"
          ]
        },
        {
          "output_type": "stream",
          "name": "stdout",
          "text": [
            "Original DataFrame:\n"
          ]
        },
        {
          "output_type": "stream",
          "name": "stderr",
          "text": [
            "<ipython-input-83-741814f48ef0>:6: DeprecationWarning: cafile, capath and cadefault are deprecated, use a custom context instead.\n",
            "  response = urlopen(url, cafile=certifi.where())\n"
          ]
        },
        {
          "output_type": "stream",
          "name": "stdout",
          "text": [
            "Original DataFrame:\n"
          ]
        },
        {
          "output_type": "stream",
          "name": "stderr",
          "text": [
            "<ipython-input-83-741814f48ef0>:6: DeprecationWarning: cafile, capath and cadefault are deprecated, use a custom context instead.\n",
            "  response = urlopen(url, cafile=certifi.where())\n"
          ]
        },
        {
          "output_type": "stream",
          "name": "stdout",
          "text": [
            "Original DataFrame:\n"
          ]
        },
        {
          "output_type": "stream",
          "name": "stderr",
          "text": [
            "<ipython-input-83-741814f48ef0>:6: DeprecationWarning: cafile, capath and cadefault are deprecated, use a custom context instead.\n",
            "  response = urlopen(url, cafile=certifi.where())\n"
          ]
        },
        {
          "output_type": "stream",
          "name": "stdout",
          "text": [
            "Original DataFrame:\n"
          ]
        },
        {
          "output_type": "stream",
          "name": "stderr",
          "text": [
            "<ipython-input-83-741814f48ef0>:6: DeprecationWarning: cafile, capath and cadefault are deprecated, use a custom context instead.\n",
            "  response = urlopen(url, cafile=certifi.where())\n"
          ]
        },
        {
          "output_type": "stream",
          "name": "stdout",
          "text": [
            "Original DataFrame:\n"
          ]
        },
        {
          "output_type": "stream",
          "name": "stderr",
          "text": [
            "<ipython-input-83-741814f48ef0>:6: DeprecationWarning: cafile, capath and cadefault are deprecated, use a custom context instead.\n",
            "  response = urlopen(url, cafile=certifi.where())\n"
          ]
        },
        {
          "output_type": "stream",
          "name": "stdout",
          "text": [
            "Original DataFrame:\n"
          ]
        },
        {
          "output_type": "stream",
          "name": "stderr",
          "text": [
            "<ipython-input-83-741814f48ef0>:6: DeprecationWarning: cafile, capath and cadefault are deprecated, use a custom context instead.\n",
            "  response = urlopen(url, cafile=certifi.where())\n"
          ]
        },
        {
          "output_type": "stream",
          "name": "stdout",
          "text": [
            "Original DataFrame:\n"
          ]
        },
        {
          "output_type": "stream",
          "name": "stderr",
          "text": [
            "<ipython-input-83-741814f48ef0>:6: DeprecationWarning: cafile, capath and cadefault are deprecated, use a custom context instead.\n",
            "  response = urlopen(url, cafile=certifi.where())\n"
          ]
        },
        {
          "output_type": "stream",
          "name": "stdout",
          "text": [
            "Original DataFrame:\n"
          ]
        },
        {
          "output_type": "stream",
          "name": "stderr",
          "text": [
            "<ipython-input-83-741814f48ef0>:6: DeprecationWarning: cafile, capath and cadefault are deprecated, use a custom context instead.\n",
            "  response = urlopen(url, cafile=certifi.where())\n"
          ]
        },
        {
          "output_type": "stream",
          "name": "stdout",
          "text": [
            "Original DataFrame:\n"
          ]
        },
        {
          "output_type": "stream",
          "name": "stderr",
          "text": [
            "<ipython-input-83-741814f48ef0>:6: DeprecationWarning: cafile, capath and cadefault are deprecated, use a custom context instead.\n",
            "  response = urlopen(url, cafile=certifi.where())\n"
          ]
        },
        {
          "output_type": "stream",
          "name": "stdout",
          "text": [
            "Original DataFrame:\n"
          ]
        },
        {
          "output_type": "stream",
          "name": "stderr",
          "text": [
            "<ipython-input-83-741814f48ef0>:6: DeprecationWarning: cafile, capath and cadefault are deprecated, use a custom context instead.\n",
            "  response = urlopen(url, cafile=certifi.where())\n"
          ]
        },
        {
          "output_type": "stream",
          "name": "stdout",
          "text": [
            "Original DataFrame:\n"
          ]
        },
        {
          "output_type": "stream",
          "name": "stderr",
          "text": [
            "<ipython-input-83-741814f48ef0>:6: DeprecationWarning: cafile, capath and cadefault are deprecated, use a custom context instead.\n",
            "  response = urlopen(url, cafile=certifi.where())\n"
          ]
        },
        {
          "output_type": "stream",
          "name": "stdout",
          "text": [
            "Original DataFrame:\n"
          ]
        },
        {
          "output_type": "stream",
          "name": "stderr",
          "text": [
            "<ipython-input-83-741814f48ef0>:6: DeprecationWarning: cafile, capath and cadefault are deprecated, use a custom context instead.\n",
            "  response = urlopen(url, cafile=certifi.where())\n"
          ]
        },
        {
          "output_type": "stream",
          "name": "stdout",
          "text": [
            "Original DataFrame:\n"
          ]
        },
        {
          "output_type": "stream",
          "name": "stderr",
          "text": [
            "<ipython-input-83-741814f48ef0>:6: DeprecationWarning: cafile, capath and cadefault are deprecated, use a custom context instead.\n",
            "  response = urlopen(url, cafile=certifi.where())\n"
          ]
        },
        {
          "output_type": "stream",
          "name": "stdout",
          "text": [
            "Original DataFrame:\n"
          ]
        },
        {
          "output_type": "stream",
          "name": "stderr",
          "text": [
            "<ipython-input-83-741814f48ef0>:6: DeprecationWarning: cafile, capath and cadefault are deprecated, use a custom context instead.\n",
            "  response = urlopen(url, cafile=certifi.where())\n"
          ]
        },
        {
          "output_type": "stream",
          "name": "stdout",
          "text": [
            "Original DataFrame:\n"
          ]
        },
        {
          "output_type": "stream",
          "name": "stderr",
          "text": [
            "<ipython-input-83-741814f48ef0>:6: DeprecationWarning: cafile, capath and cadefault are deprecated, use a custom context instead.\n",
            "  response = urlopen(url, cafile=certifi.where())\n"
          ]
        },
        {
          "output_type": "stream",
          "name": "stdout",
          "text": [
            "Original DataFrame:\n"
          ]
        },
        {
          "output_type": "stream",
          "name": "stderr",
          "text": [
            "<ipython-input-83-741814f48ef0>:6: DeprecationWarning: cafile, capath and cadefault are deprecated, use a custom context instead.\n",
            "  response = urlopen(url, cafile=certifi.where())\n"
          ]
        },
        {
          "output_type": "stream",
          "name": "stdout",
          "text": [
            "Original DataFrame:\n"
          ]
        },
        {
          "output_type": "stream",
          "name": "stderr",
          "text": [
            "<ipython-input-83-741814f48ef0>:6: DeprecationWarning: cafile, capath and cadefault are deprecated, use a custom context instead.\n",
            "  response = urlopen(url, cafile=certifi.where())\n"
          ]
        },
        {
          "output_type": "stream",
          "name": "stdout",
          "text": [
            "Original DataFrame:\n"
          ]
        },
        {
          "output_type": "stream",
          "name": "stderr",
          "text": [
            "<ipython-input-83-741814f48ef0>:6: DeprecationWarning: cafile, capath and cadefault are deprecated, use a custom context instead.\n",
            "  response = urlopen(url, cafile=certifi.where())\n"
          ]
        },
        {
          "output_type": "stream",
          "name": "stdout",
          "text": [
            "Original DataFrame:\n"
          ]
        },
        {
          "output_type": "stream",
          "name": "stderr",
          "text": [
            "<ipython-input-83-741814f48ef0>:6: DeprecationWarning: cafile, capath and cadefault are deprecated, use a custom context instead.\n",
            "  response = urlopen(url, cafile=certifi.where())\n"
          ]
        },
        {
          "output_type": "stream",
          "name": "stdout",
          "text": [
            "Original DataFrame:\n"
          ]
        },
        {
          "output_type": "stream",
          "name": "stderr",
          "text": [
            "<ipython-input-83-741814f48ef0>:6: DeprecationWarning: cafile, capath and cadefault are deprecated, use a custom context instead.\n",
            "  response = urlopen(url, cafile=certifi.where())\n"
          ]
        },
        {
          "output_type": "stream",
          "name": "stdout",
          "text": [
            "Original DataFrame:\n"
          ]
        },
        {
          "output_type": "stream",
          "name": "stderr",
          "text": [
            "<ipython-input-83-741814f48ef0>:6: DeprecationWarning: cafile, capath and cadefault are deprecated, use a custom context instead.\n",
            "  response = urlopen(url, cafile=certifi.where())\n"
          ]
        },
        {
          "output_type": "stream",
          "name": "stdout",
          "text": [
            "Original DataFrame:\n"
          ]
        },
        {
          "output_type": "stream",
          "name": "stderr",
          "text": [
            "<ipython-input-83-741814f48ef0>:6: DeprecationWarning: cafile, capath and cadefault are deprecated, use a custom context instead.\n",
            "  response = urlopen(url, cafile=certifi.where())\n"
          ]
        },
        {
          "output_type": "stream",
          "name": "stdout",
          "text": [
            "Original DataFrame:\n"
          ]
        },
        {
          "output_type": "stream",
          "name": "stderr",
          "text": [
            "<ipython-input-83-741814f48ef0>:6: DeprecationWarning: cafile, capath and cadefault are deprecated, use a custom context instead.\n",
            "  response = urlopen(url, cafile=certifi.where())\n"
          ]
        },
        {
          "output_type": "stream",
          "name": "stdout",
          "text": [
            "Original DataFrame:\n"
          ]
        },
        {
          "output_type": "stream",
          "name": "stderr",
          "text": [
            "<ipython-input-83-741814f48ef0>:6: DeprecationWarning: cafile, capath and cadefault are deprecated, use a custom context instead.\n",
            "  response = urlopen(url, cafile=certifi.where())\n"
          ]
        },
        {
          "output_type": "stream",
          "name": "stdout",
          "text": [
            "Original DataFrame:\n"
          ]
        },
        {
          "output_type": "stream",
          "name": "stderr",
          "text": [
            "<ipython-input-83-741814f48ef0>:6: DeprecationWarning: cafile, capath and cadefault are deprecated, use a custom context instead.\n",
            "  response = urlopen(url, cafile=certifi.where())\n"
          ]
        },
        {
          "output_type": "stream",
          "name": "stdout",
          "text": [
            "Original DataFrame:\n"
          ]
        },
        {
          "output_type": "stream",
          "name": "stderr",
          "text": [
            "<ipython-input-83-741814f48ef0>:6: DeprecationWarning: cafile, capath and cadefault are deprecated, use a custom context instead.\n",
            "  response = urlopen(url, cafile=certifi.where())\n"
          ]
        },
        {
          "output_type": "stream",
          "name": "stdout",
          "text": [
            "Original DataFrame:\n"
          ]
        },
        {
          "output_type": "stream",
          "name": "stderr",
          "text": [
            "<ipython-input-83-741814f48ef0>:6: DeprecationWarning: cafile, capath and cadefault are deprecated, use a custom context instead.\n",
            "  response = urlopen(url, cafile=certifi.where())\n"
          ]
        },
        {
          "output_type": "stream",
          "name": "stdout",
          "text": [
            "Original DataFrame:\n"
          ]
        },
        {
          "output_type": "stream",
          "name": "stderr",
          "text": [
            "<ipython-input-83-741814f48ef0>:6: DeprecationWarning: cafile, capath and cadefault are deprecated, use a custom context instead.\n",
            "  response = urlopen(url, cafile=certifi.where())\n"
          ]
        },
        {
          "output_type": "stream",
          "name": "stdout",
          "text": [
            "Original DataFrame:\n"
          ]
        },
        {
          "output_type": "stream",
          "name": "stderr",
          "text": [
            "<ipython-input-83-741814f48ef0>:6: DeprecationWarning: cafile, capath and cadefault are deprecated, use a custom context instead.\n",
            "  response = urlopen(url, cafile=certifi.where())\n"
          ]
        },
        {
          "output_type": "stream",
          "name": "stdout",
          "text": [
            "Original DataFrame:\n"
          ]
        },
        {
          "output_type": "stream",
          "name": "stderr",
          "text": [
            "<ipython-input-83-741814f48ef0>:6: DeprecationWarning: cafile, capath and cadefault are deprecated, use a custom context instead.\n",
            "  response = urlopen(url, cafile=certifi.where())\n"
          ]
        },
        {
          "output_type": "stream",
          "name": "stdout",
          "text": [
            "Original DataFrame:\n"
          ]
        },
        {
          "output_type": "stream",
          "name": "stderr",
          "text": [
            "<ipython-input-83-741814f48ef0>:6: DeprecationWarning: cafile, capath and cadefault are deprecated, use a custom context instead.\n",
            "  response = urlopen(url, cafile=certifi.where())\n"
          ]
        },
        {
          "output_type": "stream",
          "name": "stdout",
          "text": [
            "Original DataFrame:\n"
          ]
        },
        {
          "output_type": "stream",
          "name": "stderr",
          "text": [
            "<ipython-input-83-741814f48ef0>:6: DeprecationWarning: cafile, capath and cadefault are deprecated, use a custom context instead.\n",
            "  response = urlopen(url, cafile=certifi.where())\n"
          ]
        },
        {
          "output_type": "stream",
          "name": "stdout",
          "text": [
            "Original DataFrame:\n"
          ]
        },
        {
          "output_type": "stream",
          "name": "stderr",
          "text": [
            "<ipython-input-83-741814f48ef0>:6: DeprecationWarning: cafile, capath and cadefault are deprecated, use a custom context instead.\n",
            "  response = urlopen(url, cafile=certifi.where())\n"
          ]
        },
        {
          "output_type": "stream",
          "name": "stdout",
          "text": [
            "Original DataFrame:\n"
          ]
        },
        {
          "output_type": "stream",
          "name": "stderr",
          "text": [
            "<ipython-input-83-741814f48ef0>:6: DeprecationWarning: cafile, capath and cadefault are deprecated, use a custom context instead.\n",
            "  response = urlopen(url, cafile=certifi.where())\n"
          ]
        },
        {
          "output_type": "stream",
          "name": "stdout",
          "text": [
            "Original DataFrame:\n"
          ]
        },
        {
          "output_type": "stream",
          "name": "stderr",
          "text": [
            "<ipython-input-83-741814f48ef0>:6: DeprecationWarning: cafile, capath and cadefault are deprecated, use a custom context instead.\n",
            "  response = urlopen(url, cafile=certifi.where())\n"
          ]
        },
        {
          "output_type": "stream",
          "name": "stdout",
          "text": [
            "Original DataFrame:\n"
          ]
        },
        {
          "output_type": "stream",
          "name": "stderr",
          "text": [
            "<ipython-input-83-741814f48ef0>:6: DeprecationWarning: cafile, capath and cadefault are deprecated, use a custom context instead.\n",
            "  response = urlopen(url, cafile=certifi.where())\n"
          ]
        },
        {
          "output_type": "stream",
          "name": "stdout",
          "text": [
            "Original DataFrame:\n"
          ]
        },
        {
          "output_type": "stream",
          "name": "stderr",
          "text": [
            "<ipython-input-83-741814f48ef0>:6: DeprecationWarning: cafile, capath and cadefault are deprecated, use a custom context instead.\n",
            "  response = urlopen(url, cafile=certifi.where())\n"
          ]
        },
        {
          "output_type": "stream",
          "name": "stdout",
          "text": [
            "Original DataFrame:\n"
          ]
        },
        {
          "output_type": "stream",
          "name": "stderr",
          "text": [
            "<ipython-input-83-741814f48ef0>:6: DeprecationWarning: cafile, capath and cadefault are deprecated, use a custom context instead.\n",
            "  response = urlopen(url, cafile=certifi.where())\n"
          ]
        },
        {
          "output_type": "stream",
          "name": "stdout",
          "text": [
            "Original DataFrame:\n"
          ]
        },
        {
          "output_type": "stream",
          "name": "stderr",
          "text": [
            "<ipython-input-83-741814f48ef0>:6: DeprecationWarning: cafile, capath and cadefault are deprecated, use a custom context instead.\n",
            "  response = urlopen(url, cafile=certifi.where())\n"
          ]
        },
        {
          "output_type": "stream",
          "name": "stdout",
          "text": [
            "Original DataFrame:\n"
          ]
        },
        {
          "output_type": "stream",
          "name": "stderr",
          "text": [
            "<ipython-input-83-741814f48ef0>:6: DeprecationWarning: cafile, capath and cadefault are deprecated, use a custom context instead.\n",
            "  response = urlopen(url, cafile=certifi.where())\n"
          ]
        },
        {
          "output_type": "stream",
          "name": "stdout",
          "text": [
            "Original DataFrame:\n"
          ]
        },
        {
          "output_type": "stream",
          "name": "stderr",
          "text": [
            "<ipython-input-83-741814f48ef0>:6: DeprecationWarning: cafile, capath and cadefault are deprecated, use a custom context instead.\n",
            "  response = urlopen(url, cafile=certifi.where())\n"
          ]
        },
        {
          "output_type": "stream",
          "name": "stdout",
          "text": [
            "Original DataFrame:\n"
          ]
        },
        {
          "output_type": "stream",
          "name": "stderr",
          "text": [
            "<ipython-input-83-741814f48ef0>:6: DeprecationWarning: cafile, capath and cadefault are deprecated, use a custom context instead.\n",
            "  response = urlopen(url, cafile=certifi.where())\n"
          ]
        },
        {
          "output_type": "stream",
          "name": "stdout",
          "text": [
            "Original DataFrame:\n"
          ]
        },
        {
          "output_type": "stream",
          "name": "stderr",
          "text": [
            "<ipython-input-83-741814f48ef0>:6: DeprecationWarning: cafile, capath and cadefault are deprecated, use a custom context instead.\n",
            "  response = urlopen(url, cafile=certifi.where())\n"
          ]
        },
        {
          "output_type": "stream",
          "name": "stdout",
          "text": [
            "Original DataFrame:\n"
          ]
        },
        {
          "output_type": "stream",
          "name": "stderr",
          "text": [
            "<ipython-input-83-741814f48ef0>:6: DeprecationWarning: cafile, capath and cadefault are deprecated, use a custom context instead.\n",
            "  response = urlopen(url, cafile=certifi.where())\n"
          ]
        },
        {
          "output_type": "stream",
          "name": "stdout",
          "text": [
            "Original DataFrame:\n"
          ]
        },
        {
          "output_type": "stream",
          "name": "stderr",
          "text": [
            "<ipython-input-83-741814f48ef0>:6: DeprecationWarning: cafile, capath and cadefault are deprecated, use a custom context instead.\n",
            "  response = urlopen(url, cafile=certifi.where())\n"
          ]
        },
        {
          "output_type": "stream",
          "name": "stdout",
          "text": [
            "Original DataFrame:\n"
          ]
        },
        {
          "output_type": "stream",
          "name": "stderr",
          "text": [
            "<ipython-input-83-741814f48ef0>:6: DeprecationWarning: cafile, capath and cadefault are deprecated, use a custom context instead.\n",
            "  response = urlopen(url, cafile=certifi.where())\n"
          ]
        },
        {
          "output_type": "stream",
          "name": "stdout",
          "text": [
            "Original DataFrame:\n"
          ]
        },
        {
          "output_type": "stream",
          "name": "stderr",
          "text": [
            "<ipython-input-83-741814f48ef0>:6: DeprecationWarning: cafile, capath and cadefault are deprecated, use a custom context instead.\n",
            "  response = urlopen(url, cafile=certifi.where())\n"
          ]
        },
        {
          "output_type": "stream",
          "name": "stdout",
          "text": [
            "Original DataFrame:\n"
          ]
        },
        {
          "output_type": "stream",
          "name": "stderr",
          "text": [
            "<ipython-input-83-741814f48ef0>:6: DeprecationWarning: cafile, capath and cadefault are deprecated, use a custom context instead.\n",
            "  response = urlopen(url, cafile=certifi.where())\n"
          ]
        },
        {
          "output_type": "stream",
          "name": "stdout",
          "text": [
            "Original DataFrame:\n"
          ]
        },
        {
          "output_type": "stream",
          "name": "stderr",
          "text": [
            "<ipython-input-83-741814f48ef0>:6: DeprecationWarning: cafile, capath and cadefault are deprecated, use a custom context instead.\n",
            "  response = urlopen(url, cafile=certifi.where())\n"
          ]
        },
        {
          "output_type": "stream",
          "name": "stdout",
          "text": [
            "Original DataFrame:\n"
          ]
        },
        {
          "output_type": "stream",
          "name": "stderr",
          "text": [
            "<ipython-input-83-741814f48ef0>:6: DeprecationWarning: cafile, capath and cadefault are deprecated, use a custom context instead.\n",
            "  response = urlopen(url, cafile=certifi.where())\n"
          ]
        },
        {
          "output_type": "stream",
          "name": "stdout",
          "text": [
            "Original DataFrame:\n"
          ]
        },
        {
          "output_type": "stream",
          "name": "stderr",
          "text": [
            "<ipython-input-83-741814f48ef0>:6: DeprecationWarning: cafile, capath and cadefault are deprecated, use a custom context instead.\n",
            "  response = urlopen(url, cafile=certifi.where())\n"
          ]
        },
        {
          "output_type": "stream",
          "name": "stdout",
          "text": [
            "Original DataFrame:\n"
          ]
        },
        {
          "output_type": "stream",
          "name": "stderr",
          "text": [
            "<ipython-input-83-741814f48ef0>:6: DeprecationWarning: cafile, capath and cadefault are deprecated, use a custom context instead.\n",
            "  response = urlopen(url, cafile=certifi.where())\n"
          ]
        },
        {
          "output_type": "stream",
          "name": "stdout",
          "text": [
            "Original DataFrame:\n"
          ]
        },
        {
          "output_type": "stream",
          "name": "stderr",
          "text": [
            "<ipython-input-83-741814f48ef0>:6: DeprecationWarning: cafile, capath and cadefault are deprecated, use a custom context instead.\n",
            "  response = urlopen(url, cafile=certifi.where())\n"
          ]
        },
        {
          "output_type": "stream",
          "name": "stdout",
          "text": [
            "Original DataFrame:\n"
          ]
        },
        {
          "output_type": "stream",
          "name": "stderr",
          "text": [
            "<ipython-input-83-741814f48ef0>:6: DeprecationWarning: cafile, capath and cadefault are deprecated, use a custom context instead.\n",
            "  response = urlopen(url, cafile=certifi.where())\n"
          ]
        },
        {
          "output_type": "stream",
          "name": "stdout",
          "text": [
            "Original DataFrame:\n"
          ]
        },
        {
          "output_type": "stream",
          "name": "stderr",
          "text": [
            "<ipython-input-83-741814f48ef0>:6: DeprecationWarning: cafile, capath and cadefault are deprecated, use a custom context instead.\n",
            "  response = urlopen(url, cafile=certifi.where())\n"
          ]
        },
        {
          "output_type": "stream",
          "name": "stdout",
          "text": [
            "Original DataFrame:\n"
          ]
        },
        {
          "output_type": "stream",
          "name": "stderr",
          "text": [
            "<ipython-input-83-741814f48ef0>:6: DeprecationWarning: cafile, capath and cadefault are deprecated, use a custom context instead.\n",
            "  response = urlopen(url, cafile=certifi.where())\n"
          ]
        },
        {
          "output_type": "stream",
          "name": "stdout",
          "text": [
            "Original DataFrame:\n"
          ]
        },
        {
          "output_type": "stream",
          "name": "stderr",
          "text": [
            "<ipython-input-83-741814f48ef0>:6: DeprecationWarning: cafile, capath and cadefault are deprecated, use a custom context instead.\n",
            "  response = urlopen(url, cafile=certifi.where())\n"
          ]
        },
        {
          "output_type": "stream",
          "name": "stdout",
          "text": [
            "Original DataFrame:\n"
          ]
        },
        {
          "output_type": "stream",
          "name": "stderr",
          "text": [
            "<ipython-input-83-741814f48ef0>:6: DeprecationWarning: cafile, capath and cadefault are deprecated, use a custom context instead.\n",
            "  response = urlopen(url, cafile=certifi.where())\n"
          ]
        },
        {
          "output_type": "stream",
          "name": "stdout",
          "text": [
            "Original DataFrame:\n"
          ]
        },
        {
          "output_type": "stream",
          "name": "stderr",
          "text": [
            "<ipython-input-83-741814f48ef0>:6: DeprecationWarning: cafile, capath and cadefault are deprecated, use a custom context instead.\n",
            "  response = urlopen(url, cafile=certifi.where())\n"
          ]
        },
        {
          "output_type": "stream",
          "name": "stdout",
          "text": [
            "Original DataFrame:\n"
          ]
        },
        {
          "output_type": "stream",
          "name": "stderr",
          "text": [
            "<ipython-input-83-741814f48ef0>:6: DeprecationWarning: cafile, capath and cadefault are deprecated, use a custom context instead.\n",
            "  response = urlopen(url, cafile=certifi.where())\n"
          ]
        },
        {
          "output_type": "stream",
          "name": "stdout",
          "text": [
            "Original DataFrame:\n"
          ]
        },
        {
          "output_type": "stream",
          "name": "stderr",
          "text": [
            "<ipython-input-83-741814f48ef0>:6: DeprecationWarning: cafile, capath and cadefault are deprecated, use a custom context instead.\n",
            "  response = urlopen(url, cafile=certifi.where())\n"
          ]
        },
        {
          "output_type": "stream",
          "name": "stdout",
          "text": [
            "Original DataFrame:\n"
          ]
        },
        {
          "output_type": "stream",
          "name": "stderr",
          "text": [
            "<ipython-input-83-741814f48ef0>:6: DeprecationWarning: cafile, capath and cadefault are deprecated, use a custom context instead.\n",
            "  response = urlopen(url, cafile=certifi.where())\n"
          ]
        },
        {
          "output_type": "stream",
          "name": "stdout",
          "text": [
            "Original DataFrame:\n"
          ]
        },
        {
          "output_type": "stream",
          "name": "stderr",
          "text": [
            "<ipython-input-83-741814f48ef0>:6: DeprecationWarning: cafile, capath and cadefault are deprecated, use a custom context instead.\n",
            "  response = urlopen(url, cafile=certifi.where())\n"
          ]
        },
        {
          "output_type": "stream",
          "name": "stdout",
          "text": [
            "Original DataFrame:\n"
          ]
        },
        {
          "output_type": "stream",
          "name": "stderr",
          "text": [
            "<ipython-input-83-741814f48ef0>:6: DeprecationWarning: cafile, capath and cadefault are deprecated, use a custom context instead.\n",
            "  response = urlopen(url, cafile=certifi.where())\n"
          ]
        },
        {
          "output_type": "stream",
          "name": "stdout",
          "text": [
            "Original DataFrame:\n"
          ]
        },
        {
          "output_type": "stream",
          "name": "stderr",
          "text": [
            "<ipython-input-83-741814f48ef0>:6: DeprecationWarning: cafile, capath and cadefault are deprecated, use a custom context instead.\n",
            "  response = urlopen(url, cafile=certifi.where())\n"
          ]
        },
        {
          "output_type": "stream",
          "name": "stdout",
          "text": [
            "Original DataFrame:\n"
          ]
        },
        {
          "output_type": "stream",
          "name": "stderr",
          "text": [
            "<ipython-input-83-741814f48ef0>:6: DeprecationWarning: cafile, capath and cadefault are deprecated, use a custom context instead.\n",
            "  response = urlopen(url, cafile=certifi.where())\n"
          ]
        },
        {
          "output_type": "stream",
          "name": "stdout",
          "text": [
            "Original DataFrame:\n"
          ]
        },
        {
          "output_type": "stream",
          "name": "stderr",
          "text": [
            "<ipython-input-83-741814f48ef0>:6: DeprecationWarning: cafile, capath and cadefault are deprecated, use a custom context instead.\n",
            "  response = urlopen(url, cafile=certifi.where())\n"
          ]
        },
        {
          "output_type": "stream",
          "name": "stdout",
          "text": [
            "Original DataFrame:\n"
          ]
        },
        {
          "output_type": "stream",
          "name": "stderr",
          "text": [
            "<ipython-input-83-741814f48ef0>:6: DeprecationWarning: cafile, capath and cadefault are deprecated, use a custom context instead.\n",
            "  response = urlopen(url, cafile=certifi.where())\n"
          ]
        },
        {
          "output_type": "stream",
          "name": "stdout",
          "text": [
            "Original DataFrame:\n"
          ]
        },
        {
          "output_type": "stream",
          "name": "stderr",
          "text": [
            "<ipython-input-83-741814f48ef0>:6: DeprecationWarning: cafile, capath and cadefault are deprecated, use a custom context instead.\n",
            "  response = urlopen(url, cafile=certifi.where())\n"
          ]
        },
        {
          "output_type": "stream",
          "name": "stdout",
          "text": [
            "Original DataFrame:\n"
          ]
        },
        {
          "output_type": "stream",
          "name": "stderr",
          "text": [
            "<ipython-input-83-741814f48ef0>:6: DeprecationWarning: cafile, capath and cadefault are deprecated, use a custom context instead.\n",
            "  response = urlopen(url, cafile=certifi.where())\n"
          ]
        },
        {
          "output_type": "stream",
          "name": "stdout",
          "text": [
            "Original DataFrame:\n"
          ]
        },
        {
          "output_type": "stream",
          "name": "stderr",
          "text": [
            "<ipython-input-83-741814f48ef0>:6: DeprecationWarning: cafile, capath and cadefault are deprecated, use a custom context instead.\n",
            "  response = urlopen(url, cafile=certifi.where())\n"
          ]
        },
        {
          "output_type": "stream",
          "name": "stdout",
          "text": [
            "Original DataFrame:\n"
          ]
        },
        {
          "output_type": "stream",
          "name": "stderr",
          "text": [
            "<ipython-input-83-741814f48ef0>:6: DeprecationWarning: cafile, capath and cadefault are deprecated, use a custom context instead.\n",
            "  response = urlopen(url, cafile=certifi.where())\n"
          ]
        },
        {
          "output_type": "stream",
          "name": "stdout",
          "text": [
            "Original DataFrame:\n"
          ]
        },
        {
          "output_type": "stream",
          "name": "stderr",
          "text": [
            "<ipython-input-83-741814f48ef0>:6: DeprecationWarning: cafile, capath and cadefault are deprecated, use a custom context instead.\n",
            "  response = urlopen(url, cafile=certifi.where())\n"
          ]
        },
        {
          "output_type": "stream",
          "name": "stdout",
          "text": [
            "Original DataFrame:\n"
          ]
        },
        {
          "output_type": "stream",
          "name": "stderr",
          "text": [
            "<ipython-input-83-741814f48ef0>:6: DeprecationWarning: cafile, capath and cadefault are deprecated, use a custom context instead.\n",
            "  response = urlopen(url, cafile=certifi.where())\n"
          ]
        },
        {
          "output_type": "stream",
          "name": "stdout",
          "text": [
            "Original DataFrame:\n"
          ]
        },
        {
          "output_type": "stream",
          "name": "stderr",
          "text": [
            "<ipython-input-83-741814f48ef0>:6: DeprecationWarning: cafile, capath and cadefault are deprecated, use a custom context instead.\n",
            "  response = urlopen(url, cafile=certifi.where())\n"
          ]
        },
        {
          "output_type": "stream",
          "name": "stdout",
          "text": [
            "Original DataFrame:\n"
          ]
        },
        {
          "output_type": "stream",
          "name": "stderr",
          "text": [
            "<ipython-input-83-741814f48ef0>:6: DeprecationWarning: cafile, capath and cadefault are deprecated, use a custom context instead.\n",
            "  response = urlopen(url, cafile=certifi.where())\n"
          ]
        },
        {
          "output_type": "stream",
          "name": "stdout",
          "text": [
            "Original DataFrame:\n"
          ]
        },
        {
          "output_type": "stream",
          "name": "stderr",
          "text": [
            "<ipython-input-83-741814f48ef0>:6: DeprecationWarning: cafile, capath and cadefault are deprecated, use a custom context instead.\n",
            "  response = urlopen(url, cafile=certifi.where())\n"
          ]
        },
        {
          "output_type": "stream",
          "name": "stdout",
          "text": [
            "Original DataFrame:\n"
          ]
        },
        {
          "output_type": "stream",
          "name": "stderr",
          "text": [
            "<ipython-input-83-741814f48ef0>:6: DeprecationWarning: cafile, capath and cadefault are deprecated, use a custom context instead.\n",
            "  response = urlopen(url, cafile=certifi.where())\n"
          ]
        },
        {
          "output_type": "stream",
          "name": "stdout",
          "text": [
            "Original DataFrame:\n"
          ]
        },
        {
          "output_type": "stream",
          "name": "stderr",
          "text": [
            "<ipython-input-83-741814f48ef0>:6: DeprecationWarning: cafile, capath and cadefault are deprecated, use a custom context instead.\n",
            "  response = urlopen(url, cafile=certifi.where())\n"
          ]
        },
        {
          "output_type": "stream",
          "name": "stdout",
          "text": [
            "Original DataFrame:\n"
          ]
        },
        {
          "output_type": "stream",
          "name": "stderr",
          "text": [
            "<ipython-input-83-741814f48ef0>:6: DeprecationWarning: cafile, capath and cadefault are deprecated, use a custom context instead.\n",
            "  response = urlopen(url, cafile=certifi.where())\n"
          ]
        },
        {
          "output_type": "stream",
          "name": "stdout",
          "text": [
            "Original DataFrame:\n"
          ]
        },
        {
          "output_type": "stream",
          "name": "stderr",
          "text": [
            "<ipython-input-83-741814f48ef0>:6: DeprecationWarning: cafile, capath and cadefault are deprecated, use a custom context instead.\n",
            "  response = urlopen(url, cafile=certifi.where())\n"
          ]
        },
        {
          "output_type": "stream",
          "name": "stdout",
          "text": [
            "Original DataFrame:\n"
          ]
        },
        {
          "output_type": "stream",
          "name": "stderr",
          "text": [
            "<ipython-input-83-741814f48ef0>:6: DeprecationWarning: cafile, capath and cadefault are deprecated, use a custom context instead.\n",
            "  response = urlopen(url, cafile=certifi.where())\n"
          ]
        },
        {
          "output_type": "stream",
          "name": "stdout",
          "text": [
            "Original DataFrame:\n"
          ]
        },
        {
          "output_type": "stream",
          "name": "stderr",
          "text": [
            "<ipython-input-83-741814f48ef0>:6: DeprecationWarning: cafile, capath and cadefault are deprecated, use a custom context instead.\n",
            "  response = urlopen(url, cafile=certifi.where())\n"
          ]
        },
        {
          "output_type": "stream",
          "name": "stdout",
          "text": [
            "Original DataFrame:\n"
          ]
        },
        {
          "output_type": "stream",
          "name": "stderr",
          "text": [
            "<ipython-input-83-741814f48ef0>:6: DeprecationWarning: cafile, capath and cadefault are deprecated, use a custom context instead.\n",
            "  response = urlopen(url, cafile=certifi.where())\n"
          ]
        },
        {
          "output_type": "stream",
          "name": "stdout",
          "text": [
            "Original DataFrame:\n"
          ]
        },
        {
          "output_type": "stream",
          "name": "stderr",
          "text": [
            "<ipython-input-83-741814f48ef0>:6: DeprecationWarning: cafile, capath and cadefault are deprecated, use a custom context instead.\n",
            "  response = urlopen(url, cafile=certifi.where())\n"
          ]
        },
        {
          "output_type": "stream",
          "name": "stdout",
          "text": [
            "Original DataFrame:\n"
          ]
        },
        {
          "output_type": "stream",
          "name": "stderr",
          "text": [
            "<ipython-input-83-741814f48ef0>:6: DeprecationWarning: cafile, capath and cadefault are deprecated, use a custom context instead.\n",
            "  response = urlopen(url, cafile=certifi.where())\n"
          ]
        },
        {
          "output_type": "stream",
          "name": "stdout",
          "text": [
            "Original DataFrame:\n"
          ]
        },
        {
          "output_type": "stream",
          "name": "stderr",
          "text": [
            "<ipython-input-83-741814f48ef0>:6: DeprecationWarning: cafile, capath and cadefault are deprecated, use a custom context instead.\n",
            "  response = urlopen(url, cafile=certifi.where())\n"
          ]
        },
        {
          "output_type": "stream",
          "name": "stdout",
          "text": [
            "Original DataFrame:\n"
          ]
        },
        {
          "output_type": "stream",
          "name": "stderr",
          "text": [
            "<ipython-input-83-741814f48ef0>:6: DeprecationWarning: cafile, capath and cadefault are deprecated, use a custom context instead.\n",
            "  response = urlopen(url, cafile=certifi.where())\n"
          ]
        },
        {
          "output_type": "stream",
          "name": "stdout",
          "text": [
            "Original DataFrame:\n"
          ]
        },
        {
          "output_type": "stream",
          "name": "stderr",
          "text": [
            "<ipython-input-83-741814f48ef0>:6: DeprecationWarning: cafile, capath and cadefault are deprecated, use a custom context instead.\n",
            "  response = urlopen(url, cafile=certifi.where())\n"
          ]
        },
        {
          "output_type": "stream",
          "name": "stdout",
          "text": [
            "Original DataFrame:\n"
          ]
        },
        {
          "output_type": "stream",
          "name": "stderr",
          "text": [
            "<ipython-input-83-741814f48ef0>:6: DeprecationWarning: cafile, capath and cadefault are deprecated, use a custom context instead.\n",
            "  response = urlopen(url, cafile=certifi.where())\n"
          ]
        },
        {
          "output_type": "stream",
          "name": "stdout",
          "text": [
            "Original DataFrame:\n"
          ]
        },
        {
          "output_type": "stream",
          "name": "stderr",
          "text": [
            "<ipython-input-83-741814f48ef0>:6: DeprecationWarning: cafile, capath and cadefault are deprecated, use a custom context instead.\n",
            "  response = urlopen(url, cafile=certifi.where())\n"
          ]
        },
        {
          "output_type": "stream",
          "name": "stdout",
          "text": [
            "Original DataFrame:\n"
          ]
        },
        {
          "output_type": "stream",
          "name": "stderr",
          "text": [
            "<ipython-input-83-741814f48ef0>:6: DeprecationWarning: cafile, capath and cadefault are deprecated, use a custom context instead.\n",
            "  response = urlopen(url, cafile=certifi.where())\n"
          ]
        },
        {
          "output_type": "stream",
          "name": "stdout",
          "text": [
            "Original DataFrame:\n"
          ]
        },
        {
          "output_type": "stream",
          "name": "stderr",
          "text": [
            "<ipython-input-83-741814f48ef0>:6: DeprecationWarning: cafile, capath and cadefault are deprecated, use a custom context instead.\n",
            "  response = urlopen(url, cafile=certifi.where())\n"
          ]
        },
        {
          "output_type": "stream",
          "name": "stdout",
          "text": [
            "Original DataFrame:\n"
          ]
        },
        {
          "output_type": "stream",
          "name": "stderr",
          "text": [
            "<ipython-input-83-741814f48ef0>:6: DeprecationWarning: cafile, capath and cadefault are deprecated, use a custom context instead.\n",
            "  response = urlopen(url, cafile=certifi.where())\n"
          ]
        },
        {
          "output_type": "stream",
          "name": "stdout",
          "text": [
            "Original DataFrame:\n"
          ]
        },
        {
          "output_type": "stream",
          "name": "stderr",
          "text": [
            "<ipython-input-83-741814f48ef0>:6: DeprecationWarning: cafile, capath and cadefault are deprecated, use a custom context instead.\n",
            "  response = urlopen(url, cafile=certifi.where())\n"
          ]
        },
        {
          "output_type": "stream",
          "name": "stdout",
          "text": [
            "Original DataFrame:\n"
          ]
        },
        {
          "output_type": "stream",
          "name": "stderr",
          "text": [
            "<ipython-input-83-741814f48ef0>:6: DeprecationWarning: cafile, capath and cadefault are deprecated, use a custom context instead.\n",
            "  response = urlopen(url, cafile=certifi.where())\n"
          ]
        },
        {
          "output_type": "stream",
          "name": "stdout",
          "text": [
            "Original DataFrame:\n"
          ]
        },
        {
          "output_type": "stream",
          "name": "stderr",
          "text": [
            "<ipython-input-83-741814f48ef0>:6: DeprecationWarning: cafile, capath and cadefault are deprecated, use a custom context instead.\n",
            "  response = urlopen(url, cafile=certifi.where())\n"
          ]
        },
        {
          "output_type": "stream",
          "name": "stdout",
          "text": [
            "Original DataFrame:\n"
          ]
        },
        {
          "output_type": "stream",
          "name": "stderr",
          "text": [
            "<ipython-input-83-741814f48ef0>:6: DeprecationWarning: cafile, capath and cadefault are deprecated, use a custom context instead.\n",
            "  response = urlopen(url, cafile=certifi.where())\n"
          ]
        },
        {
          "output_type": "stream",
          "name": "stdout",
          "text": [
            "Original DataFrame:\n"
          ]
        },
        {
          "output_type": "stream",
          "name": "stderr",
          "text": [
            "<ipython-input-83-741814f48ef0>:6: DeprecationWarning: cafile, capath and cadefault are deprecated, use a custom context instead.\n",
            "  response = urlopen(url, cafile=certifi.where())\n"
          ]
        },
        {
          "output_type": "stream",
          "name": "stdout",
          "text": [
            "Original DataFrame:\n"
          ]
        },
        {
          "output_type": "stream",
          "name": "stderr",
          "text": [
            "<ipython-input-83-741814f48ef0>:6: DeprecationWarning: cafile, capath and cadefault are deprecated, use a custom context instead.\n",
            "  response = urlopen(url, cafile=certifi.where())\n"
          ]
        },
        {
          "output_type": "stream",
          "name": "stdout",
          "text": [
            "Original DataFrame:\n"
          ]
        },
        {
          "output_type": "stream",
          "name": "stderr",
          "text": [
            "<ipython-input-83-741814f48ef0>:6: DeprecationWarning: cafile, capath and cadefault are deprecated, use a custom context instead.\n",
            "  response = urlopen(url, cafile=certifi.where())\n"
          ]
        },
        {
          "output_type": "stream",
          "name": "stdout",
          "text": [
            "Original DataFrame:\n"
          ]
        },
        {
          "output_type": "stream",
          "name": "stderr",
          "text": [
            "<ipython-input-83-741814f48ef0>:6: DeprecationWarning: cafile, capath and cadefault are deprecated, use a custom context instead.\n",
            "  response = urlopen(url, cafile=certifi.where())\n"
          ]
        },
        {
          "output_type": "stream",
          "name": "stdout",
          "text": [
            "Original DataFrame:\n"
          ]
        },
        {
          "output_type": "stream",
          "name": "stderr",
          "text": [
            "<ipython-input-83-741814f48ef0>:6: DeprecationWarning: cafile, capath and cadefault are deprecated, use a custom context instead.\n",
            "  response = urlopen(url, cafile=certifi.where())\n"
          ]
        },
        {
          "output_type": "stream",
          "name": "stdout",
          "text": [
            "Original DataFrame:\n"
          ]
        },
        {
          "output_type": "stream",
          "name": "stderr",
          "text": [
            "<ipython-input-83-741814f48ef0>:6: DeprecationWarning: cafile, capath and cadefault are deprecated, use a custom context instead.\n",
            "  response = urlopen(url, cafile=certifi.where())\n"
          ]
        },
        {
          "output_type": "stream",
          "name": "stdout",
          "text": [
            "Original DataFrame:\n"
          ]
        },
        {
          "output_type": "stream",
          "name": "stderr",
          "text": [
            "<ipython-input-83-741814f48ef0>:6: DeprecationWarning: cafile, capath and cadefault are deprecated, use a custom context instead.\n",
            "  response = urlopen(url, cafile=certifi.where())\n"
          ]
        },
        {
          "output_type": "stream",
          "name": "stdout",
          "text": [
            "Original DataFrame:\n"
          ]
        },
        {
          "output_type": "stream",
          "name": "stderr",
          "text": [
            "<ipython-input-83-741814f48ef0>:6: DeprecationWarning: cafile, capath and cadefault are deprecated, use a custom context instead.\n",
            "  response = urlopen(url, cafile=certifi.where())\n"
          ]
        },
        {
          "output_type": "stream",
          "name": "stdout",
          "text": [
            "Original DataFrame:\n"
          ]
        },
        {
          "output_type": "stream",
          "name": "stderr",
          "text": [
            "<ipython-input-83-741814f48ef0>:6: DeprecationWarning: cafile, capath and cadefault are deprecated, use a custom context instead.\n",
            "  response = urlopen(url, cafile=certifi.where())\n"
          ]
        },
        {
          "output_type": "stream",
          "name": "stdout",
          "text": [
            "Original DataFrame:\n"
          ]
        },
        {
          "output_type": "stream",
          "name": "stderr",
          "text": [
            "<ipython-input-83-741814f48ef0>:6: DeprecationWarning: cafile, capath and cadefault are deprecated, use a custom context instead.\n",
            "  response = urlopen(url, cafile=certifi.where())\n"
          ]
        },
        {
          "output_type": "stream",
          "name": "stdout",
          "text": [
            "Original DataFrame:\n"
          ]
        },
        {
          "output_type": "stream",
          "name": "stderr",
          "text": [
            "<ipython-input-83-741814f48ef0>:6: DeprecationWarning: cafile, capath and cadefault are deprecated, use a custom context instead.\n",
            "  response = urlopen(url, cafile=certifi.where())\n"
          ]
        },
        {
          "output_type": "stream",
          "name": "stdout",
          "text": [
            "Original DataFrame:\n"
          ]
        },
        {
          "output_type": "stream",
          "name": "stderr",
          "text": [
            "<ipython-input-83-741814f48ef0>:6: DeprecationWarning: cafile, capath and cadefault are deprecated, use a custom context instead.\n",
            "  response = urlopen(url, cafile=certifi.where())\n"
          ]
        },
        {
          "output_type": "stream",
          "name": "stdout",
          "text": [
            "Original DataFrame:\n"
          ]
        },
        {
          "output_type": "stream",
          "name": "stderr",
          "text": [
            "<ipython-input-83-741814f48ef0>:6: DeprecationWarning: cafile, capath and cadefault are deprecated, use a custom context instead.\n",
            "  response = urlopen(url, cafile=certifi.where())\n"
          ]
        },
        {
          "output_type": "stream",
          "name": "stdout",
          "text": [
            "Original DataFrame:\n"
          ]
        },
        {
          "output_type": "stream",
          "name": "stderr",
          "text": [
            "<ipython-input-83-741814f48ef0>:6: DeprecationWarning: cafile, capath and cadefault are deprecated, use a custom context instead.\n",
            "  response = urlopen(url, cafile=certifi.where())\n"
          ]
        },
        {
          "output_type": "stream",
          "name": "stdout",
          "text": [
            "Original DataFrame:\n"
          ]
        },
        {
          "output_type": "stream",
          "name": "stderr",
          "text": [
            "<ipython-input-83-741814f48ef0>:6: DeprecationWarning: cafile, capath and cadefault are deprecated, use a custom context instead.\n",
            "  response = urlopen(url, cafile=certifi.where())\n"
          ]
        },
        {
          "output_type": "stream",
          "name": "stdout",
          "text": [
            "Original DataFrame:\n"
          ]
        },
        {
          "output_type": "stream",
          "name": "stderr",
          "text": [
            "<ipython-input-83-741814f48ef0>:6: DeprecationWarning: cafile, capath and cadefault are deprecated, use a custom context instead.\n",
            "  response = urlopen(url, cafile=certifi.where())\n"
          ]
        },
        {
          "output_type": "stream",
          "name": "stdout",
          "text": [
            "Original DataFrame:\n"
          ]
        },
        {
          "output_type": "stream",
          "name": "stderr",
          "text": [
            "<ipython-input-83-741814f48ef0>:6: DeprecationWarning: cafile, capath and cadefault are deprecated, use a custom context instead.\n",
            "  response = urlopen(url, cafile=certifi.where())\n"
          ]
        },
        {
          "output_type": "stream",
          "name": "stdout",
          "text": [
            "Original DataFrame:\n"
          ]
        },
        {
          "output_type": "stream",
          "name": "stderr",
          "text": [
            "<ipython-input-83-741814f48ef0>:6: DeprecationWarning: cafile, capath and cadefault are deprecated, use a custom context instead.\n",
            "  response = urlopen(url, cafile=certifi.where())\n"
          ]
        },
        {
          "output_type": "stream",
          "name": "stdout",
          "text": [
            "Original DataFrame:\n"
          ]
        },
        {
          "output_type": "stream",
          "name": "stderr",
          "text": [
            "<ipython-input-83-741814f48ef0>:6: DeprecationWarning: cafile, capath and cadefault are deprecated, use a custom context instead.\n",
            "  response = urlopen(url, cafile=certifi.where())\n"
          ]
        },
        {
          "output_type": "stream",
          "name": "stdout",
          "text": [
            "Original DataFrame:\n"
          ]
        },
        {
          "output_type": "stream",
          "name": "stderr",
          "text": [
            "<ipython-input-83-741814f48ef0>:6: DeprecationWarning: cafile, capath and cadefault are deprecated, use a custom context instead.\n",
            "  response = urlopen(url, cafile=certifi.where())\n"
          ]
        },
        {
          "output_type": "stream",
          "name": "stdout",
          "text": [
            "Original DataFrame:\n"
          ]
        },
        {
          "output_type": "stream",
          "name": "stderr",
          "text": [
            "<ipython-input-83-741814f48ef0>:6: DeprecationWarning: cafile, capath and cadefault are deprecated, use a custom context instead.\n",
            "  response = urlopen(url, cafile=certifi.where())\n"
          ]
        },
        {
          "output_type": "stream",
          "name": "stdout",
          "text": [
            "Original DataFrame:\n"
          ]
        },
        {
          "output_type": "stream",
          "name": "stderr",
          "text": [
            "<ipython-input-83-741814f48ef0>:6: DeprecationWarning: cafile, capath and cadefault are deprecated, use a custom context instead.\n",
            "  response = urlopen(url, cafile=certifi.where())\n"
          ]
        },
        {
          "output_type": "stream",
          "name": "stdout",
          "text": [
            "Original DataFrame:\n"
          ]
        },
        {
          "output_type": "stream",
          "name": "stderr",
          "text": [
            "<ipython-input-83-741814f48ef0>:6: DeprecationWarning: cafile, capath and cadefault are deprecated, use a custom context instead.\n",
            "  response = urlopen(url, cafile=certifi.where())\n"
          ]
        },
        {
          "output_type": "stream",
          "name": "stdout",
          "text": [
            "Original DataFrame:\n"
          ]
        },
        {
          "output_type": "stream",
          "name": "stderr",
          "text": [
            "<ipython-input-83-741814f48ef0>:6: DeprecationWarning: cafile, capath and cadefault are deprecated, use a custom context instead.\n",
            "  response = urlopen(url, cafile=certifi.where())\n"
          ]
        },
        {
          "output_type": "stream",
          "name": "stdout",
          "text": [
            "Original DataFrame:\n"
          ]
        },
        {
          "output_type": "stream",
          "name": "stderr",
          "text": [
            "<ipython-input-83-741814f48ef0>:6: DeprecationWarning: cafile, capath and cadefault are deprecated, use a custom context instead.\n",
            "  response = urlopen(url, cafile=certifi.where())\n"
          ]
        },
        {
          "output_type": "stream",
          "name": "stdout",
          "text": [
            "Original DataFrame:\n"
          ]
        },
        {
          "output_type": "stream",
          "name": "stderr",
          "text": [
            "<ipython-input-83-741814f48ef0>:6: DeprecationWarning: cafile, capath and cadefault are deprecated, use a custom context instead.\n",
            "  response = urlopen(url, cafile=certifi.where())\n"
          ]
        },
        {
          "output_type": "stream",
          "name": "stdout",
          "text": [
            "Original DataFrame:\n"
          ]
        },
        {
          "output_type": "stream",
          "name": "stderr",
          "text": [
            "<ipython-input-83-741814f48ef0>:6: DeprecationWarning: cafile, capath and cadefault are deprecated, use a custom context instead.\n",
            "  response = urlopen(url, cafile=certifi.where())\n"
          ]
        },
        {
          "output_type": "stream",
          "name": "stdout",
          "text": [
            "Original DataFrame:\n"
          ]
        },
        {
          "output_type": "stream",
          "name": "stderr",
          "text": [
            "<ipython-input-83-741814f48ef0>:6: DeprecationWarning: cafile, capath and cadefault are deprecated, use a custom context instead.\n",
            "  response = urlopen(url, cafile=certifi.where())\n"
          ]
        },
        {
          "output_type": "stream",
          "name": "stdout",
          "text": [
            "Original DataFrame:\n"
          ]
        },
        {
          "output_type": "stream",
          "name": "stderr",
          "text": [
            "<ipython-input-83-741814f48ef0>:6: DeprecationWarning: cafile, capath and cadefault are deprecated, use a custom context instead.\n",
            "  response = urlopen(url, cafile=certifi.where())\n"
          ]
        },
        {
          "output_type": "stream",
          "name": "stdout",
          "text": [
            "Original DataFrame:\n"
          ]
        },
        {
          "output_type": "stream",
          "name": "stderr",
          "text": [
            "<ipython-input-83-741814f48ef0>:6: DeprecationWarning: cafile, capath and cadefault are deprecated, use a custom context instead.\n",
            "  response = urlopen(url, cafile=certifi.where())\n"
          ]
        },
        {
          "output_type": "stream",
          "name": "stdout",
          "text": [
            "Original DataFrame:\n"
          ]
        },
        {
          "output_type": "stream",
          "name": "stderr",
          "text": [
            "<ipython-input-83-741814f48ef0>:6: DeprecationWarning: cafile, capath and cadefault are deprecated, use a custom context instead.\n",
            "  response = urlopen(url, cafile=certifi.where())\n"
          ]
        },
        {
          "output_type": "stream",
          "name": "stdout",
          "text": [
            "Original DataFrame:\n"
          ]
        },
        {
          "output_type": "stream",
          "name": "stderr",
          "text": [
            "<ipython-input-83-741814f48ef0>:6: DeprecationWarning: cafile, capath and cadefault are deprecated, use a custom context instead.\n",
            "  response = urlopen(url, cafile=certifi.where())\n"
          ]
        },
        {
          "output_type": "stream",
          "name": "stdout",
          "text": [
            "Original DataFrame:\n"
          ]
        },
        {
          "output_type": "stream",
          "name": "stderr",
          "text": [
            "<ipython-input-83-741814f48ef0>:6: DeprecationWarning: cafile, capath and cadefault are deprecated, use a custom context instead.\n",
            "  response = urlopen(url, cafile=certifi.where())\n"
          ]
        },
        {
          "output_type": "stream",
          "name": "stdout",
          "text": [
            "Original DataFrame:\n"
          ]
        },
        {
          "output_type": "stream",
          "name": "stderr",
          "text": [
            "<ipython-input-83-741814f48ef0>:6: DeprecationWarning: cafile, capath and cadefault are deprecated, use a custom context instead.\n",
            "  response = urlopen(url, cafile=certifi.where())\n"
          ]
        },
        {
          "output_type": "stream",
          "name": "stdout",
          "text": [
            "Original DataFrame:\n"
          ]
        },
        {
          "output_type": "stream",
          "name": "stderr",
          "text": [
            "<ipython-input-83-741814f48ef0>:6: DeprecationWarning: cafile, capath and cadefault are deprecated, use a custom context instead.\n",
            "  response = urlopen(url, cafile=certifi.where())\n"
          ]
        },
        {
          "output_type": "stream",
          "name": "stdout",
          "text": [
            "Original DataFrame:\n"
          ]
        },
        {
          "output_type": "stream",
          "name": "stderr",
          "text": [
            "<ipython-input-83-741814f48ef0>:6: DeprecationWarning: cafile, capath and cadefault are deprecated, use a custom context instead.\n",
            "  response = urlopen(url, cafile=certifi.where())\n"
          ]
        },
        {
          "output_type": "stream",
          "name": "stdout",
          "text": [
            "Original DataFrame:\n"
          ]
        },
        {
          "output_type": "stream",
          "name": "stderr",
          "text": [
            "<ipython-input-83-741814f48ef0>:6: DeprecationWarning: cafile, capath and cadefault are deprecated, use a custom context instead.\n",
            "  response = urlopen(url, cafile=certifi.where())\n"
          ]
        },
        {
          "output_type": "stream",
          "name": "stdout",
          "text": [
            "Original DataFrame:\n"
          ]
        },
        {
          "output_type": "stream",
          "name": "stderr",
          "text": [
            "<ipython-input-83-741814f48ef0>:6: DeprecationWarning: cafile, capath and cadefault are deprecated, use a custom context instead.\n",
            "  response = urlopen(url, cafile=certifi.where())\n"
          ]
        },
        {
          "output_type": "stream",
          "name": "stdout",
          "text": [
            "Original DataFrame:\n"
          ]
        },
        {
          "output_type": "stream",
          "name": "stderr",
          "text": [
            "<ipython-input-83-741814f48ef0>:6: DeprecationWarning: cafile, capath and cadefault are deprecated, use a custom context instead.\n",
            "  response = urlopen(url, cafile=certifi.where())\n"
          ]
        },
        {
          "output_type": "stream",
          "name": "stdout",
          "text": [
            "Original DataFrame:\n"
          ]
        },
        {
          "output_type": "stream",
          "name": "stderr",
          "text": [
            "<ipython-input-83-741814f48ef0>:6: DeprecationWarning: cafile, capath and cadefault are deprecated, use a custom context instead.\n",
            "  response = urlopen(url, cafile=certifi.where())\n"
          ]
        },
        {
          "output_type": "stream",
          "name": "stdout",
          "text": [
            "Original DataFrame:\n"
          ]
        },
        {
          "output_type": "stream",
          "name": "stderr",
          "text": [
            "<ipython-input-83-741814f48ef0>:6: DeprecationWarning: cafile, capath and cadefault are deprecated, use a custom context instead.\n",
            "  response = urlopen(url, cafile=certifi.where())\n"
          ]
        },
        {
          "output_type": "stream",
          "name": "stdout",
          "text": [
            "Original DataFrame:\n"
          ]
        },
        {
          "output_type": "stream",
          "name": "stderr",
          "text": [
            "<ipython-input-83-741814f48ef0>:6: DeprecationWarning: cafile, capath and cadefault are deprecated, use a custom context instead.\n",
            "  response = urlopen(url, cafile=certifi.where())\n"
          ]
        },
        {
          "output_type": "stream",
          "name": "stdout",
          "text": [
            "Original DataFrame:\n"
          ]
        },
        {
          "output_type": "stream",
          "name": "stderr",
          "text": [
            "<ipython-input-83-741814f48ef0>:6: DeprecationWarning: cafile, capath and cadefault are deprecated, use a custom context instead.\n",
            "  response = urlopen(url, cafile=certifi.where())\n"
          ]
        },
        {
          "output_type": "stream",
          "name": "stdout",
          "text": [
            "Original DataFrame:\n"
          ]
        },
        {
          "output_type": "stream",
          "name": "stderr",
          "text": [
            "<ipython-input-83-741814f48ef0>:6: DeprecationWarning: cafile, capath and cadefault are deprecated, use a custom context instead.\n",
            "  response = urlopen(url, cafile=certifi.where())\n"
          ]
        },
        {
          "output_type": "stream",
          "name": "stdout",
          "text": [
            "Original DataFrame:\n"
          ]
        },
        {
          "output_type": "stream",
          "name": "stderr",
          "text": [
            "<ipython-input-83-741814f48ef0>:6: DeprecationWarning: cafile, capath and cadefault are deprecated, use a custom context instead.\n",
            "  response = urlopen(url, cafile=certifi.where())\n"
          ]
        },
        {
          "output_type": "stream",
          "name": "stdout",
          "text": [
            "Original DataFrame:\n"
          ]
        },
        {
          "output_type": "stream",
          "name": "stderr",
          "text": [
            "<ipython-input-83-741814f48ef0>:6: DeprecationWarning: cafile, capath and cadefault are deprecated, use a custom context instead.\n",
            "  response = urlopen(url, cafile=certifi.where())\n"
          ]
        },
        {
          "output_type": "stream",
          "name": "stdout",
          "text": [
            "Original DataFrame:\n"
          ]
        },
        {
          "output_type": "stream",
          "name": "stderr",
          "text": [
            "<ipython-input-83-741814f48ef0>:6: DeprecationWarning: cafile, capath and cadefault are deprecated, use a custom context instead.\n",
            "  response = urlopen(url, cafile=certifi.where())\n"
          ]
        },
        {
          "output_type": "stream",
          "name": "stdout",
          "text": [
            "Original DataFrame:\n"
          ]
        },
        {
          "output_type": "stream",
          "name": "stderr",
          "text": [
            "<ipython-input-83-741814f48ef0>:6: DeprecationWarning: cafile, capath and cadefault are deprecated, use a custom context instead.\n",
            "  response = urlopen(url, cafile=certifi.where())\n"
          ]
        },
        {
          "output_type": "stream",
          "name": "stdout",
          "text": [
            "Original DataFrame:\n"
          ]
        },
        {
          "output_type": "stream",
          "name": "stderr",
          "text": [
            "<ipython-input-83-741814f48ef0>:6: DeprecationWarning: cafile, capath and cadefault are deprecated, use a custom context instead.\n",
            "  response = urlopen(url, cafile=certifi.where())\n"
          ]
        },
        {
          "output_type": "stream",
          "name": "stdout",
          "text": [
            "Original DataFrame:\n"
          ]
        },
        {
          "output_type": "stream",
          "name": "stderr",
          "text": [
            "<ipython-input-83-741814f48ef0>:6: DeprecationWarning: cafile, capath and cadefault are deprecated, use a custom context instead.\n",
            "  response = urlopen(url, cafile=certifi.where())\n"
          ]
        },
        {
          "output_type": "stream",
          "name": "stdout",
          "text": [
            "Original DataFrame:\n"
          ]
        },
        {
          "output_type": "stream",
          "name": "stderr",
          "text": [
            "<ipython-input-83-741814f48ef0>:6: DeprecationWarning: cafile, capath and cadefault are deprecated, use a custom context instead.\n",
            "  response = urlopen(url, cafile=certifi.where())\n"
          ]
        },
        {
          "output_type": "stream",
          "name": "stdout",
          "text": [
            "Original DataFrame:\n"
          ]
        },
        {
          "output_type": "stream",
          "name": "stderr",
          "text": [
            "<ipython-input-83-741814f48ef0>:6: DeprecationWarning: cafile, capath and cadefault are deprecated, use a custom context instead.\n",
            "  response = urlopen(url, cafile=certifi.where())\n"
          ]
        },
        {
          "output_type": "stream",
          "name": "stdout",
          "text": [
            "Original DataFrame:\n"
          ]
        },
        {
          "output_type": "stream",
          "name": "stderr",
          "text": [
            "<ipython-input-83-741814f48ef0>:6: DeprecationWarning: cafile, capath and cadefault are deprecated, use a custom context instead.\n",
            "  response = urlopen(url, cafile=certifi.where())\n"
          ]
        },
        {
          "output_type": "stream",
          "name": "stdout",
          "text": [
            "Original DataFrame:\n"
          ]
        },
        {
          "output_type": "stream",
          "name": "stderr",
          "text": [
            "<ipython-input-83-741814f48ef0>:6: DeprecationWarning: cafile, capath and cadefault are deprecated, use a custom context instead.\n",
            "  response = urlopen(url, cafile=certifi.where())\n"
          ]
        },
        {
          "output_type": "stream",
          "name": "stdout",
          "text": [
            "Original DataFrame:\n"
          ]
        },
        {
          "output_type": "stream",
          "name": "stderr",
          "text": [
            "<ipython-input-83-741814f48ef0>:6: DeprecationWarning: cafile, capath and cadefault are deprecated, use a custom context instead.\n",
            "  response = urlopen(url, cafile=certifi.where())\n"
          ]
        },
        {
          "output_type": "stream",
          "name": "stdout",
          "text": [
            "Original DataFrame:\n"
          ]
        },
        {
          "output_type": "stream",
          "name": "stderr",
          "text": [
            "<ipython-input-83-741814f48ef0>:6: DeprecationWarning: cafile, capath and cadefault are deprecated, use a custom context instead.\n",
            "  response = urlopen(url, cafile=certifi.where())\n"
          ]
        },
        {
          "output_type": "stream",
          "name": "stdout",
          "text": [
            "Original DataFrame:\n"
          ]
        },
        {
          "output_type": "stream",
          "name": "stderr",
          "text": [
            "<ipython-input-83-741814f48ef0>:6: DeprecationWarning: cafile, capath and cadefault are deprecated, use a custom context instead.\n",
            "  response = urlopen(url, cafile=certifi.where())\n"
          ]
        },
        {
          "output_type": "stream",
          "name": "stdout",
          "text": [
            "Original DataFrame:\n"
          ]
        },
        {
          "output_type": "stream",
          "name": "stderr",
          "text": [
            "<ipython-input-83-741814f48ef0>:6: DeprecationWarning: cafile, capath and cadefault are deprecated, use a custom context instead.\n",
            "  response = urlopen(url, cafile=certifi.where())\n"
          ]
        },
        {
          "output_type": "stream",
          "name": "stdout",
          "text": [
            "Original DataFrame:\n"
          ]
        },
        {
          "output_type": "stream",
          "name": "stderr",
          "text": [
            "<ipython-input-83-741814f48ef0>:6: DeprecationWarning: cafile, capath and cadefault are deprecated, use a custom context instead.\n",
            "  response = urlopen(url, cafile=certifi.where())\n"
          ]
        },
        {
          "output_type": "stream",
          "name": "stdout",
          "text": [
            "Original DataFrame:\n"
          ]
        },
        {
          "output_type": "stream",
          "name": "stderr",
          "text": [
            "<ipython-input-83-741814f48ef0>:6: DeprecationWarning: cafile, capath and cadefault are deprecated, use a custom context instead.\n",
            "  response = urlopen(url, cafile=certifi.where())\n"
          ]
        },
        {
          "output_type": "stream",
          "name": "stdout",
          "text": [
            "Original DataFrame:\n"
          ]
        },
        {
          "output_type": "stream",
          "name": "stderr",
          "text": [
            "<ipython-input-83-741814f48ef0>:6: DeprecationWarning: cafile, capath and cadefault are deprecated, use a custom context instead.\n",
            "  response = urlopen(url, cafile=certifi.where())\n"
          ]
        },
        {
          "output_type": "stream",
          "name": "stdout",
          "text": [
            "Original DataFrame:\n"
          ]
        },
        {
          "output_type": "stream",
          "name": "stderr",
          "text": [
            "<ipython-input-83-741814f48ef0>:6: DeprecationWarning: cafile, capath and cadefault are deprecated, use a custom context instead.\n",
            "  response = urlopen(url, cafile=certifi.where())\n"
          ]
        },
        {
          "output_type": "stream",
          "name": "stdout",
          "text": [
            "Original DataFrame:\n"
          ]
        },
        {
          "output_type": "stream",
          "name": "stderr",
          "text": [
            "<ipython-input-83-741814f48ef0>:6: DeprecationWarning: cafile, capath and cadefault are deprecated, use a custom context instead.\n",
            "  response = urlopen(url, cafile=certifi.where())\n"
          ]
        },
        {
          "output_type": "stream",
          "name": "stdout",
          "text": [
            "Original DataFrame:\n"
          ]
        },
        {
          "output_type": "stream",
          "name": "stderr",
          "text": [
            "<ipython-input-83-741814f48ef0>:6: DeprecationWarning: cafile, capath and cadefault are deprecated, use a custom context instead.\n",
            "  response = urlopen(url, cafile=certifi.where())\n"
          ]
        },
        {
          "output_type": "stream",
          "name": "stdout",
          "text": [
            "Original DataFrame:\n"
          ]
        },
        {
          "output_type": "stream",
          "name": "stderr",
          "text": [
            "<ipython-input-83-741814f48ef0>:6: DeprecationWarning: cafile, capath and cadefault are deprecated, use a custom context instead.\n",
            "  response = urlopen(url, cafile=certifi.where())\n"
          ]
        },
        {
          "output_type": "stream",
          "name": "stdout",
          "text": [
            "Original DataFrame:\n"
          ]
        },
        {
          "output_type": "stream",
          "name": "stderr",
          "text": [
            "<ipython-input-83-741814f48ef0>:6: DeprecationWarning: cafile, capath and cadefault are deprecated, use a custom context instead.\n",
            "  response = urlopen(url, cafile=certifi.where())\n"
          ]
        },
        {
          "output_type": "stream",
          "name": "stdout",
          "text": [
            "Original DataFrame:\n"
          ]
        },
        {
          "output_type": "stream",
          "name": "stderr",
          "text": [
            "<ipython-input-83-741814f48ef0>:6: DeprecationWarning: cafile, capath and cadefault are deprecated, use a custom context instead.\n",
            "  response = urlopen(url, cafile=certifi.where())\n"
          ]
        },
        {
          "output_type": "stream",
          "name": "stdout",
          "text": [
            "Original DataFrame:\n"
          ]
        },
        {
          "output_type": "stream",
          "name": "stderr",
          "text": [
            "<ipython-input-83-741814f48ef0>:6: DeprecationWarning: cafile, capath and cadefault are deprecated, use a custom context instead.\n",
            "  response = urlopen(url, cafile=certifi.where())\n"
          ]
        },
        {
          "output_type": "stream",
          "name": "stdout",
          "text": [
            "Original DataFrame:\n"
          ]
        },
        {
          "output_type": "stream",
          "name": "stderr",
          "text": [
            "<ipython-input-83-741814f48ef0>:6: DeprecationWarning: cafile, capath and cadefault are deprecated, use a custom context instead.\n",
            "  response = urlopen(url, cafile=certifi.where())\n"
          ]
        },
        {
          "output_type": "stream",
          "name": "stdout",
          "text": [
            "Original DataFrame:\n"
          ]
        },
        {
          "output_type": "stream",
          "name": "stderr",
          "text": [
            "<ipython-input-83-741814f48ef0>:6: DeprecationWarning: cafile, capath and cadefault are deprecated, use a custom context instead.\n",
            "  response = urlopen(url, cafile=certifi.where())\n"
          ]
        },
        {
          "output_type": "stream",
          "name": "stdout",
          "text": [
            "Original DataFrame:\n"
          ]
        },
        {
          "output_type": "stream",
          "name": "stderr",
          "text": [
            "<ipython-input-83-741814f48ef0>:6: DeprecationWarning: cafile, capath and cadefault are deprecated, use a custom context instead.\n",
            "  response = urlopen(url, cafile=certifi.where())\n"
          ]
        },
        {
          "output_type": "stream",
          "name": "stdout",
          "text": [
            "Original DataFrame:\n"
          ]
        },
        {
          "output_type": "stream",
          "name": "stderr",
          "text": [
            "<ipython-input-83-741814f48ef0>:6: DeprecationWarning: cafile, capath and cadefault are deprecated, use a custom context instead.\n",
            "  response = urlopen(url, cafile=certifi.where())\n"
          ]
        },
        {
          "output_type": "stream",
          "name": "stdout",
          "text": [
            "Original DataFrame:\n"
          ]
        },
        {
          "output_type": "stream",
          "name": "stderr",
          "text": [
            "<ipython-input-83-741814f48ef0>:6: DeprecationWarning: cafile, capath and cadefault are deprecated, use a custom context instead.\n",
            "  response = urlopen(url, cafile=certifi.where())\n"
          ]
        },
        {
          "output_type": "stream",
          "name": "stdout",
          "text": [
            "Original DataFrame:\n"
          ]
        },
        {
          "output_type": "stream",
          "name": "stderr",
          "text": [
            "<ipython-input-83-741814f48ef0>:6: DeprecationWarning: cafile, capath and cadefault are deprecated, use a custom context instead.\n",
            "  response = urlopen(url, cafile=certifi.where())\n"
          ]
        },
        {
          "output_type": "stream",
          "name": "stdout",
          "text": [
            "Original DataFrame:\n"
          ]
        },
        {
          "output_type": "stream",
          "name": "stderr",
          "text": [
            "<ipython-input-83-741814f48ef0>:6: DeprecationWarning: cafile, capath and cadefault are deprecated, use a custom context instead.\n",
            "  response = urlopen(url, cafile=certifi.where())\n"
          ]
        },
        {
          "output_type": "stream",
          "name": "stdout",
          "text": [
            "Original DataFrame:\n"
          ]
        },
        {
          "output_type": "stream",
          "name": "stderr",
          "text": [
            "<ipython-input-83-741814f48ef0>:6: DeprecationWarning: cafile, capath and cadefault are deprecated, use a custom context instead.\n",
            "  response = urlopen(url, cafile=certifi.where())\n"
          ]
        },
        {
          "output_type": "stream",
          "name": "stdout",
          "text": [
            "Original DataFrame:\n"
          ]
        },
        {
          "output_type": "stream",
          "name": "stderr",
          "text": [
            "<ipython-input-83-741814f48ef0>:6: DeprecationWarning: cafile, capath and cadefault are deprecated, use a custom context instead.\n",
            "  response = urlopen(url, cafile=certifi.where())\n"
          ]
        },
        {
          "output_type": "stream",
          "name": "stdout",
          "text": [
            "Original DataFrame:\n"
          ]
        },
        {
          "output_type": "stream",
          "name": "stderr",
          "text": [
            "<ipython-input-83-741814f48ef0>:6: DeprecationWarning: cafile, capath and cadefault are deprecated, use a custom context instead.\n",
            "  response = urlopen(url, cafile=certifi.where())\n"
          ]
        },
        {
          "output_type": "stream",
          "name": "stdout",
          "text": [
            "Original DataFrame:\n"
          ]
        },
        {
          "output_type": "stream",
          "name": "stderr",
          "text": [
            "<ipython-input-83-741814f48ef0>:6: DeprecationWarning: cafile, capath and cadefault are deprecated, use a custom context instead.\n",
            "  response = urlopen(url, cafile=certifi.where())\n"
          ]
        },
        {
          "output_type": "stream",
          "name": "stdout",
          "text": [
            "Original DataFrame:\n"
          ]
        },
        {
          "output_type": "stream",
          "name": "stderr",
          "text": [
            "<ipython-input-83-741814f48ef0>:6: DeprecationWarning: cafile, capath and cadefault are deprecated, use a custom context instead.\n",
            "  response = urlopen(url, cafile=certifi.where())\n"
          ]
        },
        {
          "output_type": "stream",
          "name": "stdout",
          "text": [
            "Original DataFrame:\n"
          ]
        },
        {
          "output_type": "stream",
          "name": "stderr",
          "text": [
            "<ipython-input-83-741814f48ef0>:6: DeprecationWarning: cafile, capath and cadefault are deprecated, use a custom context instead.\n",
            "  response = urlopen(url, cafile=certifi.where())\n"
          ]
        },
        {
          "output_type": "stream",
          "name": "stdout",
          "text": [
            "Original DataFrame:\n"
          ]
        },
        {
          "output_type": "stream",
          "name": "stderr",
          "text": [
            "<ipython-input-83-741814f48ef0>:6: DeprecationWarning: cafile, capath and cadefault are deprecated, use a custom context instead.\n",
            "  response = urlopen(url, cafile=certifi.where())\n"
          ]
        },
        {
          "output_type": "stream",
          "name": "stdout",
          "text": [
            "Original DataFrame:\n"
          ]
        },
        {
          "output_type": "stream",
          "name": "stderr",
          "text": [
            "<ipython-input-83-741814f48ef0>:6: DeprecationWarning: cafile, capath and cadefault are deprecated, use a custom context instead.\n",
            "  response = urlopen(url, cafile=certifi.where())\n"
          ]
        },
        {
          "output_type": "stream",
          "name": "stdout",
          "text": [
            "Original DataFrame:\n"
          ]
        },
        {
          "output_type": "stream",
          "name": "stderr",
          "text": [
            "<ipython-input-83-741814f48ef0>:6: DeprecationWarning: cafile, capath and cadefault are deprecated, use a custom context instead.\n",
            "  response = urlopen(url, cafile=certifi.where())\n"
          ]
        },
        {
          "output_type": "stream",
          "name": "stdout",
          "text": [
            "Original DataFrame:\n"
          ]
        },
        {
          "output_type": "stream",
          "name": "stderr",
          "text": [
            "<ipython-input-83-741814f48ef0>:6: DeprecationWarning: cafile, capath and cadefault are deprecated, use a custom context instead.\n",
            "  response = urlopen(url, cafile=certifi.where())\n"
          ]
        },
        {
          "output_type": "stream",
          "name": "stdout",
          "text": [
            "Original DataFrame:\n"
          ]
        },
        {
          "output_type": "stream",
          "name": "stderr",
          "text": [
            "<ipython-input-83-741814f48ef0>:6: DeprecationWarning: cafile, capath and cadefault are deprecated, use a custom context instead.\n",
            "  response = urlopen(url, cafile=certifi.where())\n"
          ]
        },
        {
          "output_type": "stream",
          "name": "stdout",
          "text": [
            "Original DataFrame:\n"
          ]
        },
        {
          "output_type": "stream",
          "name": "stderr",
          "text": [
            "<ipython-input-83-741814f48ef0>:6: DeprecationWarning: cafile, capath and cadefault are deprecated, use a custom context instead.\n",
            "  response = urlopen(url, cafile=certifi.where())\n"
          ]
        },
        {
          "output_type": "stream",
          "name": "stdout",
          "text": [
            "Original DataFrame:\n"
          ]
        },
        {
          "output_type": "stream",
          "name": "stderr",
          "text": [
            "<ipython-input-83-741814f48ef0>:6: DeprecationWarning: cafile, capath and cadefault are deprecated, use a custom context instead.\n",
            "  response = urlopen(url, cafile=certifi.where())\n"
          ]
        },
        {
          "output_type": "stream",
          "name": "stdout",
          "text": [
            "Original DataFrame:\n"
          ]
        },
        {
          "output_type": "stream",
          "name": "stderr",
          "text": [
            "<ipython-input-83-741814f48ef0>:6: DeprecationWarning: cafile, capath and cadefault are deprecated, use a custom context instead.\n",
            "  response = urlopen(url, cafile=certifi.where())\n"
          ]
        },
        {
          "output_type": "stream",
          "name": "stdout",
          "text": [
            "Original DataFrame:\n"
          ]
        },
        {
          "output_type": "stream",
          "name": "stderr",
          "text": [
            "<ipython-input-83-741814f48ef0>:6: DeprecationWarning: cafile, capath and cadefault are deprecated, use a custom context instead.\n",
            "  response = urlopen(url, cafile=certifi.where())\n"
          ]
        },
        {
          "output_type": "stream",
          "name": "stdout",
          "text": [
            "Original DataFrame:\n"
          ]
        },
        {
          "output_type": "stream",
          "name": "stderr",
          "text": [
            "<ipython-input-83-741814f48ef0>:6: DeprecationWarning: cafile, capath and cadefault are deprecated, use a custom context instead.\n",
            "  response = urlopen(url, cafile=certifi.where())\n"
          ]
        },
        {
          "output_type": "stream",
          "name": "stdout",
          "text": [
            "Original DataFrame:\n"
          ]
        },
        {
          "output_type": "stream",
          "name": "stderr",
          "text": [
            "<ipython-input-83-741814f48ef0>:6: DeprecationWarning: cafile, capath and cadefault are deprecated, use a custom context instead.\n",
            "  response = urlopen(url, cafile=certifi.where())\n"
          ]
        },
        {
          "output_type": "stream",
          "name": "stdout",
          "text": [
            "Original DataFrame:\n"
          ]
        },
        {
          "output_type": "stream",
          "name": "stderr",
          "text": [
            "<ipython-input-83-741814f48ef0>:6: DeprecationWarning: cafile, capath and cadefault are deprecated, use a custom context instead.\n",
            "  response = urlopen(url, cafile=certifi.where())\n"
          ]
        },
        {
          "output_type": "stream",
          "name": "stdout",
          "text": [
            "Original DataFrame:\n"
          ]
        },
        {
          "output_type": "stream",
          "name": "stderr",
          "text": [
            "<ipython-input-83-741814f48ef0>:6: DeprecationWarning: cafile, capath and cadefault are deprecated, use a custom context instead.\n",
            "  response = urlopen(url, cafile=certifi.where())\n"
          ]
        },
        {
          "output_type": "stream",
          "name": "stdout",
          "text": [
            "Original DataFrame:\n"
          ]
        },
        {
          "output_type": "stream",
          "name": "stderr",
          "text": [
            "<ipython-input-83-741814f48ef0>:6: DeprecationWarning: cafile, capath and cadefault are deprecated, use a custom context instead.\n",
            "  response = urlopen(url, cafile=certifi.where())\n"
          ]
        },
        {
          "output_type": "stream",
          "name": "stdout",
          "text": [
            "Original DataFrame:\n"
          ]
        },
        {
          "output_type": "stream",
          "name": "stderr",
          "text": [
            "<ipython-input-83-741814f48ef0>:6: DeprecationWarning: cafile, capath and cadefault are deprecated, use a custom context instead.\n",
            "  response = urlopen(url, cafile=certifi.where())\n"
          ]
        },
        {
          "output_type": "stream",
          "name": "stdout",
          "text": [
            "Original DataFrame:\n"
          ]
        },
        {
          "output_type": "stream",
          "name": "stderr",
          "text": [
            "<ipython-input-83-741814f48ef0>:6: DeprecationWarning: cafile, capath and cadefault are deprecated, use a custom context instead.\n",
            "  response = urlopen(url, cafile=certifi.where())\n"
          ]
        },
        {
          "output_type": "stream",
          "name": "stdout",
          "text": [
            "Original DataFrame:\n"
          ]
        },
        {
          "output_type": "stream",
          "name": "stderr",
          "text": [
            "<ipython-input-83-741814f48ef0>:6: DeprecationWarning: cafile, capath and cadefault are deprecated, use a custom context instead.\n",
            "  response = urlopen(url, cafile=certifi.where())\n"
          ]
        },
        {
          "output_type": "stream",
          "name": "stdout",
          "text": [
            "Original DataFrame:\n"
          ]
        },
        {
          "output_type": "stream",
          "name": "stderr",
          "text": [
            "<ipython-input-83-741814f48ef0>:6: DeprecationWarning: cafile, capath and cadefault are deprecated, use a custom context instead.\n",
            "  response = urlopen(url, cafile=certifi.where())\n"
          ]
        },
        {
          "output_type": "stream",
          "name": "stdout",
          "text": [
            "Original DataFrame:\n"
          ]
        },
        {
          "output_type": "stream",
          "name": "stderr",
          "text": [
            "<ipython-input-83-741814f48ef0>:6: DeprecationWarning: cafile, capath and cadefault are deprecated, use a custom context instead.\n",
            "  response = urlopen(url, cafile=certifi.where())\n"
          ]
        },
        {
          "output_type": "stream",
          "name": "stdout",
          "text": [
            "Original DataFrame:\n"
          ]
        },
        {
          "output_type": "stream",
          "name": "stderr",
          "text": [
            "<ipython-input-83-741814f48ef0>:6: DeprecationWarning: cafile, capath and cadefault are deprecated, use a custom context instead.\n",
            "  response = urlopen(url, cafile=certifi.where())\n"
          ]
        },
        {
          "output_type": "stream",
          "name": "stdout",
          "text": [
            "Original DataFrame:\n"
          ]
        },
        {
          "output_type": "stream",
          "name": "stderr",
          "text": [
            "<ipython-input-83-741814f48ef0>:6: DeprecationWarning: cafile, capath and cadefault are deprecated, use a custom context instead.\n",
            "  response = urlopen(url, cafile=certifi.where())\n"
          ]
        },
        {
          "output_type": "stream",
          "name": "stdout",
          "text": [
            "Original DataFrame:\n"
          ]
        },
        {
          "output_type": "stream",
          "name": "stderr",
          "text": [
            "<ipython-input-83-741814f48ef0>:6: DeprecationWarning: cafile, capath and cadefault are deprecated, use a custom context instead.\n",
            "  response = urlopen(url, cafile=certifi.where())\n"
          ]
        },
        {
          "output_type": "stream",
          "name": "stdout",
          "text": [
            "Original DataFrame:\n"
          ]
        },
        {
          "output_type": "stream",
          "name": "stderr",
          "text": [
            "<ipython-input-83-741814f48ef0>:6: DeprecationWarning: cafile, capath and cadefault are deprecated, use a custom context instead.\n",
            "  response = urlopen(url, cafile=certifi.where())\n"
          ]
        },
        {
          "output_type": "stream",
          "name": "stdout",
          "text": [
            "Original DataFrame:\n"
          ]
        },
        {
          "output_type": "stream",
          "name": "stderr",
          "text": [
            "<ipython-input-83-741814f48ef0>:6: DeprecationWarning: cafile, capath and cadefault are deprecated, use a custom context instead.\n",
            "  response = urlopen(url, cafile=certifi.where())\n"
          ]
        },
        {
          "output_type": "stream",
          "name": "stdout",
          "text": [
            "Original DataFrame:\n"
          ]
        },
        {
          "output_type": "stream",
          "name": "stderr",
          "text": [
            "<ipython-input-83-741814f48ef0>:6: DeprecationWarning: cafile, capath and cadefault are deprecated, use a custom context instead.\n",
            "  response = urlopen(url, cafile=certifi.where())\n"
          ]
        },
        {
          "output_type": "stream",
          "name": "stdout",
          "text": [
            "Original DataFrame:\n"
          ]
        },
        {
          "output_type": "stream",
          "name": "stderr",
          "text": [
            "<ipython-input-83-741814f48ef0>:6: DeprecationWarning: cafile, capath and cadefault are deprecated, use a custom context instead.\n",
            "  response = urlopen(url, cafile=certifi.where())\n"
          ]
        },
        {
          "output_type": "stream",
          "name": "stdout",
          "text": [
            "Original DataFrame:\n"
          ]
        },
        {
          "output_type": "stream",
          "name": "stderr",
          "text": [
            "<ipython-input-83-741814f48ef0>:6: DeprecationWarning: cafile, capath and cadefault are deprecated, use a custom context instead.\n",
            "  response = urlopen(url, cafile=certifi.where())\n"
          ]
        },
        {
          "output_type": "stream",
          "name": "stdout",
          "text": [
            "Original DataFrame:\n"
          ]
        },
        {
          "output_type": "stream",
          "name": "stderr",
          "text": [
            "<ipython-input-83-741814f48ef0>:6: DeprecationWarning: cafile, capath and cadefault are deprecated, use a custom context instead.\n",
            "  response = urlopen(url, cafile=certifi.where())\n"
          ]
        },
        {
          "output_type": "stream",
          "name": "stdout",
          "text": [
            "Original DataFrame:\n"
          ]
        },
        {
          "output_type": "stream",
          "name": "stderr",
          "text": [
            "<ipython-input-83-741814f48ef0>:6: DeprecationWarning: cafile, capath and cadefault are deprecated, use a custom context instead.\n",
            "  response = urlopen(url, cafile=certifi.where())\n"
          ]
        },
        {
          "output_type": "stream",
          "name": "stdout",
          "text": [
            "Original DataFrame:\n"
          ]
        },
        {
          "output_type": "stream",
          "name": "stderr",
          "text": [
            "<ipython-input-83-741814f48ef0>:6: DeprecationWarning: cafile, capath and cadefault are deprecated, use a custom context instead.\n",
            "  response = urlopen(url, cafile=certifi.where())\n"
          ]
        },
        {
          "output_type": "stream",
          "name": "stdout",
          "text": [
            "Original DataFrame:\n"
          ]
        },
        {
          "output_type": "stream",
          "name": "stderr",
          "text": [
            "<ipython-input-83-741814f48ef0>:6: DeprecationWarning: cafile, capath and cadefault are deprecated, use a custom context instead.\n",
            "  response = urlopen(url, cafile=certifi.where())\n"
          ]
        },
        {
          "output_type": "stream",
          "name": "stdout",
          "text": [
            "Original DataFrame:\n"
          ]
        },
        {
          "output_type": "stream",
          "name": "stderr",
          "text": [
            "<ipython-input-83-741814f48ef0>:6: DeprecationWarning: cafile, capath and cadefault are deprecated, use a custom context instead.\n",
            "  response = urlopen(url, cafile=certifi.where())\n"
          ]
        },
        {
          "output_type": "stream",
          "name": "stdout",
          "text": [
            "Original DataFrame:\n"
          ]
        },
        {
          "output_type": "stream",
          "name": "stderr",
          "text": [
            "<ipython-input-83-741814f48ef0>:6: DeprecationWarning: cafile, capath and cadefault are deprecated, use a custom context instead.\n",
            "  response = urlopen(url, cafile=certifi.where())\n"
          ]
        },
        {
          "output_type": "stream",
          "name": "stdout",
          "text": [
            "Original DataFrame:\n"
          ]
        },
        {
          "output_type": "stream",
          "name": "stderr",
          "text": [
            "<ipython-input-83-741814f48ef0>:6: DeprecationWarning: cafile, capath and cadefault are deprecated, use a custom context instead.\n",
            "  response = urlopen(url, cafile=certifi.where())\n"
          ]
        },
        {
          "output_type": "stream",
          "name": "stdout",
          "text": [
            "Original DataFrame:\n"
          ]
        }
      ]
    },
    {
      "cell_type": "code",
      "source": [
        "resulting_df.to_csv('/content/drive/MyDrive/embeddings/cashflow_df.csv', index=False)"
      ],
      "metadata": {
        "id": "N3cMrFoPO0L8"
      },
      "execution_count": null,
      "outputs": []
    },
    {
      "cell_type": "code",
      "source": [
        "\n",
        "\n"
      ],
      "metadata": {
        "id": "ajvN8xUESAUv"
      },
      "execution_count": null,
      "outputs": []
    },
    {
      "cell_type": "markdown",
      "source": [],
      "metadata": {
        "id": "WUpZYq4D-GJ-"
      }
    }
  ]
}