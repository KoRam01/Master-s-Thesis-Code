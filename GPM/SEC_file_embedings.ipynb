{
  "nbformat": 4,
  "nbformat_minor": 0,
  "metadata": {
    "colab": {
      "provenance": []
    },
    "kernelspec": {
      "name": "python3",
      "display_name": "Python 3"
    },
    "language_info": {
      "name": "python"
    }
  },
  "cells": [
    {
      "cell_type": "code",
      "source": [
        "from google.colab import drive\n",
        "drive.mount('/content/drive')"
      ],
      "metadata": {
        "colab": {
          "base_uri": "https://localhost:8080/"
        },
        "id": "0bKnoNKCtsQO",
        "outputId": "488723d3-d978-4548-d7a6-b9c0d62f42ea"
      },
      "execution_count": null,
      "outputs": [
        {
          "output_type": "stream",
          "name": "stdout",
          "text": [
            "Drive already mounted at /content/drive; to attempt to forcibly remount, call drive.mount(\"/content/drive\", force_remount=True).\n"
          ]
        }
      ]
    },
    {
      "cell_type": "code",
      "source": [
        "import pandas as pd"
      ],
      "metadata": {
        "id": "7wEJxrd0xTZq"
      },
      "execution_count": null,
      "outputs": []
    },
    {
      "cell_type": "code",
      "source": [
        "df2 = pd.read_csv(\"/content/drive/MyDrive/final_df_sec _embeddings.csv\")\n"
      ],
      "metadata": {
        "colab": {
          "base_uri": "https://localhost:8080/"
        },
        "id": "Z2TeHumexQ5D",
        "outputId": "e4b57490-d07b-4d08-899f-6fa457d454e8"
      },
      "execution_count": null,
      "outputs": [
        {
          "output_type": "stream",
          "name": "stderr",
          "text": [
            "<ipython-input-34-6985cb0e88ca>:1: DtypeWarning: Columns (5) have mixed types. Specify dtype option on import or set low_memory=False.\n",
            "  df2 = pd.read_csv(\"/content/drive/MyDrive/final_df_sec _embeddings.csv\")\n"
          ]
        }
      ]
    },
    {
      "cell_type": "code",
      "source": [
        "print(df2)"
      ],
      "metadata": {
        "colab": {
          "base_uri": "https://localhost:8080/"
        },
        "id": "LPsra-4jgchQ",
        "outputId": "3635655d-ae7c-482c-a807-1da463dd40cc"
      },
      "execution_count": null,
      "outputs": [
        {
          "output_type": "stream",
          "name": "stdout",
          "text": [
            "        Unnamed: 0  subfolder            file_name  \\\n",
            "0                0    1000697  2010-05-07_10-Q.txt   \n",
            "1                1    1000697  2010-05-07_10-Q.txt   \n",
            "2                2    1000697  2010-05-07_10-Q.txt   \n",
            "3                3    1000697  2010-05-07_10-Q.txt   \n",
            "4                4    1000697  2010-05-07_10-Q.txt   \n",
            "...            ...        ...                  ...   \n",
            "771731      771731    1835632  2022-08-26_10-Q.txt   \n",
            "771732      771732    1835632  2022-08-26_10-Q.txt   \n",
            "771733      771733    1835632  2022-08-26_10-Q.txt   \n",
            "771734      771734    1835632  2022-08-26_10-Q.txt   \n",
            "771735      771735    1835632  2022-08-26_10-Q.txt   \n",
            "\n",
            "                                                  content  text_length  \\\n",
            "0       Business and Financial Overview The Company ha...         2000   \n",
            "1       as compared with the 2009 Quarter, sales to ph...         2000   \n",
            "2       e in operating income is primarily a result of...         2000   \n",
            "3       sh provided by operating activities was $103 m...         2000   \n",
            "4       sed the proceeds from the issuance of these se...         2000   \n",
            "...                                                   ...          ...   \n",
            "771731  ned outstanding at July 30, 2022. In April 202...         2000   \n",
            "771732  s senior to our common stock. Future payment o...         2000   \n",
            "771733  her assets was primarily due to prepayments on...         2000   \n",
            "771734  of $3.7 billion was primarily driven by the ne...         2000   \n",
            "771735  2022. Indemnification Obligations See Note 5 C...          236   \n",
            "\n",
            "                                               Embeddings  \n",
            "0       [-0.056211837, -0.31977314, 0.6526017, -0.0080...  \n",
            "1       [0.10372863, 0.039062504, 1.0073085, 0.0428363...  \n",
            "2       [0.057870027, -0.46595785, 0.45227885, -0.0008...  \n",
            "3       [0.096040376, -0.36441424, 0.6877877, -0.19196...  \n",
            "4       [0.044558287, -0.606208, 0.84246796, 0.2752445...  \n",
            "...                                                   ...  \n",
            "771731                                                NaN  \n",
            "771732                                                NaN  \n",
            "771733                                                NaN  \n",
            "771734                                                NaN  \n",
            "771735                                                NaN  \n",
            "\n",
            "[771736 rows x 6 columns]\n"
          ]
        }
      ]
    },
    {
      "cell_type": "code",
      "source": [
        "print(df2[0:100])"
      ],
      "metadata": {
        "colab": {
          "base_uri": "https://localhost:8080/"
        },
        "id": "8qNLW9vylgqi",
        "outputId": "03aad233-9cfd-4664-d3ea-060190c77527"
      },
      "execution_count": null,
      "outputs": [
        {
          "output_type": "stream",
          "name": "stdout",
          "text": [
            "    Unnamed: 0  subfolder            file_name  \\\n",
            "0            0    1000697  2010-05-07_10-Q.txt   \n",
            "1            1    1000697  2010-05-07_10-Q.txt   \n",
            "2            2    1000697  2010-05-07_10-Q.txt   \n",
            "3            3    1000697  2010-05-07_10-Q.txt   \n",
            "4            4    1000697  2010-05-07_10-Q.txt   \n",
            "..         ...        ...                  ...   \n",
            "95          95    1000697  2014-10-31_10-Q.txt   \n",
            "96          96    1000697  2014-10-31_10-Q.txt   \n",
            "97          97    1000697  2014-10-31_10-Q.txt   \n",
            "98          98    1000697  2014-10-31_10-Q.txt   \n",
            "99          99    1000697  2014-10-31_10-Q.txt   \n",
            "\n",
            "                                              content  text_length  \\\n",
            "0   Business and Financial Overview The Company ha...         2000   \n",
            "1   as compared with the 2009 Quarter, sales to ph...         2000   \n",
            "2   e in operating income is primarily a result of...         2000   \n",
            "3   sh provided by operating activities was $103 m...         2000   \n",
            "4   sed the proceeds from the issuance of these se...         2000   \n",
            "..                                                ...          ...   \n",
            "95  ., a developer of mass spectrometry-related te...         2000   \n",
            "96  1 Asia Other 63,024 53,188 18 171,277 153,254 ...         2000   \n",
            "97  18 223,000 19 3 Total Waters Division product ...         2000   \n",
            "98   29 40,570 27 11 Total TA Division net sales $...         2000   \n",
            "99  ly. Selling and administrative expenses for th...         2000   \n",
            "\n",
            "                                           Embeddings  \n",
            "0   [-0.056211837, -0.31977314, 0.6526017, -0.0080...  \n",
            "1   [0.10372863, 0.039062504, 1.0073085, 0.0428363...  \n",
            "2   [0.057870027, -0.46595785, 0.45227885, -0.0008...  \n",
            "3   [0.096040376, -0.36441424, 0.6877877, -0.19196...  \n",
            "4   [0.044558287, -0.606208, 0.84246796, 0.2752445...  \n",
            "..                                                ...  \n",
            "95  [-0.021076176, -0.16475731, 0.5929874, -0.0328...  \n",
            "96  [-0.083844334, -0.18115592, 0.73755455, 0.0638...  \n",
            "97  [-0.11097711, -0.315273, 0.7776424, 0.22656815...  \n",
            "98  [-0.15135059, -0.5228025, 0.49723002, 0.480337...  \n",
            "99  [0.027350768, -0.36816683, 0.39343336, -0.0450...  \n",
            "\n",
            "[100 rows x 6 columns]\n"
          ]
        }
      ]
    },
    {
      "cell_type": "code",
      "source": [
        "if 'Embeddings' in df2.columns:\n",
        "    # Function to safely convert embeddings to a NumPy array and replace NaNs with zeros\n",
        "    def convert_to_array_and_replace_nan(embedding):\n",
        "        try:\n",
        "            # Check if the embedding is a string representation\n",
        "            if isinstance(embedding, str):\n",
        "                # Convert the string to a NumPy array\n",
        "                array = np.fromstring(embedding.strip('[]'), sep=' ')\n",
        "            else:\n",
        "                # Already a NumPy array or list\n",
        "                array = np.array(embedding)\n",
        "\n",
        "            # Replace NaN values with zeros\n",
        "            array = np.nan_to_num(array, nan=0.0)\n",
        "\n",
        "            return array\n",
        "        except Exception as e:\n",
        "            print(f\"Error converting embedding: {embedding} - {e}\")\n",
        "            return np.zeros_like(embedding)  # Return a zero vector of the same shape if conversion fails\n",
        "\n",
        "    # Apply the conversion to all embeddings\n",
        "    df2['Embeddings'] = df2['Embeddings'].apply(convert_to_array_and_replace_nan)\n",
        "\n",
        "    # Now df2['Embeddings'] has no NaNs, and all NaNs are replaced with zeros\n",
        "    print(\"Embeddings after replacing NaNs with zeros:\")\n",
        "    print(df2['Embeddings'].head())\n",
        "\n",
        "else:\n",
        "    print(\"The 'Embeddings' column does not exist in the DataFrame.\")"
      ],
      "metadata": {
        "colab": {
          "base_uri": "https://localhost:8080/"
        },
        "id": "173qjsxHhZ5k",
        "outputId": "41707e0e-859f-4874-8621-b6d57b376520"
      },
      "execution_count": null,
      "outputs": [
        {
          "output_type": "stream",
          "name": "stderr",
          "text": [
            "<ipython-input-29-d44f87f8efc7>:8: DeprecationWarning: string or file could not be read to its end due to unmatched data; this will raise a ValueError in the future.\n",
            "  array = np.fromstring(embedding.strip('[]'), sep=' ')\n"
          ]
        },
        {
          "output_type": "stream",
          "name": "stdout",
          "text": [
            "Embeddings after replacing NaNs with zeros:\n",
            "0    [-0.056211837]\n",
            "1      [0.10372863]\n",
            "2     [0.057870027]\n",
            "3     [0.096040376]\n",
            "4     [0.044558287]\n",
            "Name: Embeddings, dtype: object\n"
          ]
        }
      ]
    },
    {
      "cell_type": "code",
      "source": [],
      "metadata": {
        "id": "W-VVWdLbhjLA"
      },
      "execution_count": null,
      "outputs": []
    },
    {
      "cell_type": "code",
      "source": [
        "if 'Embeddings' in df2.columns:\n",
        "    # Convert embeddings to NumPy arrays, handling strings and potential NaN values\n",
        "    def safe_convert_to_array(embedding):\n",
        "        try:\n",
        "            if isinstance(embedding, str):\n",
        "                # Convert the string to a NumPy array\n",
        "                array = np.fromstring(embedding.strip('[]'), sep=' ')\n",
        "                return array\n",
        "            else:\n",
        "                return np.array(embedding)  # Already a NumPy array or list\n",
        "        except:\n",
        "            return np.nan\n",
        "\n",
        "    # Apply the conversion to all embeddings\n",
        "    df2['Embeddings'] = df2['Embeddings'].apply(safe_convert_to_array)\n",
        "\n",
        "    # Count NaN values within each embedding and sum up for the total count\n",
        "    nan_count = df2['Embeddings'].apply(lambda x: np.isnan(x).sum() if isinstance(x, np.ndarray) else 0).sum()\n",
        "\n",
        "    print(f\"Total number of NaN values in 'Embeddings': {nan_count}\")\n",
        "else:\n",
        "    print(\"The 'Embeddings' column does not exist in the DataFrame.\")"
      ],
      "metadata": {
        "colab": {
          "base_uri": "https://localhost:8080/"
        },
        "id": "xkm3Hv_hg724",
        "outputId": "763b68ff-2697-42c9-b54f-f8d54c83ff4e"
      },
      "execution_count": null,
      "outputs": [
        {
          "output_type": "stream",
          "name": "stderr",
          "text": [
            "<ipython-input-26-4aed72598b48>:7: DeprecationWarning: string or file could not be read to its end due to unmatched data; this will raise a ValueError in the future.\n",
            "  array = np.fromstring(embedding.strip('[]'), sep=' ')\n"
          ]
        },
        {
          "output_type": "stream",
          "name": "stdout",
          "text": [
            "Total number of NaN values in 'Embeddings': 0\n"
          ]
        }
      ]
    },
    {
      "cell_type": "code",
      "source": [
        "df2 = df2.dropna(subset=['Embeddings'])"
      ],
      "metadata": {
        "id": "4Yvlj3WxgQAj"
      },
      "execution_count": null,
      "outputs": []
    },
    {
      "cell_type": "code",
      "source": [
        "print(df2)"
      ],
      "metadata": {
        "id": "qva-Y9Ny3878",
        "colab": {
          "base_uri": "https://localhost:8080/"
        },
        "outputId": "219342fb-9ac8-4311-e287-83bee04e9434"
      },
      "execution_count": null,
      "outputs": [
        {
          "output_type": "stream",
          "name": "stdout",
          "text": [
            "    Unnamed: 0  subfolder            file_name  \\\n",
            "0            0    1000697  2010-05-07_10-Q.txt   \n",
            "1            1    1000697  2010-05-07_10-Q.txt   \n",
            "2            2    1000697  2010-05-07_10-Q.txt   \n",
            "3            3    1000697  2010-05-07_10-Q.txt   \n",
            "4            4    1000697  2010-05-07_10-Q.txt   \n",
            "..         ...        ...                  ...   \n",
            "95          95    1000697  2014-10-31_10-Q.txt   \n",
            "96          96    1000697  2014-10-31_10-Q.txt   \n",
            "97          97    1000697  2014-10-31_10-Q.txt   \n",
            "98          98    1000697  2014-10-31_10-Q.txt   \n",
            "99          99    1000697  2014-10-31_10-Q.txt   \n",
            "\n",
            "                                              content  text_length  \\\n",
            "0   Business and Financial Overview The Company ha...         2000   \n",
            "1   as compared with the 2009 Quarter, sales to ph...         2000   \n",
            "2   e in operating income is primarily a result of...         2000   \n",
            "3   sh provided by operating activities was $103 m...         2000   \n",
            "4   sed the proceeds from the issuance of these se...         2000   \n",
            "..                                                ...          ...   \n",
            "95  ., a developer of mass spectrometry-related te...         2000   \n",
            "96  1 Asia Other 63,024 53,188 18 171,277 153,254 ...         2000   \n",
            "97  18 223,000 19 3 Total Waters Division product ...         2000   \n",
            "98   29 40,570 27 11 Total TA Division net sales $...         2000   \n",
            "99  ly. Selling and administrative expenses for th...         2000   \n",
            "\n",
            "                                           Embeddings  \n",
            "0   [-0.056211837, -0.31977314, 0.6526017, -0.0080...  \n",
            "1   [0.10372863, 0.039062504, 1.0073085, 0.0428363...  \n",
            "2   [0.057870027, -0.46595785, 0.45227885, -0.0008...  \n",
            "3   [0.096040376, -0.36441424, 0.6877877, -0.19196...  \n",
            "4   [0.044558287, -0.606208, 0.84246796, 0.2752445...  \n",
            "..                                                ...  \n",
            "95  [-0.021076176, -0.16475731, 0.5929874, -0.0328...  \n",
            "96  [-0.083844334, -0.18115592, 0.73755455, 0.0638...  \n",
            "97  [-0.11097711, -0.315273, 0.7776424, 0.22656815...  \n",
            "98  [-0.15135059, -0.5228025, 0.49723002, 0.480337...  \n",
            "99  [0.027350768, -0.36816683, 0.39343336, -0.0450...  \n",
            "\n",
            "[100 rows x 6 columns]\n"
          ]
        }
      ]
    },
    {
      "cell_type": "code",
      "source": [
        "df2 = df2.drop(['content', 'text_length'], axis=1)"
      ],
      "metadata": {
        "id": "nFXMAkuGwNBl"
      },
      "execution_count": null,
      "outputs": []
    },
    {
      "cell_type": "code",
      "source": [
        "print((df2.iloc[0]['Embeddings']))"
      ],
      "metadata": {
        "colab": {
          "base_uri": "https://localhost:8080/"
        },
        "id": "h43faOTFfY2c",
        "outputId": "33c8f6a1-4bef-4e67-a6e1-da7f26abd5c8"
      },
      "execution_count": null,
      "outputs": [
        {
          "output_type": "stream",
          "name": "stdout",
          "text": [
            "[-0.056211837, -0.31977314, 0.6526017, -0.008067213, -0.48161554, 0.26109535, 0.22489423, -0.77104414, 0.12483257, 0.8856486, -0.21088615, -0.083670504, -0.15855779, 0.25860593, 0.2650518, 0.8991644, -0.10785523, 0.09948903, 0.3986017, -0.723733, -0.15098655, -0.65577483, -0.83755857, -0.2968199, 0.61761785, 0.80790955, 0.8342551, 0.25392523, 0.47053653, 0.4054553, -0.019218065, 0.21473108, -0.25543997, 0.5962515, -0.09485172, -0.5251402, -0.71941686, -0.170004, 0.5329909, 0.6019271, -0.2902398, 0.3201636, 0.3374398, 1.3863196, -0.909939, 0.33871523, 0.014391528, 0.41429588, -0.24327059, -0.26963004, -0.41303518, -0.2794241, 0.7017178, -0.78798, -0.12156737, 0.27309167, 1.0254607, -0.27007955, -0.61710864, -0.32819787, -0.7992201, 1.2357821, -0.16911407, 0.8720728, -0.07595686, 0.2916377, -0.15061752, -0.9012935, -0.025675163, 0.18861848, 0.39789775, 0.34984434, -0.096409395, -0.17932317, -0.12813084, 0.7893498, -0.22725867, -0.42611128, -0.6686105, -0.087076925, 0.9798903, 0.22898664, 0.33973157, 0.365783, -1.1619639, -0.08252019, -0.40434328, 0.23462191, 0.035683088, 0.60563904, -0.20388141, 0.72354096, -0.13001274, -0.024862032, -0.06390666, -0.2783759, 0.27239117, -0.7723335, -0.83181053, 0.49888515, 0.20399722, 0.39872402, 0.17224725, 0.12020536, -0.27903393, -0.529401, -0.2803645, -0.66151875, -0.074098796, 0.23361371, -0.5047361, -0.06607839, 0.35498363, -0.61514264, -0.23809376, -0.35719255, 0.4245438, 0.17226264, -0.527274, 0.1782642, -0.7731788, 0.27602077, 0.15633048, -0.531933, 0.81818736, -0.17642246, 0.7839818, -0.6030767, -0.06434404, -0.14324665, 0.34911516, -0.3267051, 0.6270383, 0.018070213, -0.81156576, -0.14765184, 0.5119282, 0.1415141, -1.0945803, 0.062313456, -0.87815547, 0.096737035, -0.9527039, -0.2255574, 0.013685559, -0.17773809, -0.5927392, 1.0652593, 0.58503145, -0.60642344, 0.34201667, -0.54918635, -0.14481778, 0.52110976, 0.35451353, -0.41555944, -0.13383113, -0.36776394, -0.08198863, -0.77299577, 0.09250523, -0.14108014, -0.31328005, 0.183566, -0.40498424, 1.1142379, 0.7886607, -0.07559895, 0.28737155, -0.7660098, 0.18177517, 0.090127714, -0.92351454, -0.42666784, -0.31216493, 0.48049888, 0.0835713, 0.24738407, -0.45139334, -0.04684973, -0.249074, 0.17491925, 0.38134933, 0.67802167, 0.48688313, 0.10564589, 0.9255455, 0.10015457, 0.73800474, 0.20969768, -0.53182083, -0.60071313, -0.095586024, 0.09806106, 0.6467219, -0.85501003, 0.12236041, -0.04201341, -0.14222383, -0.033367515, 0.0345061, 0.29217333, 0.9663023, 0.3555865, -0.51503575, -0.46946514, -1.2271843, -0.46047816, -0.22924773, 0.23461303, -0.08627852, 0.22140372, 0.1970918, 0.6136852, -0.70511436, -0.43273294, -0.3308442, 0.051416256, 0.5114938, 0.15819877, 0.7372378, -0.9128793, -1.1323345, 0.42665127, -0.29299542, 0.059894454, 0.3798866, -0.3184377, 0.735221, -0.08722633, -0.34021553, 0.46562102, 0.57390785, -0.810138, 0.6407718, -0.69745356, 0.88918656, -0.64024556, 0.22523202, 0.3929286, 0.038316984, -0.4834557, -0.10874433, -0.09285354, -0.25973368, -0.91712517, -0.1945068, -0.8025397, -0.19687845, -0.085775316, -0.2212949, 0.69424665, 0.41015214, -0.21222089, 1.2554026, 0.41872624, -1.0161322, 0.46366352, -0.21632089, -0.08524777, 0.27283046, -0.7132448, -0.4462352, 0.54369456, 0.0594383, -0.7443995, 0.17079866, 0.06872758, -0.34073612, 0.40097, -0.10588114, -0.11781298, -0.32220426, -0.4006925, -0.06434295, 0.5128832, -0.040169224, 0.6981651, 0.46367854, -0.23003115, -0.58249, -1.3491024, -0.27934968, -0.41737914, -0.53853816, 0.12197501, 0.028291753, -0.4685491, 0.29591566, -0.51776683, -0.58295935, -0.020674005, -0.12921602, 0.35400987, -0.2485988, -0.31017572, -0.028333861, -0.2657143, 0.33340293, -0.40548307, 0.2419501, -0.1385055, -0.15486538, -0.638513, 0.0058151856, 0.7363588, -0.22553961, 0.7522862, 0.11598154, -0.07202103, 0.31599575, -0.256575, 0.23913088, -0.6064186, 0.19392751, -0.4617274, -0.24420142, 1.0323442, 0.22768268, -0.20030023, 0.98522735, 0.23958267, -0.22266302, 0.6856087, 0.5703939, 0.31578, -0.060387306, -0.42606997, 0.5098094, -0.61617786, -0.61127967, -0.43969506, -0.39058784, -0.83745784, -0.031161543, 0.8609399, -0.023844918, -0.6860856, 0.3401676, -0.8152846, 0.29054457, 0.73071223, -0.108900554, 0.6531141, 0.30440906, -0.35215494, -0.37870604, -0.3800993, -0.14375359, 1.0018505, 0.6831597, 0.52631474, 0.11846938, 0.28704983, 0.3900726, 0.14773068, -0.9282352, 0.22033983, -0.09432221, -0.9822554, -0.3192388, -0.3479815, -0.87186635, 0.4739964, 0.1420455, -0.7856673, 0.68775934, -0.30737895, -0.16005544, 0.57448983, -1.0500435, 0.38875037, -0.28835163, -0.6328685, -0.042490672, -0.14946683, 0.28482103, 0.047213353, 0.12180789, -0.27909586, -0.39390644, 0.7766781, -0.6604029, 0.077227905, -0.8284897, -0.2939386, 0.5446089, -0.20402719, -0.21621183, 0.12103218, -0.07934716, -0.14894657, 0.2922969, -0.15745816, -0.42252395, 0.66049725, -0.53830034, -0.6109595, -0.976641, -0.7427421, -0.36891383, 0.3484135, 0.26078817, 0.41177756, 0.32162842, 0.028227279, 0.49537715, -0.3375347, 0.71676636, 0.4937342, -0.42646483, -1.0585847, 0.70748323, 0.53790724, 0.49694926, 0.1834555, 0.21509339, -0.8508062, -0.31904876, -0.28883153, -0.12639134, -0.62556314, -0.2557348, -0.12938394, -0.21999525, -0.65314406, 0.35930237, -0.6586327, -0.15884559, -0.026304629, -0.010510985, 0.44269115, 0.9204378, 0.039031304, 0.52888787, -0.97674704, 0.068221204, 0.028020646, 0.34215644, -0.37993717, -0.5408039, -0.51474607, 0.3035729, -0.7747516, -1.1458375, 0.4660789, -0.056126006, 0.33057907, 0.8219393, 0.42692226, 1.2106493, -0.09157483, 1.0279492, 0.6167377, -1.0188869, 0.49381983, -0.5063272, 0.34488735, 0.48646033, 0.59336954, -0.46776202, -0.1862213, -0.80844, -1.0163556, 0.5501535, 0.44864643, -0.26203772, 0.69489807, 0.4396345, -0.5344098, -0.02288891, -0.66180766, -1.0198796, 0.7912563, 0.4034028, 0.36280215, -0.2432951, 0.055449482, -0.74874604, 1.0852389, 0.10537414, -0.14512636, 0.7025572, 0.24256673, -0.1372566, 0.35276455, 0.47936645, 1.1702448, -0.49111837, -0.4144, 0.32754385, -0.8272443, 0.12397736, 0.0129289655, 0.23400678, -0.06683568, 0.23930134, 0.06387252, 0.40752992, -0.46275464, 0.08713522, 0.023552062, -0.5105389, -0.19891885, -0.24146356, 0.12415213, 0.51473373, 0.9365193, -0.12950628, 0.69434184, -0.67869043, 0.2530516, -0.14648247, -0.8019821, -0.17819825, 0.4511727, 0.039498493, 0.2586654, 0.8132074, 0.027837709, -0.4040053, 0.7218359, 0.6245606, 0.675891, -0.40681058, 0.25653103, 0.20534723, 0.113497086, 0.20037323, 0.96655434, -0.1387331, -0.5917154, 0.1578931, -0.1756235, -0.5794507, 0.0009893198, -1.3323175, 0.38353968, -0.32469553, -0.6496306, 0.15552497, 0.77995574, -0.48367926, 0.39696226, -0.11097316, 0.7248121, -0.81394523, 0.9003219, 0.85446477, -1.0741106, -0.82209796, -0.51495504, -0.073910765, -0.7260403, 0.8974466, -0.2500902, -0.4751859, -0.612903, -0.20679502, -1.2457654, 1.3899202, 0.25014222, -0.47129315, 0.17232442, 0.46479315, 0.5997129, -0.32399774, -0.14153458, 0.88317394, 0.65557843, 0.1179016, -0.9530107, -0.3519493, -0.2457534, -0.06810875, 0.26083705, -0.77436614, 0.6974834, -0.054662038, -0.5509014, -0.5033491, 0.4271034, 0.7217346, 0.76326644, 0.43367124, 0.48416075, 0.7262845, -0.31523407, 1.23007, 0.1513993, 0.20607533, 0.849052, -0.22782858, 1.0000327, 0.82498515, -0.70063484, 0.44743586, 0.81095403, -0.06751112, 0.5668625, -0.11769976, -0.27063158, 0.08686483, -0.5869106, -0.4895524, 0.114440404, 0.4643697, -0.58163095, -0.11616358, -0.18350741, -0.35568056, 0.055175826, -0.14280504, 0.4846342, 0.12954408, -0.44797394, 0.22428018, -0.32455906, 0.28042802, -0.64598536, 0.07463188, 0.0731361, 0.38492328, -0.3612062, -0.9731038, 0.7616993, -0.16778184, -0.011319365, -0.49849486, 0.5300252, -0.08939829, -0.061978873, 0.50540364, 0.41530108, 0.10591034, 0.0054957285, -0.7680869, 0.27330697, 0.13891679, -0.32691824, 0.13607734, 0.34913373, 0.14673008, 0.70897853, 0.38054395, 0.18824598, -0.24353227, 0.25807926, 0.6664445, -0.8881514, -0.28782693, -0.19415441, 0.65170795, -0.31529757, -0.53923744, 0.8244341, 1.1513337, 0.46824747, 0.13190395, 0.49478498, 0.34839904, 0.06542997, -0.4078104, 0.95114547, -0.61797243, 0.18052746, 0.35470718, -1.3934743, 0.16363764, -0.07400233, -0.09476755, -0.03490097, 0.81230074, 0.07896589, 0.044366322, 0.48353496, 0.37988654, 0.08806891, 0.23882966, -0.125078, 0.45482734, -0.8516948, 0.34291536, -0.59492624, -0.025693357, 0.40140837, -0.16780013, -0.2230806, -0.33931458, -0.6407269, -0.65117854, -0.427217, 0.68576413, 0.5679087, -1.0696063, -0.64864075, 0.07613996, -0.023530481, 4.4427386e-05, -0.41486093, 0.3320987, -0.6473016, -0.84797406, 0.45572165, 0.834417, 0.45452297, -0.47728252, 0.05871764, -0.21698959, 0.08204326, 0.7732852, 0.39107794, -0.6259301, 0.1170024, 0.38656133, 0.0033750546, 0.13290468, 0.4012948, 0.08059891, 0.2664783, 0.48252058, 0.3969757, 0.8072929, -0.062447917, 0.73075914, -0.46660522, -0.10460276, 0.18617971, 0.5718141, -0.11021899, -0.7891867, 0.49485317, 0.17952843, -0.67947465, -0.3812652, -0.29075244, -1.1550497, -0.11416005, 0.8123613, -0.4755635, -0.45620546, -0.31203097, 0.0938341, 0.29520062, -0.524035, 0.0025745032, 0.9592871, -0.70533663, 0.16136461, -0.48836455, 0.11051378, 0.27717242, -0.750892, -0.11788004, 0.66170734, 0.41601184, 0.15521245, 0.48919195, -0.5228345, 0.036736008, -0.091498084, 0.08021147, 0.537897, -0.21213582, -0.31281593, 0.27692756, 0.03694064, -0.6666282]\n"
          ]
        }
      ]
    },
    {
      "cell_type": "code",
      "source": [
        "print(df2.columns)"
      ],
      "metadata": {
        "colab": {
          "base_uri": "https://localhost:8080/"
        },
        "id": "hToTAdeOxP4z",
        "outputId": "af42651b-83b6-4c2c-e580-c4c755bbe5e7"
      },
      "execution_count": null,
      "outputs": [
        {
          "output_type": "stream",
          "name": "stdout",
          "text": [
            "Index(['Unnamed: 0', 'subfolder', 'file_name', 'Embeddings'], dtype='object')\n"
          ]
        }
      ]
    },
    {
      "cell_type": "code",
      "source": [
        "import numpy as np"
      ],
      "metadata": {
        "id": "VHe7YnNdxChl"
      },
      "execution_count": null,
      "outputs": []
    },
    {
      "cell_type": "code",
      "source": [
        "# embedding_size = len(df2['Embeddings'].iloc[0])  # Assuming all embeddings have the same size\n",
        "# df2['Embeddings'] = df2['Embeddings'].apply(lambda x: np.zeros(embedding_size) if pd.isna(x) else x)"
      ],
      "metadata": {
        "colab": {
          "base_uri": "https://localhost:8080/",
          "height": 287
        },
        "id": "GYUjWPq5xmOc",
        "outputId": "b8b093f6-6f5e-4d40-86ba-1c94f963b1cf"
      },
      "execution_count": null,
      "outputs": [
        {
          "output_type": "error",
          "ename": "KeyboardInterrupt",
          "evalue": "",
          "traceback": [
            "\u001b[0;31m---------------------------------------------------------------------------\u001b[0m",
            "\u001b[0;31mKeyboardInterrupt\u001b[0m                         Traceback (most recent call last)",
            "\u001b[0;32m<ipython-input-17-a2a8d871ea26>\u001b[0m in \u001b[0;36m<cell line: 2>\u001b[0;34m()\u001b[0m\n\u001b[1;32m      1\u001b[0m \u001b[0membedding_size\u001b[0m \u001b[0;34m=\u001b[0m \u001b[0mlen\u001b[0m\u001b[0;34m(\u001b[0m\u001b[0mdf2\u001b[0m\u001b[0;34m[\u001b[0m\u001b[0;34m'Embeddings'\u001b[0m\u001b[0;34m]\u001b[0m\u001b[0;34m.\u001b[0m\u001b[0miloc\u001b[0m\u001b[0;34m[\u001b[0m\u001b[0;36m0\u001b[0m\u001b[0;34m]\u001b[0m\u001b[0;34m)\u001b[0m  \u001b[0;31m# Assuming all embeddings have the same size\u001b[0m\u001b[0;34m\u001b[0m\u001b[0;34m\u001b[0m\u001b[0m\n\u001b[0;32m----> 2\u001b[0;31m \u001b[0mdf2\u001b[0m\u001b[0;34m[\u001b[0m\u001b[0;34m'Embeddings'\u001b[0m\u001b[0;34m]\u001b[0m \u001b[0;34m=\u001b[0m \u001b[0mdf2\u001b[0m\u001b[0;34m[\u001b[0m\u001b[0;34m'Embeddings'\u001b[0m\u001b[0;34m]\u001b[0m\u001b[0;34m.\u001b[0m\u001b[0mapply\u001b[0m\u001b[0;34m(\u001b[0m\u001b[0;32mlambda\u001b[0m \u001b[0mx\u001b[0m\u001b[0;34m:\u001b[0m \u001b[0mnp\u001b[0m\u001b[0;34m.\u001b[0m\u001b[0mzeros\u001b[0m\u001b[0;34m(\u001b[0m\u001b[0membedding_size\u001b[0m\u001b[0;34m)\u001b[0m \u001b[0;32mif\u001b[0m \u001b[0mpd\u001b[0m\u001b[0;34m.\u001b[0m\u001b[0misna\u001b[0m\u001b[0;34m(\u001b[0m\u001b[0mx\u001b[0m\u001b[0;34m)\u001b[0m \u001b[0;32melse\u001b[0m \u001b[0mx\u001b[0m\u001b[0;34m)\u001b[0m\u001b[0;34m\u001b[0m\u001b[0;34m\u001b[0m\u001b[0m\n\u001b[0m",
            "\u001b[0;32m/usr/local/lib/python3.10/dist-packages/pandas/core/series.py\u001b[0m in \u001b[0;36mapply\u001b[0;34m(self, func, convert_dtype, args, by_row, **kwargs)\u001b[0m\n\u001b[1;32m   4762\u001b[0m             \u001b[0margs\u001b[0m\u001b[0;34m=\u001b[0m\u001b[0margs\u001b[0m\u001b[0;34m,\u001b[0m\u001b[0;34m\u001b[0m\u001b[0;34m\u001b[0m\u001b[0m\n\u001b[1;32m   4763\u001b[0m             \u001b[0mkwargs\u001b[0m\u001b[0;34m=\u001b[0m\u001b[0mkwargs\u001b[0m\u001b[0;34m,\u001b[0m\u001b[0;34m\u001b[0m\u001b[0;34m\u001b[0m\u001b[0m\n\u001b[0;32m-> 4764\u001b[0;31m         ).apply()\n\u001b[0m\u001b[1;32m   4765\u001b[0m \u001b[0;34m\u001b[0m\u001b[0m\n\u001b[1;32m   4766\u001b[0m     def _reindex_indexer(\n",
            "\u001b[0;32m/usr/local/lib/python3.10/dist-packages/pandas/core/apply.py\u001b[0m in \u001b[0;36mapply\u001b[0;34m(self)\u001b[0m\n\u001b[1;32m   1207\u001b[0m \u001b[0;34m\u001b[0m\u001b[0m\n\u001b[1;32m   1208\u001b[0m         \u001b[0;31m# self.func is Callable\u001b[0m\u001b[0;34m\u001b[0m\u001b[0;34m\u001b[0m\u001b[0m\n\u001b[0;32m-> 1209\u001b[0;31m         \u001b[0;32mreturn\u001b[0m \u001b[0mself\u001b[0m\u001b[0;34m.\u001b[0m\u001b[0mapply_standard\u001b[0m\u001b[0;34m(\u001b[0m\u001b[0;34m)\u001b[0m\u001b[0;34m\u001b[0m\u001b[0;34m\u001b[0m\u001b[0m\n\u001b[0m\u001b[1;32m   1210\u001b[0m \u001b[0;34m\u001b[0m\u001b[0m\n\u001b[1;32m   1211\u001b[0m     \u001b[0;32mdef\u001b[0m \u001b[0magg\u001b[0m\u001b[0;34m(\u001b[0m\u001b[0mself\u001b[0m\u001b[0;34m)\u001b[0m\u001b[0;34m:\u001b[0m\u001b[0;34m\u001b[0m\u001b[0;34m\u001b[0m\u001b[0m\n",
            "\u001b[0;32m/usr/local/lib/python3.10/dist-packages/pandas/core/apply.py\u001b[0m in \u001b[0;36mapply_standard\u001b[0;34m(self)\u001b[0m\n\u001b[1;32m   1287\u001b[0m         \u001b[0;31m#  Categorical (GH51645).\u001b[0m\u001b[0;34m\u001b[0m\u001b[0;34m\u001b[0m\u001b[0m\n\u001b[1;32m   1288\u001b[0m         \u001b[0maction\u001b[0m \u001b[0;34m=\u001b[0m \u001b[0;34m\"ignore\"\u001b[0m \u001b[0;32mif\u001b[0m \u001b[0misinstance\u001b[0m\u001b[0;34m(\u001b[0m\u001b[0mobj\u001b[0m\u001b[0;34m.\u001b[0m\u001b[0mdtype\u001b[0m\u001b[0;34m,\u001b[0m \u001b[0mCategoricalDtype\u001b[0m\u001b[0;34m)\u001b[0m \u001b[0;32melse\u001b[0m \u001b[0;32mNone\u001b[0m\u001b[0;34m\u001b[0m\u001b[0;34m\u001b[0m\u001b[0m\n\u001b[0;32m-> 1289\u001b[0;31m         mapped = obj._map_values(\n\u001b[0m\u001b[1;32m   1290\u001b[0m             \u001b[0mmapper\u001b[0m\u001b[0;34m=\u001b[0m\u001b[0mcurried\u001b[0m\u001b[0;34m,\u001b[0m \u001b[0mna_action\u001b[0m\u001b[0;34m=\u001b[0m\u001b[0maction\u001b[0m\u001b[0;34m,\u001b[0m \u001b[0mconvert\u001b[0m\u001b[0;34m=\u001b[0m\u001b[0mself\u001b[0m\u001b[0;34m.\u001b[0m\u001b[0mconvert_dtype\u001b[0m\u001b[0;34m\u001b[0m\u001b[0;34m\u001b[0m\u001b[0m\n\u001b[1;32m   1291\u001b[0m         )\n",
            "\u001b[0;32m/usr/local/lib/python3.10/dist-packages/pandas/core/base.py\u001b[0m in \u001b[0;36m_map_values\u001b[0;34m(self, mapper, na_action, convert)\u001b[0m\n\u001b[1;32m    919\u001b[0m             \u001b[0;32mreturn\u001b[0m \u001b[0marr\u001b[0m\u001b[0;34m.\u001b[0m\u001b[0mmap\u001b[0m\u001b[0;34m(\u001b[0m\u001b[0mmapper\u001b[0m\u001b[0;34m,\u001b[0m \u001b[0mna_action\u001b[0m\u001b[0;34m=\u001b[0m\u001b[0mna_action\u001b[0m\u001b[0;34m)\u001b[0m\u001b[0;34m\u001b[0m\u001b[0;34m\u001b[0m\u001b[0m\n\u001b[1;32m    920\u001b[0m \u001b[0;34m\u001b[0m\u001b[0m\n\u001b[0;32m--> 921\u001b[0;31m         \u001b[0;32mreturn\u001b[0m \u001b[0malgorithms\u001b[0m\u001b[0;34m.\u001b[0m\u001b[0mmap_array\u001b[0m\u001b[0;34m(\u001b[0m\u001b[0marr\u001b[0m\u001b[0;34m,\u001b[0m \u001b[0mmapper\u001b[0m\u001b[0;34m,\u001b[0m \u001b[0mna_action\u001b[0m\u001b[0;34m=\u001b[0m\u001b[0mna_action\u001b[0m\u001b[0;34m,\u001b[0m \u001b[0mconvert\u001b[0m\u001b[0;34m=\u001b[0m\u001b[0mconvert\u001b[0m\u001b[0;34m)\u001b[0m\u001b[0;34m\u001b[0m\u001b[0;34m\u001b[0m\u001b[0m\n\u001b[0m\u001b[1;32m    922\u001b[0m \u001b[0;34m\u001b[0m\u001b[0m\n\u001b[1;32m    923\u001b[0m     \u001b[0;34m@\u001b[0m\u001b[0mfinal\u001b[0m\u001b[0;34m\u001b[0m\u001b[0;34m\u001b[0m\u001b[0m\n",
            "\u001b[0;32m/usr/local/lib/python3.10/dist-packages/pandas/core/algorithms.py\u001b[0m in \u001b[0;36mmap_array\u001b[0;34m(arr, mapper, na_action, convert)\u001b[0m\n\u001b[1;32m   1812\u001b[0m     \u001b[0mvalues\u001b[0m \u001b[0;34m=\u001b[0m \u001b[0marr\u001b[0m\u001b[0;34m.\u001b[0m\u001b[0mastype\u001b[0m\u001b[0;34m(\u001b[0m\u001b[0mobject\u001b[0m\u001b[0;34m,\u001b[0m \u001b[0mcopy\u001b[0m\u001b[0;34m=\u001b[0m\u001b[0;32mFalse\u001b[0m\u001b[0;34m)\u001b[0m\u001b[0;34m\u001b[0m\u001b[0;34m\u001b[0m\u001b[0m\n\u001b[1;32m   1813\u001b[0m     \u001b[0;32mif\u001b[0m \u001b[0mna_action\u001b[0m \u001b[0;32mis\u001b[0m \u001b[0;32mNone\u001b[0m\u001b[0;34m:\u001b[0m\u001b[0;34m\u001b[0m\u001b[0;34m\u001b[0m\u001b[0m\n\u001b[0;32m-> 1814\u001b[0;31m         \u001b[0;32mreturn\u001b[0m \u001b[0mlib\u001b[0m\u001b[0;34m.\u001b[0m\u001b[0mmap_infer\u001b[0m\u001b[0;34m(\u001b[0m\u001b[0mvalues\u001b[0m\u001b[0;34m,\u001b[0m \u001b[0mmapper\u001b[0m\u001b[0;34m,\u001b[0m \u001b[0mconvert\u001b[0m\u001b[0;34m=\u001b[0m\u001b[0mconvert\u001b[0m\u001b[0;34m)\u001b[0m\u001b[0;34m\u001b[0m\u001b[0;34m\u001b[0m\u001b[0m\n\u001b[0m\u001b[1;32m   1815\u001b[0m     \u001b[0;32melse\u001b[0m\u001b[0;34m:\u001b[0m\u001b[0;34m\u001b[0m\u001b[0;34m\u001b[0m\u001b[0m\n\u001b[1;32m   1816\u001b[0m         return lib.map_infer_mask(\n",
            "\u001b[0;32mlib.pyx\u001b[0m in \u001b[0;36mpandas._libs.lib.map_infer\u001b[0;34m()\u001b[0m\n",
            "\u001b[0;32m<ipython-input-17-a2a8d871ea26>\u001b[0m in \u001b[0;36m<lambda>\u001b[0;34m(x)\u001b[0m\n\u001b[1;32m      1\u001b[0m \u001b[0membedding_size\u001b[0m \u001b[0;34m=\u001b[0m \u001b[0mlen\u001b[0m\u001b[0;34m(\u001b[0m\u001b[0mdf2\u001b[0m\u001b[0;34m[\u001b[0m\u001b[0;34m'Embeddings'\u001b[0m\u001b[0;34m]\u001b[0m\u001b[0;34m.\u001b[0m\u001b[0miloc\u001b[0m\u001b[0;34m[\u001b[0m\u001b[0;36m0\u001b[0m\u001b[0;34m]\u001b[0m\u001b[0;34m)\u001b[0m  \u001b[0;31m# Assuming all embeddings have the same size\u001b[0m\u001b[0;34m\u001b[0m\u001b[0;34m\u001b[0m\u001b[0m\n\u001b[0;32m----> 2\u001b[0;31m \u001b[0mdf2\u001b[0m\u001b[0;34m[\u001b[0m\u001b[0;34m'Embeddings'\u001b[0m\u001b[0;34m]\u001b[0m \u001b[0;34m=\u001b[0m \u001b[0mdf2\u001b[0m\u001b[0;34m[\u001b[0m\u001b[0;34m'Embeddings'\u001b[0m\u001b[0;34m]\u001b[0m\u001b[0;34m.\u001b[0m\u001b[0mapply\u001b[0m\u001b[0;34m(\u001b[0m\u001b[0;32mlambda\u001b[0m \u001b[0mx\u001b[0m\u001b[0;34m:\u001b[0m \u001b[0mnp\u001b[0m\u001b[0;34m.\u001b[0m\u001b[0mzeros\u001b[0m\u001b[0;34m(\u001b[0m\u001b[0membedding_size\u001b[0m\u001b[0;34m)\u001b[0m \u001b[0;32mif\u001b[0m \u001b[0mpd\u001b[0m\u001b[0;34m.\u001b[0m\u001b[0misna\u001b[0m\u001b[0;34m(\u001b[0m\u001b[0mx\u001b[0m\u001b[0;34m)\u001b[0m \u001b[0;32melse\u001b[0m \u001b[0mx\u001b[0m\u001b[0;34m)\u001b[0m\u001b[0;34m\u001b[0m\u001b[0;34m\u001b[0m\u001b[0m\n\u001b[0m",
            "\u001b[0;31mKeyboardInterrupt\u001b[0m: "
          ]
        }
      ]
    },
    {
      "cell_type": "code",
      "source": [
        "# embedding_size = len(df2['Embeddings'].iloc[0])  # Assuming all embeddings have the same size\n",
        "# df2['Embeddings'] = df2['Embeddings'].apply(lambda x: np.zeros(embedding_size) if pd.isna(x) else x)\n",
        "\n",
        "# def average_embeddings(group):\n",
        "#     embeddings = np.stack(group['Embeddings'])\n",
        "#     return np.mean(embeddings, axis=0)\n",
        "\n",
        "# # Group by filename and content, then average the embeddings\n",
        "# result = df2.groupby(['subfolder', 'file_name'], as_index=False).agg({\n",
        "#     'Embeddings': average_embeddings\n",
        "#     })"
      ],
      "metadata": {
        "id": "r2JTXyBK7G-x"
      },
      "execution_count": null,
      "outputs": []
    },
    {
      "cell_type": "code",
      "source": [
        "# def average_embeddings(group):\n",
        "#     embeddings = np.stack(group['Embeddings'])\n",
        "#     return np.mean(embeddings, axis=0)\n",
        "\n",
        "# # Group by filename and content, then average the embeddings\n",
        "# result = df2.groupby(['subfolder', 'file_name'], as_index=False).agg({\n",
        "#     'Embeddings': average_embeddings\n",
        "#     })"
      ],
      "metadata": {
        "id": "XbLldXkb57bN"
      },
      "execution_count": null,
      "outputs": []
    },
    {
      "cell_type": "code",
      "source": [
        "import pandas as pd\n",
        "import numpy as np"
      ],
      "metadata": {
        "id": "_yje2rl1fKmX"
      },
      "execution_count": null,
      "outputs": []
    },
    {
      "cell_type": "code",
      "source": [
        "\n",
        "\n",
        "def process_chunk(chunk):\n",
        "    if 'Embeddings' in chunk.columns:  # Check if the column exists in this chunk\n",
        "        embedding_size = len(chunk['Embeddings'].iloc[0])  # Assuming all embeddings have the same size\n",
        "        chunk['Embeddings'] = chunk['Embeddings'].apply(lambda x: np.zeros(embedding_size) if pd.isna(x) else x)\n",
        "\n",
        "        def average_embeddings(group):\n",
        "            print(group.head())\n",
        "            embeddings = np.stack(group['Embeddings'])\n",
        "            return np.mean(embeddings, axis=0)\n",
        "\n",
        "        # Group by subfolder and file_name, then average the embeddings\n",
        "        result_chunk = chunk.groupby(['subfolder', 'file_name'], as_index=False).agg({\n",
        "            'Embeddings': average_embeddings\n",
        "        })\n",
        "\n",
        "        return result_chunk\n",
        "    else:\n",
        "        print(\"Warning: 'Embeddings' column not found in this chunk.\")\n",
        "        return pd.DataFrame()  # Return an empty DataFrame instead of None\n",
        "\n",
        "# Initialize an empty list to store the processed chunks\n",
        "processed_chunks = []\n",
        "\n",
        "# Define the chunk size\n",
        "chunk_size = 10000  # Adjust the chunk size based on your memory capacity\n",
        "\n",
        "# Process the DataFrame in chunks\n",
        "for i in range(0, len(df2), chunk_size):\n",
        "    chunk = df2.iloc[i:i + chunk_size]\n",
        "    # Check if 'Embeddings' column exists before processing\n",
        "    if 'Embeddings' in chunk.columns:\n",
        "        processed_chunk = process_chunk(chunk)\n",
        "        # Only append if the processed chunk is not empty\n",
        "        if not processed_chunk.empty:\n",
        "            processed_chunks.append(processed_chunk)\n",
        "\n",
        "# Concatenate all processed chunks into a single DataFrame\n",
        "result = pd.concat(processed_chunks, ignore_index=True)\n",
        "\n",
        "# Display the result\n",
        "print(result)"
      ],
      "metadata": {
        "colab": {
          "base_uri": "https://localhost:8080/",
          "height": 720
        },
        "id": "0TcFMmhZ7gMl",
        "outputId": "89b8aaf9-21a4-4284-b19c-7cf923cc49fe",
        "collapsed": true
      },
      "execution_count": null,
      "outputs": [
        {
          "output_type": "stream",
          "name": "stdout",
          "text": [
            "769    [0.0, 0.0, 0.0, 0.0, 0.0, 0.0, 0.0, 0.0, 0.0, ...\n",
            "770    [0.0, 0.0, 0.0, 0.0, 0.0, 0.0, 0.0, 0.0, 0.0, ...\n",
            "771    [0.0, 0.0, 0.0, 0.0, 0.0, 0.0, 0.0, 0.0, 0.0, ...\n",
            "772    [0.0, 0.0, 0.0, 0.0, 0.0, 0.0, 0.0, 0.0, 0.0, ...\n",
            "773    [0.0, 0.0, 0.0, 0.0, 0.0, 0.0, 0.0, 0.0, 0.0, ...\n",
            "Name: Embeddings, dtype: object\n"
          ]
        },
        {
          "output_type": "stream",
          "name": "stderr",
          "text": [
            "<ipython-input-22-c26a620a7598>:7: SettingWithCopyWarning: \n",
            "A value is trying to be set on a copy of a slice from a DataFrame.\n",
            "Try using .loc[row_indexer,col_indexer] = value instead\n",
            "\n",
            "See the caveats in the documentation: https://pandas.pydata.org/pandas-docs/stable/user_guide/indexing.html#returning-a-view-versus-a-copy\n",
            "  chunk['Embeddings'] = chunk['Embeddings'].apply(lambda x: np.zeros(embedding_size) if pd.isna(x) else x)\n"
          ]
        },
        {
          "output_type": "error",
          "ename": "KeyError",
          "evalue": "'Embeddings'",
          "traceback": [
            "\u001b[0;31m---------------------------------------------------------------------------\u001b[0m",
            "\u001b[0;31mKeyError\u001b[0m                                  Traceback (most recent call last)",
            "\u001b[0;32m/usr/local/lib/python3.10/dist-packages/pandas/core/indexes/base.py\u001b[0m in \u001b[0;36mget_loc\u001b[0;34m(self, key)\u001b[0m\n\u001b[1;32m   3790\u001b[0m         \u001b[0;32mtry\u001b[0m\u001b[0;34m:\u001b[0m\u001b[0;34m\u001b[0m\u001b[0;34m\u001b[0m\u001b[0m\n\u001b[0;32m-> 3791\u001b[0;31m             \u001b[0;32mreturn\u001b[0m \u001b[0mself\u001b[0m\u001b[0;34m.\u001b[0m\u001b[0m_engine\u001b[0m\u001b[0;34m.\u001b[0m\u001b[0mget_loc\u001b[0m\u001b[0;34m(\u001b[0m\u001b[0mcasted_key\u001b[0m\u001b[0;34m)\u001b[0m\u001b[0;34m\u001b[0m\u001b[0;34m\u001b[0m\u001b[0m\n\u001b[0m\u001b[1;32m   3792\u001b[0m         \u001b[0;32mexcept\u001b[0m \u001b[0mKeyError\u001b[0m \u001b[0;32mas\u001b[0m \u001b[0merr\u001b[0m\u001b[0;34m:\u001b[0m\u001b[0;34m\u001b[0m\u001b[0;34m\u001b[0m\u001b[0m\n",
            "\u001b[0;32mindex.pyx\u001b[0m in \u001b[0;36mpandas._libs.index.IndexEngine.get_loc\u001b[0;34m()\u001b[0m\n",
            "\u001b[0;32mindex.pyx\u001b[0m in \u001b[0;36mpandas._libs.index.IndexEngine.get_loc\u001b[0;34m()\u001b[0m\n",
            "\u001b[0;32mpandas/_libs/index_class_helper.pxi\u001b[0m in \u001b[0;36mpandas._libs.index.Int64Engine._check_type\u001b[0;34m()\u001b[0m\n",
            "\u001b[0;31mKeyError\u001b[0m: 'Embeddings'",
            "\nThe above exception was the direct cause of the following exception:\n",
            "\u001b[0;31mKeyError\u001b[0m                                  Traceback (most recent call last)",
            "\u001b[0;32m<ipython-input-22-c26a620a7598>\u001b[0m in \u001b[0;36m<cell line: 31>\u001b[0;34m()\u001b[0m\n\u001b[1;32m     33\u001b[0m     \u001b[0;31m# Check if 'Embeddings' column exists before processing\u001b[0m\u001b[0;34m\u001b[0m\u001b[0;34m\u001b[0m\u001b[0m\n\u001b[1;32m     34\u001b[0m     \u001b[0;32mif\u001b[0m \u001b[0;34m'Embeddings'\u001b[0m \u001b[0;32min\u001b[0m \u001b[0mchunk\u001b[0m\u001b[0;34m.\u001b[0m\u001b[0mcolumns\u001b[0m\u001b[0;34m:\u001b[0m\u001b[0;34m\u001b[0m\u001b[0;34m\u001b[0m\u001b[0m\n\u001b[0;32m---> 35\u001b[0;31m         \u001b[0mprocessed_chunk\u001b[0m \u001b[0;34m=\u001b[0m \u001b[0mprocess_chunk\u001b[0m\u001b[0;34m(\u001b[0m\u001b[0mchunk\u001b[0m\u001b[0;34m)\u001b[0m\u001b[0;34m\u001b[0m\u001b[0;34m\u001b[0m\u001b[0m\n\u001b[0m\u001b[1;32m     36\u001b[0m         \u001b[0;31m# Only append if the processed chunk is not empty\u001b[0m\u001b[0;34m\u001b[0m\u001b[0;34m\u001b[0m\u001b[0m\n\u001b[1;32m     37\u001b[0m         \u001b[0;32mif\u001b[0m \u001b[0;32mnot\u001b[0m \u001b[0mprocessed_chunk\u001b[0m\u001b[0;34m.\u001b[0m\u001b[0mempty\u001b[0m\u001b[0;34m:\u001b[0m\u001b[0;34m\u001b[0m\u001b[0;34m\u001b[0m\u001b[0m\n",
            "\u001b[0;32m<ipython-input-22-c26a620a7598>\u001b[0m in \u001b[0;36mprocess_chunk\u001b[0;34m(chunk)\u001b[0m\n\u001b[1;32m     13\u001b[0m \u001b[0;34m\u001b[0m\u001b[0m\n\u001b[1;32m     14\u001b[0m         \u001b[0;31m# Group by subfolder and file_name, then average the embeddings\u001b[0m\u001b[0;34m\u001b[0m\u001b[0;34m\u001b[0m\u001b[0m\n\u001b[0;32m---> 15\u001b[0;31m         result_chunk = chunk.groupby(['subfolder', 'file_name'], as_index=False).agg({\n\u001b[0m\u001b[1;32m     16\u001b[0m             \u001b[0;34m'Embeddings'\u001b[0m\u001b[0;34m:\u001b[0m \u001b[0maverage_embeddings\u001b[0m\u001b[0;34m\u001b[0m\u001b[0;34m\u001b[0m\u001b[0m\n\u001b[1;32m     17\u001b[0m         })\n",
            "\u001b[0;32m/usr/local/lib/python3.10/dist-packages/pandas/core/groupby/generic.py\u001b[0m in \u001b[0;36maggregate\u001b[0;34m(self, func, engine, engine_kwargs, *args, **kwargs)\u001b[0m\n\u001b[1;32m   1443\u001b[0m \u001b[0;34m\u001b[0m\u001b[0m\n\u001b[1;32m   1444\u001b[0m         \u001b[0mop\u001b[0m \u001b[0;34m=\u001b[0m \u001b[0mGroupByApply\u001b[0m\u001b[0;34m(\u001b[0m\u001b[0mself\u001b[0m\u001b[0;34m,\u001b[0m \u001b[0mfunc\u001b[0m\u001b[0;34m,\u001b[0m \u001b[0margs\u001b[0m\u001b[0;34m=\u001b[0m\u001b[0margs\u001b[0m\u001b[0;34m,\u001b[0m \u001b[0mkwargs\u001b[0m\u001b[0;34m=\u001b[0m\u001b[0mkwargs\u001b[0m\u001b[0;34m)\u001b[0m\u001b[0;34m\u001b[0m\u001b[0;34m\u001b[0m\u001b[0m\n\u001b[0;32m-> 1445\u001b[0;31m         \u001b[0mresult\u001b[0m \u001b[0;34m=\u001b[0m \u001b[0mop\u001b[0m\u001b[0;34m.\u001b[0m\u001b[0magg\u001b[0m\u001b[0;34m(\u001b[0m\u001b[0;34m)\u001b[0m\u001b[0;34m\u001b[0m\u001b[0;34m\u001b[0m\u001b[0m\n\u001b[0m\u001b[1;32m   1446\u001b[0m         \u001b[0;32mif\u001b[0m \u001b[0;32mnot\u001b[0m \u001b[0mis_dict_like\u001b[0m\u001b[0;34m(\u001b[0m\u001b[0mfunc\u001b[0m\u001b[0;34m)\u001b[0m \u001b[0;32mand\u001b[0m \u001b[0mresult\u001b[0m \u001b[0;32mis\u001b[0m \u001b[0;32mnot\u001b[0m \u001b[0;32mNone\u001b[0m\u001b[0;34m:\u001b[0m\u001b[0;34m\u001b[0m\u001b[0;34m\u001b[0m\u001b[0m\n\u001b[1;32m   1447\u001b[0m             \u001b[0;31m# GH #52849\u001b[0m\u001b[0;34m\u001b[0m\u001b[0;34m\u001b[0m\u001b[0m\n",
            "\u001b[0;32m/usr/local/lib/python3.10/dist-packages/pandas/core/apply.py\u001b[0m in \u001b[0;36magg\u001b[0;34m(self)\u001b[0m\n\u001b[1;32m    173\u001b[0m \u001b[0;34m\u001b[0m\u001b[0m\n\u001b[1;32m    174\u001b[0m         \u001b[0;32mif\u001b[0m \u001b[0mis_dict_like\u001b[0m\u001b[0;34m(\u001b[0m\u001b[0mfunc\u001b[0m\u001b[0;34m)\u001b[0m\u001b[0;34m:\u001b[0m\u001b[0;34m\u001b[0m\u001b[0;34m\u001b[0m\u001b[0m\n\u001b[0;32m--> 175\u001b[0;31m             \u001b[0;32mreturn\u001b[0m \u001b[0mself\u001b[0m\u001b[0;34m.\u001b[0m\u001b[0magg_dict_like\u001b[0m\u001b[0;34m(\u001b[0m\u001b[0;34m)\u001b[0m\u001b[0;34m\u001b[0m\u001b[0;34m\u001b[0m\u001b[0m\n\u001b[0m\u001b[1;32m    176\u001b[0m         \u001b[0;32melif\u001b[0m \u001b[0mis_list_like\u001b[0m\u001b[0;34m(\u001b[0m\u001b[0mfunc\u001b[0m\u001b[0;34m)\u001b[0m\u001b[0;34m:\u001b[0m\u001b[0;34m\u001b[0m\u001b[0;34m\u001b[0m\u001b[0m\n\u001b[1;32m    177\u001b[0m             \u001b[0;31m# we require a list, but not a 'str'\u001b[0m\u001b[0;34m\u001b[0m\u001b[0;34m\u001b[0m\u001b[0m\n",
            "\u001b[0;32m/usr/local/lib/python3.10/dist-packages/pandas/core/apply.py\u001b[0m in \u001b[0;36magg_dict_like\u001b[0;34m(self)\u001b[0m\n\u001b[1;32m    404\u001b[0m         \u001b[0mResult\u001b[0m \u001b[0mof\u001b[0m \u001b[0maggregation\u001b[0m\u001b[0;34m.\u001b[0m\u001b[0;34m\u001b[0m\u001b[0;34m\u001b[0m\u001b[0m\n\u001b[1;32m    405\u001b[0m         \"\"\"\n\u001b[0;32m--> 406\u001b[0;31m         \u001b[0;32mreturn\u001b[0m \u001b[0mself\u001b[0m\u001b[0;34m.\u001b[0m\u001b[0magg_or_apply_dict_like\u001b[0m\u001b[0;34m(\u001b[0m\u001b[0mop_name\u001b[0m\u001b[0;34m=\u001b[0m\u001b[0;34m\"agg\"\u001b[0m\u001b[0;34m)\u001b[0m\u001b[0;34m\u001b[0m\u001b[0;34m\u001b[0m\u001b[0m\n\u001b[0m\u001b[1;32m    407\u001b[0m \u001b[0;34m\u001b[0m\u001b[0m\n\u001b[1;32m    408\u001b[0m     def compute_dict_like(\n",
            "\u001b[0;32m/usr/local/lib/python3.10/dist-packages/pandas/core/apply.py\u001b[0m in \u001b[0;36magg_or_apply_dict_like\u001b[0;34m(self, op_name)\u001b[0m\n\u001b[1;32m   1388\u001b[0m             \u001b[0mobj\u001b[0m\u001b[0;34m,\u001b[0m \u001b[0;34m\"as_index\"\u001b[0m\u001b[0;34m,\u001b[0m \u001b[0;32mTrue\u001b[0m\u001b[0;34m,\u001b[0m \u001b[0mcondition\u001b[0m\u001b[0;34m=\u001b[0m\u001b[0mhasattr\u001b[0m\u001b[0;34m(\u001b[0m\u001b[0mobj\u001b[0m\u001b[0;34m,\u001b[0m \u001b[0;34m\"as_index\"\u001b[0m\u001b[0;34m)\u001b[0m\u001b[0;34m\u001b[0m\u001b[0;34m\u001b[0m\u001b[0m\n\u001b[1;32m   1389\u001b[0m         ):\n\u001b[0;32m-> 1390\u001b[0;31m             result_index, result_data = self.compute_dict_like(\n\u001b[0m\u001b[1;32m   1391\u001b[0m                 \u001b[0mop_name\u001b[0m\u001b[0;34m,\u001b[0m \u001b[0mselected_obj\u001b[0m\u001b[0;34m,\u001b[0m \u001b[0mselection\u001b[0m\u001b[0;34m,\u001b[0m \u001b[0mkwargs\u001b[0m\u001b[0;34m\u001b[0m\u001b[0;34m\u001b[0m\u001b[0m\n\u001b[1;32m   1392\u001b[0m             )\n",
            "\u001b[0;32m/usr/local/lib/python3.10/dist-packages/pandas/core/apply.py\u001b[0m in \u001b[0;36mcompute_dict_like\u001b[0;34m(self, op_name, selected_obj, selection, kwargs)\u001b[0m\n\u001b[1;32m    477\u001b[0m         \u001b[0;32melse\u001b[0m\u001b[0;34m:\u001b[0m\u001b[0;34m\u001b[0m\u001b[0;34m\u001b[0m\u001b[0m\n\u001b[1;32m    478\u001b[0m             \u001b[0;31m# key used for column selection and output\u001b[0m\u001b[0;34m\u001b[0m\u001b[0;34m\u001b[0m\u001b[0m\n\u001b[0;32m--> 479\u001b[0;31m             results = [\n\u001b[0m\u001b[1;32m    480\u001b[0m                 \u001b[0mgetattr\u001b[0m\u001b[0;34m(\u001b[0m\u001b[0mobj\u001b[0m\u001b[0;34m.\u001b[0m\u001b[0m_gotitem\u001b[0m\u001b[0;34m(\u001b[0m\u001b[0mkey\u001b[0m\u001b[0;34m,\u001b[0m \u001b[0mndim\u001b[0m\u001b[0;34m=\u001b[0m\u001b[0;36m1\u001b[0m\u001b[0;34m)\u001b[0m\u001b[0;34m,\u001b[0m \u001b[0mop_name\u001b[0m\u001b[0;34m)\u001b[0m\u001b[0;34m(\u001b[0m\u001b[0mhow\u001b[0m\u001b[0;34m,\u001b[0m \u001b[0;34m**\u001b[0m\u001b[0mkwargs\u001b[0m\u001b[0;34m)\u001b[0m\u001b[0;34m\u001b[0m\u001b[0;34m\u001b[0m\u001b[0m\n\u001b[1;32m    481\u001b[0m                 \u001b[0;32mfor\u001b[0m \u001b[0mkey\u001b[0m\u001b[0;34m,\u001b[0m \u001b[0mhow\u001b[0m \u001b[0;32min\u001b[0m \u001b[0mfunc\u001b[0m\u001b[0;34m.\u001b[0m\u001b[0mitems\u001b[0m\u001b[0;34m(\u001b[0m\u001b[0;34m)\u001b[0m\u001b[0;34m\u001b[0m\u001b[0;34m\u001b[0m\u001b[0m\n",
            "\u001b[0;32m/usr/local/lib/python3.10/dist-packages/pandas/core/apply.py\u001b[0m in \u001b[0;36m<listcomp>\u001b[0;34m(.0)\u001b[0m\n\u001b[1;32m    478\u001b[0m             \u001b[0;31m# key used for column selection and output\u001b[0m\u001b[0;34m\u001b[0m\u001b[0;34m\u001b[0m\u001b[0m\n\u001b[1;32m    479\u001b[0m             results = [\n\u001b[0;32m--> 480\u001b[0;31m                 \u001b[0mgetattr\u001b[0m\u001b[0;34m(\u001b[0m\u001b[0mobj\u001b[0m\u001b[0;34m.\u001b[0m\u001b[0m_gotitem\u001b[0m\u001b[0;34m(\u001b[0m\u001b[0mkey\u001b[0m\u001b[0;34m,\u001b[0m \u001b[0mndim\u001b[0m\u001b[0;34m=\u001b[0m\u001b[0;36m1\u001b[0m\u001b[0;34m)\u001b[0m\u001b[0;34m,\u001b[0m \u001b[0mop_name\u001b[0m\u001b[0;34m)\u001b[0m\u001b[0;34m(\u001b[0m\u001b[0mhow\u001b[0m\u001b[0;34m,\u001b[0m \u001b[0;34m**\u001b[0m\u001b[0mkwargs\u001b[0m\u001b[0;34m)\u001b[0m\u001b[0;34m\u001b[0m\u001b[0;34m\u001b[0m\u001b[0m\n\u001b[0m\u001b[1;32m    481\u001b[0m                 \u001b[0;32mfor\u001b[0m \u001b[0mkey\u001b[0m\u001b[0;34m,\u001b[0m \u001b[0mhow\u001b[0m \u001b[0;32min\u001b[0m \u001b[0mfunc\u001b[0m\u001b[0;34m.\u001b[0m\u001b[0mitems\u001b[0m\u001b[0;34m(\u001b[0m\u001b[0;34m)\u001b[0m\u001b[0;34m\u001b[0m\u001b[0;34m\u001b[0m\u001b[0m\n\u001b[1;32m    482\u001b[0m             ]\n",
            "\u001b[0;32m/usr/local/lib/python3.10/dist-packages/pandas/core/groupby/generic.py\u001b[0m in \u001b[0;36maggregate\u001b[0;34m(self, func, engine, engine_kwargs, *args, **kwargs)\u001b[0m\n\u001b[1;32m    287\u001b[0m \u001b[0;34m\u001b[0m\u001b[0m\n\u001b[1;32m    288\u001b[0m             \u001b[0;32mif\u001b[0m \u001b[0mself\u001b[0m\u001b[0;34m.\u001b[0m\u001b[0mgrouper\u001b[0m\u001b[0;34m.\u001b[0m\u001b[0mnkeys\u001b[0m \u001b[0;34m>\u001b[0m \u001b[0;36m1\u001b[0m\u001b[0;34m:\u001b[0m\u001b[0;34m\u001b[0m\u001b[0;34m\u001b[0m\u001b[0m\n\u001b[0;32m--> 289\u001b[0;31m                 \u001b[0;32mreturn\u001b[0m \u001b[0mself\u001b[0m\u001b[0;34m.\u001b[0m\u001b[0m_python_agg_general\u001b[0m\u001b[0;34m(\u001b[0m\u001b[0mfunc\u001b[0m\u001b[0;34m,\u001b[0m \u001b[0;34m*\u001b[0m\u001b[0margs\u001b[0m\u001b[0;34m,\u001b[0m \u001b[0;34m**\u001b[0m\u001b[0mkwargs\u001b[0m\u001b[0;34m)\u001b[0m\u001b[0;34m\u001b[0m\u001b[0;34m\u001b[0m\u001b[0m\n\u001b[0m\u001b[1;32m    290\u001b[0m \u001b[0;34m\u001b[0m\u001b[0m\n\u001b[1;32m    291\u001b[0m             \u001b[0;32mtry\u001b[0m\u001b[0;34m:\u001b[0m\u001b[0;34m\u001b[0m\u001b[0;34m\u001b[0m\u001b[0m\n",
            "\u001b[0;32m/usr/local/lib/python3.10/dist-packages/pandas/core/groupby/generic.py\u001b[0m in \u001b[0;36m_python_agg_general\u001b[0;34m(self, func, *args, **kwargs)\u001b[0m\n\u001b[1;32m    323\u001b[0m \u001b[0;34m\u001b[0m\u001b[0m\n\u001b[1;32m    324\u001b[0m         \u001b[0mobj\u001b[0m \u001b[0;34m=\u001b[0m \u001b[0mself\u001b[0m\u001b[0;34m.\u001b[0m\u001b[0m_obj_with_exclusions\u001b[0m\u001b[0;34m\u001b[0m\u001b[0;34m\u001b[0m\u001b[0m\n\u001b[0;32m--> 325\u001b[0;31m         \u001b[0mresult\u001b[0m \u001b[0;34m=\u001b[0m \u001b[0mself\u001b[0m\u001b[0;34m.\u001b[0m\u001b[0mgrouper\u001b[0m\u001b[0;34m.\u001b[0m\u001b[0magg_series\u001b[0m\u001b[0;34m(\u001b[0m\u001b[0mobj\u001b[0m\u001b[0;34m,\u001b[0m \u001b[0mf\u001b[0m\u001b[0;34m)\u001b[0m\u001b[0;34m\u001b[0m\u001b[0;34m\u001b[0m\u001b[0m\n\u001b[0m\u001b[1;32m    326\u001b[0m         \u001b[0mres\u001b[0m \u001b[0;34m=\u001b[0m \u001b[0mobj\u001b[0m\u001b[0;34m.\u001b[0m\u001b[0m_constructor\u001b[0m\u001b[0;34m(\u001b[0m\u001b[0mresult\u001b[0m\u001b[0;34m,\u001b[0m \u001b[0mname\u001b[0m\u001b[0;34m=\u001b[0m\u001b[0mobj\u001b[0m\u001b[0;34m.\u001b[0m\u001b[0mname\u001b[0m\u001b[0;34m)\u001b[0m\u001b[0;34m\u001b[0m\u001b[0;34m\u001b[0m\u001b[0m\n\u001b[1;32m    327\u001b[0m         \u001b[0;32mreturn\u001b[0m \u001b[0mself\u001b[0m\u001b[0;34m.\u001b[0m\u001b[0m_wrap_aggregated_output\u001b[0m\u001b[0;34m(\u001b[0m\u001b[0mres\u001b[0m\u001b[0;34m)\u001b[0m\u001b[0;34m\u001b[0m\u001b[0;34m\u001b[0m\u001b[0m\n",
            "\u001b[0;32m/usr/local/lib/python3.10/dist-packages/pandas/core/groupby/ops.py\u001b[0m in \u001b[0;36magg_series\u001b[0;34m(self, obj, func, preserve_dtype)\u001b[0m\n\u001b[1;32m    847\u001b[0m             \u001b[0mpreserve_dtype\u001b[0m \u001b[0;34m=\u001b[0m \u001b[0;32mTrue\u001b[0m\u001b[0;34m\u001b[0m\u001b[0;34m\u001b[0m\u001b[0m\n\u001b[1;32m    848\u001b[0m \u001b[0;34m\u001b[0m\u001b[0m\n\u001b[0;32m--> 849\u001b[0;31m         \u001b[0mresult\u001b[0m \u001b[0;34m=\u001b[0m \u001b[0mself\u001b[0m\u001b[0;34m.\u001b[0m\u001b[0m_aggregate_series_pure_python\u001b[0m\u001b[0;34m(\u001b[0m\u001b[0mobj\u001b[0m\u001b[0;34m,\u001b[0m \u001b[0mfunc\u001b[0m\u001b[0;34m)\u001b[0m\u001b[0;34m\u001b[0m\u001b[0;34m\u001b[0m\u001b[0m\n\u001b[0m\u001b[1;32m    850\u001b[0m \u001b[0;34m\u001b[0m\u001b[0m\n\u001b[1;32m    851\u001b[0m         \u001b[0;32mif\u001b[0m \u001b[0mlen\u001b[0m\u001b[0;34m(\u001b[0m\u001b[0mobj\u001b[0m\u001b[0;34m)\u001b[0m \u001b[0;34m==\u001b[0m \u001b[0;36m0\u001b[0m \u001b[0;32mand\u001b[0m \u001b[0mlen\u001b[0m\u001b[0;34m(\u001b[0m\u001b[0mresult\u001b[0m\u001b[0;34m)\u001b[0m \u001b[0;34m==\u001b[0m \u001b[0;36m0\u001b[0m \u001b[0;32mand\u001b[0m \u001b[0misinstance\u001b[0m\u001b[0;34m(\u001b[0m\u001b[0mobj\u001b[0m\u001b[0;34m.\u001b[0m\u001b[0mdtype\u001b[0m\u001b[0;34m,\u001b[0m \u001b[0mExtensionDtype\u001b[0m\u001b[0;34m)\u001b[0m\u001b[0;34m:\u001b[0m\u001b[0;34m\u001b[0m\u001b[0;34m\u001b[0m\u001b[0m\n",
            "\u001b[0;32m/usr/local/lib/python3.10/dist-packages/pandas/core/groupby/ops.py\u001b[0m in \u001b[0;36m_aggregate_series_pure_python\u001b[0;34m(self, obj, func)\u001b[0m\n\u001b[1;32m    875\u001b[0m \u001b[0;34m\u001b[0m\u001b[0m\n\u001b[1;32m    876\u001b[0m         \u001b[0;32mfor\u001b[0m \u001b[0mi\u001b[0m\u001b[0;34m,\u001b[0m \u001b[0mgroup\u001b[0m \u001b[0;32min\u001b[0m \u001b[0menumerate\u001b[0m\u001b[0;34m(\u001b[0m\u001b[0msplitter\u001b[0m\u001b[0;34m)\u001b[0m\u001b[0;34m:\u001b[0m\u001b[0;34m\u001b[0m\u001b[0;34m\u001b[0m\u001b[0m\n\u001b[0;32m--> 877\u001b[0;31m             \u001b[0mres\u001b[0m \u001b[0;34m=\u001b[0m \u001b[0mfunc\u001b[0m\u001b[0;34m(\u001b[0m\u001b[0mgroup\u001b[0m\u001b[0;34m)\u001b[0m\u001b[0;34m\u001b[0m\u001b[0;34m\u001b[0m\u001b[0m\n\u001b[0m\u001b[1;32m    878\u001b[0m             \u001b[0mres\u001b[0m \u001b[0;34m=\u001b[0m \u001b[0mextract_result\u001b[0m\u001b[0;34m(\u001b[0m\u001b[0mres\u001b[0m\u001b[0;34m)\u001b[0m\u001b[0;34m\u001b[0m\u001b[0;34m\u001b[0m\u001b[0m\n\u001b[1;32m    879\u001b[0m \u001b[0;34m\u001b[0m\u001b[0m\n",
            "\u001b[0;32m/usr/local/lib/python3.10/dist-packages/pandas/core/groupby/generic.py\u001b[0m in \u001b[0;36m<lambda>\u001b[0;34m(x)\u001b[0m\n\u001b[1;32m    320\u001b[0m             \u001b[0malias\u001b[0m \u001b[0;34m=\u001b[0m \u001b[0mcom\u001b[0m\u001b[0;34m.\u001b[0m\u001b[0m_builtin_table_alias\u001b[0m\u001b[0;34m[\u001b[0m\u001b[0mfunc\u001b[0m\u001b[0;34m]\u001b[0m\u001b[0;34m\u001b[0m\u001b[0;34m\u001b[0m\u001b[0m\n\u001b[1;32m    321\u001b[0m             \u001b[0mwarn_alias_replacement\u001b[0m\u001b[0;34m(\u001b[0m\u001b[0mself\u001b[0m\u001b[0;34m,\u001b[0m \u001b[0morig_func\u001b[0m\u001b[0;34m,\u001b[0m \u001b[0malias\u001b[0m\u001b[0;34m)\u001b[0m\u001b[0;34m\u001b[0m\u001b[0;34m\u001b[0m\u001b[0m\n\u001b[0;32m--> 322\u001b[0;31m         \u001b[0mf\u001b[0m \u001b[0;34m=\u001b[0m \u001b[0;32mlambda\u001b[0m \u001b[0mx\u001b[0m\u001b[0;34m:\u001b[0m \u001b[0mfunc\u001b[0m\u001b[0;34m(\u001b[0m\u001b[0mx\u001b[0m\u001b[0;34m,\u001b[0m \u001b[0;34m*\u001b[0m\u001b[0margs\u001b[0m\u001b[0;34m,\u001b[0m \u001b[0;34m**\u001b[0m\u001b[0mkwargs\u001b[0m\u001b[0;34m)\u001b[0m\u001b[0;34m\u001b[0m\u001b[0;34m\u001b[0m\u001b[0m\n\u001b[0m\u001b[1;32m    323\u001b[0m \u001b[0;34m\u001b[0m\u001b[0m\n\u001b[1;32m    324\u001b[0m         \u001b[0mobj\u001b[0m \u001b[0;34m=\u001b[0m \u001b[0mself\u001b[0m\u001b[0;34m.\u001b[0m\u001b[0m_obj_with_exclusions\u001b[0m\u001b[0;34m\u001b[0m\u001b[0;34m\u001b[0m\u001b[0m\n",
            "\u001b[0;32m<ipython-input-22-c26a620a7598>\u001b[0m in \u001b[0;36maverage_embeddings\u001b[0;34m(group)\u001b[0m\n\u001b[1;32m      9\u001b[0m         \u001b[0;32mdef\u001b[0m \u001b[0maverage_embeddings\u001b[0m\u001b[0;34m(\u001b[0m\u001b[0mgroup\u001b[0m\u001b[0;34m)\u001b[0m\u001b[0;34m:\u001b[0m\u001b[0;34m\u001b[0m\u001b[0;34m\u001b[0m\u001b[0m\n\u001b[1;32m     10\u001b[0m             \u001b[0mprint\u001b[0m\u001b[0;34m(\u001b[0m\u001b[0mgroup\u001b[0m\u001b[0;34m.\u001b[0m\u001b[0mhead\u001b[0m\u001b[0;34m(\u001b[0m\u001b[0;34m)\u001b[0m\u001b[0;34m)\u001b[0m\u001b[0;34m\u001b[0m\u001b[0;34m\u001b[0m\u001b[0m\n\u001b[0;32m---> 11\u001b[0;31m             \u001b[0membeddings\u001b[0m \u001b[0;34m=\u001b[0m \u001b[0mnp\u001b[0m\u001b[0;34m.\u001b[0m\u001b[0mstack\u001b[0m\u001b[0;34m(\u001b[0m\u001b[0mgroup\u001b[0m\u001b[0;34m[\u001b[0m\u001b[0;34m'Embeddings'\u001b[0m\u001b[0;34m]\u001b[0m\u001b[0;34m)\u001b[0m\u001b[0;34m\u001b[0m\u001b[0;34m\u001b[0m\u001b[0m\n\u001b[0m\u001b[1;32m     12\u001b[0m             \u001b[0;32mreturn\u001b[0m \u001b[0mnp\u001b[0m\u001b[0;34m.\u001b[0m\u001b[0mmean\u001b[0m\u001b[0;34m(\u001b[0m\u001b[0membeddings\u001b[0m\u001b[0;34m,\u001b[0m \u001b[0maxis\u001b[0m\u001b[0;34m=\u001b[0m\u001b[0;36m0\u001b[0m\u001b[0;34m)\u001b[0m\u001b[0;34m\u001b[0m\u001b[0;34m\u001b[0m\u001b[0m\n\u001b[1;32m     13\u001b[0m \u001b[0;34m\u001b[0m\u001b[0m\n",
            "\u001b[0;32m/usr/local/lib/python3.10/dist-packages/pandas/core/series.py\u001b[0m in \u001b[0;36m__getitem__\u001b[0;34m(self, key)\u001b[0m\n\u001b[1;32m   1038\u001b[0m \u001b[0;34m\u001b[0m\u001b[0m\n\u001b[1;32m   1039\u001b[0m         \u001b[0;32melif\u001b[0m \u001b[0mkey_is_scalar\u001b[0m\u001b[0;34m:\u001b[0m\u001b[0;34m\u001b[0m\u001b[0;34m\u001b[0m\u001b[0m\n\u001b[0;32m-> 1040\u001b[0;31m             \u001b[0;32mreturn\u001b[0m \u001b[0mself\u001b[0m\u001b[0;34m.\u001b[0m\u001b[0m_get_value\u001b[0m\u001b[0;34m(\u001b[0m\u001b[0mkey\u001b[0m\u001b[0;34m)\u001b[0m\u001b[0;34m\u001b[0m\u001b[0;34m\u001b[0m\u001b[0m\n\u001b[0m\u001b[1;32m   1041\u001b[0m \u001b[0;34m\u001b[0m\u001b[0m\n\u001b[1;32m   1042\u001b[0m         \u001b[0;31m# Convert generator to list before going through hashable part\u001b[0m\u001b[0;34m\u001b[0m\u001b[0;34m\u001b[0m\u001b[0m\n",
            "\u001b[0;32m/usr/local/lib/python3.10/dist-packages/pandas/core/series.py\u001b[0m in \u001b[0;36m_get_value\u001b[0;34m(self, label, takeable)\u001b[0m\n\u001b[1;32m   1154\u001b[0m \u001b[0;34m\u001b[0m\u001b[0m\n\u001b[1;32m   1155\u001b[0m         \u001b[0;31m# Similar to Index.get_value, but we do not fall back to positional\u001b[0m\u001b[0;34m\u001b[0m\u001b[0;34m\u001b[0m\u001b[0m\n\u001b[0;32m-> 1156\u001b[0;31m         \u001b[0mloc\u001b[0m \u001b[0;34m=\u001b[0m \u001b[0mself\u001b[0m\u001b[0;34m.\u001b[0m\u001b[0mindex\u001b[0m\u001b[0;34m.\u001b[0m\u001b[0mget_loc\u001b[0m\u001b[0;34m(\u001b[0m\u001b[0mlabel\u001b[0m\u001b[0;34m)\u001b[0m\u001b[0;34m\u001b[0m\u001b[0;34m\u001b[0m\u001b[0m\n\u001b[0m\u001b[1;32m   1157\u001b[0m \u001b[0;34m\u001b[0m\u001b[0m\n\u001b[1;32m   1158\u001b[0m         \u001b[0;32mif\u001b[0m \u001b[0mis_integer\u001b[0m\u001b[0;34m(\u001b[0m\u001b[0mloc\u001b[0m\u001b[0;34m)\u001b[0m\u001b[0;34m:\u001b[0m\u001b[0;34m\u001b[0m\u001b[0;34m\u001b[0m\u001b[0m\n",
            "\u001b[0;32m/usr/local/lib/python3.10/dist-packages/pandas/core/indexes/base.py\u001b[0m in \u001b[0;36mget_loc\u001b[0;34m(self, key)\u001b[0m\n\u001b[1;32m   3796\u001b[0m             ):\n\u001b[1;32m   3797\u001b[0m                 \u001b[0;32mraise\u001b[0m \u001b[0mInvalidIndexError\u001b[0m\u001b[0;34m(\u001b[0m\u001b[0mkey\u001b[0m\u001b[0;34m)\u001b[0m\u001b[0;34m\u001b[0m\u001b[0;34m\u001b[0m\u001b[0m\n\u001b[0;32m-> 3798\u001b[0;31m             \u001b[0;32mraise\u001b[0m \u001b[0mKeyError\u001b[0m\u001b[0;34m(\u001b[0m\u001b[0mkey\u001b[0m\u001b[0;34m)\u001b[0m \u001b[0;32mfrom\u001b[0m \u001b[0merr\u001b[0m\u001b[0;34m\u001b[0m\u001b[0;34m\u001b[0m\u001b[0m\n\u001b[0m\u001b[1;32m   3799\u001b[0m         \u001b[0;32mexcept\u001b[0m \u001b[0mTypeError\u001b[0m\u001b[0;34m:\u001b[0m\u001b[0;34m\u001b[0m\u001b[0;34m\u001b[0m\u001b[0m\n\u001b[1;32m   3800\u001b[0m             \u001b[0;31m# If we have a listlike key, _check_indexing_error will raise\u001b[0m\u001b[0;34m\u001b[0m\u001b[0;34m\u001b[0m\u001b[0m\n",
            "\u001b[0;31mKeyError\u001b[0m: 'Embeddings'"
          ]
        }
      ]
    },
    {
      "cell_type": "code",
      "source": [
        "def process_subfolder(subfolder_group):\n",
        "    \"\"\"Process each subfolder group.\"\"\"\n",
        "    processed_subfolder = []\n",
        "\n",
        "    # Group by file_name within each subfolder\n",
        "    for file_name, file_group in subfolder_group.groupby('file_name'):\n",
        "        # Check if the 'Embeddings' column exists in the file group\n",
        "        if 'Embeddings' in file_group.columns:\n",
        "            # Convert embeddings to NumPy arrays of floats\n",
        "            try:\n",
        "                embeddings = np.stack(file_group['Embeddings'].apply(lambda x: np.fromstring(x.strip('[]'), sep=' ') if isinstance(x, str) else x))\n",
        "                # Compute the average embedding for each file_name within the subfolder\n",
        "                average_embedding = np.mean(embeddings, axis=0)\n",
        "\n",
        "                # Create a DataFrame row with the subfolder, file_name, and average embedding\n",
        "                result_row = pd.DataFrame({\n",
        "                    'subfolder': [file_group['subfolder'].iloc[0]],  # Use iloc[0] to get the subfolder value\n",
        "                    'file_name': [file_name],\n",
        "                    'Average_Embedding': [average_embedding]\n",
        "                })\n",
        "\n",
        "                processed_subfolder.append(result_row)\n",
        "            except Exception as e:\n",
        "                print(f\"Error processing file group: {file_name} in subfolder {file_group['subfolder'].iloc[0]} - {e}\")\n",
        "        else:\n",
        "            print(\"Warning: 'Embeddings' column not found in this file group.\")\n",
        "\n",
        "    # Concatenate all processed file groups into a single DataFrame for the subfolder\n",
        "    if processed_subfolder:\n",
        "        return pd.concat(processed_subfolder, ignore_index=True)\n",
        "    else:\n",
        "        return pd.DataFrame()  # Return an empty DataFrame if no embeddings are found\n",
        "\n",
        "# Initialize an empty list to store the processed results\n",
        "final_result = []\n",
        "\n",
        "# Process the DataFrame by subfolder\n",
        "for subfolder, subfolder_group in df2.groupby('subfolder'):\n",
        "    processed_subfolder = process_subfolder(subfolder_group)\n",
        "    # Append the processed subfolder to the final result list\n",
        "    if not processed_subfolder.empty:\n",
        "        final_result.append(processed_subfolder)\n",
        "\n",
        "# Concatenate all processed subfolder DataFrames into a single DataFrame\n",
        "result_df = pd.concat(final_result, ignore_index=True)\n",
        "\n",
        "# Display the result DataFrame\n",
        "print(result_df)"
      ],
      "metadata": {
        "colab": {
          "base_uri": "https://localhost:8080/"
        },
        "id": "-fOMKBGUd9J5",
        "outputId": "86ba91d2-a6fd-4e2d-81dc-7818b024d1b1"
      },
      "execution_count": null,
      "outputs": [
        {
          "output_type": "stream",
          "name": "stderr",
          "text": [
            "<ipython-input-17-2b98e83b24a3>:11: DeprecationWarning: string or file could not be read to its end due to unmatched data; this will raise a ValueError in the future.\n",
            "  embeddings = np.stack(file_group['Embeddings'].apply(lambda x: np.fromstring(x.strip('[]'), sep=' ') if isinstance(x, str) else x))\n"
          ]
        },
        {
          "output_type": "stream",
          "name": "stdout",
          "text": [
            "Error processing file group: 2014-10-31_10-Q.txt in subfolder 1000697 - all input arrays must have the same shape\n",
            "       subfolder            file_name Average_Embedding\n",
            "0           1800  2007-02-23_10-K.txt               NaN\n",
            "1           1800  2008-02-19_10-K.txt               NaN\n",
            "2           1800  2009-02-20_10-K.txt               NaN\n",
            "3           1800  2010-02-19_10-K.txt               NaN\n",
            "4           1800  2011-02-18_10-K.txt               NaN\n",
            "...          ...                  ...               ...\n",
            "19041    1835632  2022-08-26_10-Q.txt               NaN\n",
            "19042    1835632  2022-12-02_10-Q.txt               NaN\n",
            "19043    1835632  2023-03-09_10-K.txt               NaN\n",
            "19044    1835632  2023-05-26_10-Q.txt               NaN\n",
            "19045    1835632  2023-08-25_10-Q.txt               NaN\n",
            "\n",
            "[19046 rows x 3 columns]\n"
          ]
        }
      ]
    }
  ]
}